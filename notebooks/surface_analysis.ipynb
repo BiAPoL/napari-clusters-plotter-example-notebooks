{
 "cells": [
  {
   "cell_type": "code",
   "execution_count": 1,
   "id": "5d48e17b-942b-4351-824d-3c5521fe916d",
   "metadata": {},
   "outputs": [],
   "source": [
    "import napari\n",
    "import napari_clusters_plotter as ncp\n",
    "import napari_process_points_and_surfaces as nppas"
   ]
  },
  {
   "cell_type": "code",
   "execution_count": 2,
   "id": "412b62e0-723e-4c85-9c30-c33020e724ce",
   "metadata": {},
   "outputs": [
    {
     "name": "stderr",
     "output_type": "stream",
     "text": [
      "WARNING: DirectWrite: CreateFontFaceFromHDC() failed (Indicates an error in an input file such as a font file.) for QFontDef(Family=\"\", pointsize=12, pixelsize=16, styleHint=5, weight=50, stretch=100, hintingPreference=0) LOGFONT(\"MS Sans Serif\", lfWidth=0, lfHeight=-16) dpi=144\n"
     ]
    }
   ],
   "source": [
    "viewer = napari.Viewer(ndisplay=3)"
   ]
  },
  {
   "cell_type": "code",
   "execution_count": 3,
   "id": "1eadc192-19d6-4491-b294-30219337dbce",
   "metadata": {},
   "outputs": [
    {
     "name": "stdout",
     "output_type": "stream",
     "text": [
      "The nppas gastruloid example is derived from AV Luque and JV Veenvliet (2023) which is licensed CC-BY (https://creativecommons.org/licenses/by/4.0/legalcode) and can be downloaded from here: https://zenodo.org/record/7603081\n"
     ]
    }
   ],
   "source": [
    "gastruloid = nppas.gastruloid()"
   ]
  },
  {
   "cell_type": "code",
   "execution_count": 4,
   "id": "b16538dc-646b-4e2a-ad94-2279ddecc7d1",
   "metadata": {},
   "outputs": [],
   "source": [
    "surface_layer = viewer.add_surface(gastruloid)"
   ]
  },
  {
   "cell_type": "code",
   "execution_count": 5,
   "id": "2e8f7cc6-9a10-457a-afbf-94810306c3ed",
   "metadata": {},
   "outputs": [
    {
     "data": {
      "text/html": [
       "<div>\n",
       "<style scoped>\n",
       "    .dataframe tbody tr th:only-of-type {\n",
       "        vertical-align: middle;\n",
       "    }\n",
       "\n",
       "    .dataframe tbody tr th {\n",
       "        vertical-align: top;\n",
       "    }\n",
       "\n",
       "    .dataframe thead th {\n",
       "        text-align: right;\n",
       "    }\n",
       "</style>\n",
       "<table border=\"1\" class=\"dataframe\">\n",
       "  <thead>\n",
       "    <tr style=\"text-align: right;\">\n",
       "      <th></th>\n",
       "      <th>vertex_index</th>\n",
       "      <th>Quality.ASPECT_RATIO</th>\n",
       "      <th>Quality.AREA</th>\n",
       "    </tr>\n",
       "  </thead>\n",
       "  <tbody>\n",
       "    <tr>\n",
       "      <th>3319</th>\n",
       "      <td>3319</td>\n",
       "      <td>1.340802</td>\n",
       "      <td>25.079661</td>\n",
       "    </tr>\n",
       "    <tr>\n",
       "      <th>3320</th>\n",
       "      <td>3320</td>\n",
       "      <td>1.254924</td>\n",
       "      <td>47.213916</td>\n",
       "    </tr>\n",
       "    <tr>\n",
       "      <th>3321</th>\n",
       "      <td>3321</td>\n",
       "      <td>1.140267</td>\n",
       "      <td>35.964707</td>\n",
       "    </tr>\n",
       "    <tr>\n",
       "      <th>3322</th>\n",
       "      <td>3322</td>\n",
       "      <td>1.189562</td>\n",
       "      <td>45.673529</td>\n",
       "    </tr>\n",
       "    <tr>\n",
       "      <th>3323</th>\n",
       "      <td>3323</td>\n",
       "      <td>1.151230</td>\n",
       "      <td>30.105530</td>\n",
       "    </tr>\n",
       "  </tbody>\n",
       "</table>\n",
       "</div>"
      ],
      "text/plain": [
       "      vertex_index  Quality.ASPECT_RATIO  Quality.AREA\n",
       "3319          3319              1.340802     25.079661\n",
       "3320          3320              1.254924     47.213916\n",
       "3321          3321              1.140267     35.964707\n",
       "3322          3322              1.189562     45.673529\n",
       "3323          3323              1.151230     30.105530"
      ]
     },
     "execution_count": 5,
     "metadata": {},
     "output_type": "execute_result"
    }
   ],
   "source": [
    "\n",
    "\n",
    "requested_measurements = [nppas.Quality.ASPECT_RATIO, nppas.Quality.AREA]\n",
    "\n",
    "df = nppas.surface_quality_table(gastruloid, requested_measurements)\n",
    "df.tail(5)\n"
   ]
  },
  {
   "cell_type": "code",
   "execution_count": 6,
   "id": "20cc7410-7ea9-4974-ac88-f0091d23a15b",
   "metadata": {},
   "outputs": [],
   "source": [
    "surface_layer.properties = df.to_dict(orient='list')\n",
    "surface_layer.features = df"
   ]
  },
  {
   "cell_type": "code",
   "execution_count": 7,
   "id": "5ac0113c-8e73-4c2f-9445-b242deed6d12",
   "metadata": {},
   "outputs": [
    {
     "data": {
      "text/plain": [
       "True"
      ]
     },
     "execution_count": 7,
     "metadata": {},
     "output_type": "execute_result"
    }
   ],
   "source": [
    "type(surface_layer) is napari.layers.Surface"
   ]
  },
  {
   "cell_type": "code",
   "execution_count": 8,
   "id": "77178849-9135-4ebe-b73a-c7eaeb47b886",
   "metadata": {},
   "outputs": [
    {
     "data": {
      "text/plain": [
       "True"
      ]
     },
     "execution_count": 8,
     "metadata": {},
     "output_type": "execute_result"
    }
   ],
   "source": [
    "isinstance(surface_layer, napari.layers.Surface)"
   ]
  },
  {
   "cell_type": "code",
   "execution_count": 9,
   "id": "539fa5e8-d0ba-4dff-9e2c-e46786420dd8",
   "metadata": {},
   "outputs": [
    {
     "data": {
      "text/plain": [
       "Index(['vertex_index', 'Quality.ASPECT_RATIO', 'Quality.AREA'], dtype='object')"
      ]
     },
     "execution_count": 9,
     "metadata": {},
     "output_type": "execute_result"
    }
   ],
   "source": [
    "surface_layer.features.keys()"
   ]
  },
  {
   "cell_type": "code",
   "execution_count": 10,
   "id": "678d2b2b-2d60-4c0c-9b47-00306a8b5056",
   "metadata": {},
   "outputs": [
    {
     "data": {
      "text/plain": [
       "<napari._qt.widgets.qt_viewer_dock_widget.QtViewerDockWidget at 0x18b4773ab80>"
      ]
     },
     "execution_count": 10,
     "metadata": {},
     "output_type": "execute_result"
    }
   ],
   "source": [
    "viewer.window.add_dock_widget(ncp.PlotterWidget(viewer))"
   ]
  },
  {
   "cell_type": "code",
   "execution_count": null,
   "id": "d6f3d2bb-102d-4a4f-a8f9-2b2cf106543a",
   "metadata": {},
   "outputs": [],
   "source": []
  }
 ],
 "metadata": {
  "kernelspec": {
   "display_name": "Python 3 (ipykernel)",
   "language": "python",
   "name": "python3"
  },
  "language_info": {
   "codemirror_mode": {
    "name": "ipython",
    "version": 3
   },
   "file_extension": ".py",
   "mimetype": "text/x-python",
   "name": "python",
   "nbconvert_exporter": "python",
   "pygments_lexer": "ipython3",
   "version": "3.9.15"
  }
 },
 "nbformat": 4,
 "nbformat_minor": 5
}
