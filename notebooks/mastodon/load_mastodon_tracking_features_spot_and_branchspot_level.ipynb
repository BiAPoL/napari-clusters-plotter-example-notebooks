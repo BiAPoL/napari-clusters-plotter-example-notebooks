{
 "cells": [
  {
   "cell_type": "markdown",
   "metadata": {},
   "source": [
    "# Load Mastodon tracking data on spot and branch level into Napari to use with Napari Clusters Plotter"
   ]
  },
  {
   "cell_type": "markdown",
   "source": [
    "## Prerequisites\n",
    "\n",
    "Before running this notebook, the following steps need to be performed:\n",
    "* Due to a bug in Napari clusters plotter handling tracking data, it may be required to install the latest version of Napari clusters plotter:\n",
    "```\n",
    "mamba activate devbio-napari\n",
    "pip install git+https://github.com/BiAPoL/napari-clusters-plotter.git\n",
    "```\n",
    "* Compute features on Spot and BranchSpot Level in Mastodon\n",
    "  * Open \"Compute Features View\"\n",
    "  * Select all available Spot and Branch Spot features > Compute\n",
    "    * Wait until computation is finished\n",
    "* Compute relative movement for Spots and Branch Spots separately\n",
    "  * Plugins > Compute feature > Movement of spots relative to nearest neighbors\n",
    "* Export Spot and Branch Spot tables \n",
    "  * Open \"Table View\"\n",
    "  * Select BranchSpot \n",
    "  * File > Export to CSV\n",
    "  * Select Spot\n",
    "  * File > Export to CSV \n",
    "* Export label image from Mastodon\n",
    "  * Plugins > Exports > Export label image using ellipsoids\n",
    "  * Select \"Branch Spot ID\" as label id\n",
    "  * Select a frame reduction rate of 1\n",
    "    * Higher frame reduction rates are possible and may speed up analyses in napari clusters plotter\n",
    "    * If a frame reduction rate higher than 1 is used, a version of the intensity image would need to be created with the same frame reduction rate or no intensity image can be loaded into napari "
   ],
   "metadata": {
    "collapsed": false
   }
  },
  {
   "cell_type": "code",
   "execution_count": 11,
   "metadata": {
    "tags": [],
    "ExecuteTime": {
     "end_time": "2024-05-02T10:34:46.478971Z",
     "start_time": "2024-05-02T10:34:46.461717Z"
    }
   },
   "outputs": [],
   "source": [
    "from pathlib import Path\n",
    "import napari\n",
    "import pandas as pd\n",
    "from skimage.io import imread"
   ]
  },
  {
   "cell_type": "markdown",
   "metadata": {},
   "source": [
    "## Read tables from Mastodon"
   ]
  },
  {
   "cell_type": "markdown",
   "metadata": {},
   "source": [
    "#### Set path to tables\n",
    "Enter the path to the tables here. Within that folder, there should be two tables:\n",
    "* Spot.csv\n",
    "* BranchSpot.csv"
   ]
  },
  {
   "cell_type": "code",
   "execution_count": 12,
   "metadata": {
    "collapsed": false,
    "tags": [],
    "ExecuteTime": {
     "end_time": "2024-05-02T10:34:52.738926Z",
     "start_time": "2024-05-02T10:34:52.728580Z"
    }
   },
   "outputs": [],
   "source": [
    "tables_folder_path = ''"
   ]
  },
  {
   "cell_type": "markdown",
   "metadata": {},
   "source": [
    "#### Read tables from path\n",
    "Rows with NaN values are removed."
   ]
  },
  {
   "cell_type": "code",
   "execution_count": 13,
   "metadata": {
    "tags": [],
    "ExecuteTime": {
     "end_time": "2024-05-02T10:34:55.214166Z",
     "start_time": "2024-05-02T10:34:54.193949Z"
    }
   },
   "outputs": [],
   "source": [
    "spot_table_path = Path(tables_folder_path + '/Spot.csv')\n",
    "spot_table = pd.read_csv(spot_table_path, skiprows=[1,2], encoding='utf-8', low_memory=False)\n",
    "# remove rows with NaN values\n",
    "spot_table = spot_table.dropna()\n",
    "\n",
    "branch_spot_table_path = Path(tables_folder_path + '/BranchSpot.csv')\n",
    "branch_spot_table = pd.read_csv(branch_spot_table_path, skiprows=[1,2], encoding='utf-8', low_memory=False)\n",
    "# remove rows with NaN values\n",
    "branch_spot_table = branch_spot_table.dropna()"
   ]
  },
  {
   "cell_type": "markdown",
   "metadata": {},
   "source": [
    "#### Specify frame reduction factor\n",
    "The frame reduction factor is the factor by which the frame rate has been reduced in Mastodon. This is necessary to account for the fact that the label image has been exported with a reduced frame rate, while the spot table has been exported with the original frame rate.\n",
    "Specify here the same factor that has been used when exporting the label image from Mastodon"
   ]
  },
  {
   "cell_type": "code",
   "execution_count": 14,
   "metadata": {
    "collapsed": false,
    "tags": [],
    "ExecuteTime": {
     "end_time": "2024-05-02T10:34:56.605011Z",
     "start_time": "2024-05-02T10:34:56.592898Z"
    }
   },
   "outputs": [],
   "source": [
    "frame_reduction_factor = 1"
   ]
  },
  {
   "cell_type": "markdown",
   "source": [
    "#### Remove rows whose related frames are not in the label image"
   ],
   "metadata": {
    "collapsed": false
   }
  },
  {
   "cell_type": "code",
   "execution_count": 15,
   "metadata": {
    "collapsed": false,
    "tags": [],
    "ExecuteTime": {
     "end_time": "2024-05-02T10:34:59.161601Z",
     "start_time": "2024-05-02T10:34:59.132985Z"
    }
   },
   "outputs": [],
   "source": [
    "spot_table = spot_table[spot_table['Spot frame'] % frame_reduction_factor == 0]\n",
    "spot_table['Spot frame'] = spot_table['Spot frame'] / frame_reduction_factor\n",
    "spot_table['Spot frame'] = spot_table['Spot frame'].astype(int)"
   ]
  },
  {
   "cell_type": "markdown",
   "metadata": {},
   "source": [
    "#### Optionally print head of spot table to check if everything is ok"
   ]
  },
  {
   "cell_type": "code",
   "execution_count": 16,
   "metadata": {
    "tags": [],
    "ExecuteTime": {
     "end_time": "2024-05-02T10:35:01.611763Z",
     "start_time": "2024-05-02T10:35:01.594707Z"
    }
   },
   "outputs": [
    {
     "data": {
      "text/plain": "    Label  ID  Branch spot ID  Spot N links  Spot N links.1  Spot N links.2  \\\n4       4   4             491             1               2               1   \n16     16  16            2216             1               2               1   \n\n    Spot center intensity  Spot ellipsoid aspect ratios  \\\n4            13743.196682                      0.984351   \n16           16971.599822                      0.866112   \n\n    Spot ellipsoid aspect ratios.1  Spot ellipsoid aspect ratios.2  ...  \\\n4                         0.943851                        0.958856  ...   \n16                        0.506872                        0.585227  ...   \n\n    Detection.6  Division  Division.1  Division.2  Proliferator  \\\n4             0         0           0           0             1   \n16            0         0           0           0             0   \n\n    Proliferator.1  Proliferator.2  Status  Tracking  Tracking.1  \n4                0               0       0         1           0  \n16               0               1       0         1           0  \n\n[2 rows x 48 columns]",
      "text/html": "<div>\n<style scoped>\n    .dataframe tbody tr th:only-of-type {\n        vertical-align: middle;\n    }\n\n    .dataframe tbody tr th {\n        vertical-align: top;\n    }\n\n    .dataframe thead th {\n        text-align: right;\n    }\n</style>\n<table border=\"1\" class=\"dataframe\">\n  <thead>\n    <tr style=\"text-align: right;\">\n      <th></th>\n      <th>Label</th>\n      <th>ID</th>\n      <th>Branch spot ID</th>\n      <th>Spot N links</th>\n      <th>Spot N links.1</th>\n      <th>Spot N links.2</th>\n      <th>Spot center intensity</th>\n      <th>Spot ellipsoid aspect ratios</th>\n      <th>Spot ellipsoid aspect ratios.1</th>\n      <th>Spot ellipsoid aspect ratios.2</th>\n      <th>...</th>\n      <th>Detection.6</th>\n      <th>Division</th>\n      <th>Division.1</th>\n      <th>Division.2</th>\n      <th>Proliferator</th>\n      <th>Proliferator.1</th>\n      <th>Proliferator.2</th>\n      <th>Status</th>\n      <th>Tracking</th>\n      <th>Tracking.1</th>\n    </tr>\n  </thead>\n  <tbody>\n    <tr>\n      <th>4</th>\n      <td>4</td>\n      <td>4</td>\n      <td>491</td>\n      <td>1</td>\n      <td>2</td>\n      <td>1</td>\n      <td>13743.196682</td>\n      <td>0.984351</td>\n      <td>0.943851</td>\n      <td>0.958856</td>\n      <td>...</td>\n      <td>0</td>\n      <td>0</td>\n      <td>0</td>\n      <td>0</td>\n      <td>1</td>\n      <td>0</td>\n      <td>0</td>\n      <td>0</td>\n      <td>1</td>\n      <td>0</td>\n    </tr>\n    <tr>\n      <th>16</th>\n      <td>16</td>\n      <td>16</td>\n      <td>2216</td>\n      <td>1</td>\n      <td>2</td>\n      <td>1</td>\n      <td>16971.599822</td>\n      <td>0.866112</td>\n      <td>0.506872</td>\n      <td>0.585227</td>\n      <td>...</td>\n      <td>0</td>\n      <td>0</td>\n      <td>0</td>\n      <td>0</td>\n      <td>0</td>\n      <td>0</td>\n      <td>1</td>\n      <td>0</td>\n      <td>1</td>\n      <td>0</td>\n    </tr>\n  </tbody>\n</table>\n<p>2 rows × 48 columns</p>\n</div>"
     },
     "execution_count": 16,
     "metadata": {},
     "output_type": "execute_result"
    }
   ],
   "source": [
    "spot_table.head(2)"
   ]
  },
  {
   "cell_type": "markdown",
   "metadata": {},
   "source": [
    "#### Optionally print head of branch spot table to check if everything is ok"
   ]
  },
  {
   "cell_type": "code",
   "execution_count": 17,
   "metadata": {
    "tags": [],
    "ExecuteTime": {
     "end_time": "2024-05-02T10:35:05.447584Z",
     "start_time": "2024-05-02T10:35:05.432815Z"
    }
   },
   "outputs": [
    {
     "data": {
      "text/plain": "   Label  ID  Branch Average Movement  Branch Movement Direction  \\\n0  50644   0                 0.845989                   0.888329   \n1  28749   1                 0.785019                  -0.840221   \n\n   Branch Movement Direction.1  Branch Movement Direction.2  \\\n0                     0.458005                    -0.033209   \n1                     0.491131                    -0.229825   \n\n   Branch N Successors and Predecessors  \\\n0                                     2   \n1                                     2   \n\n   Branch N Successors and Predecessors.1  Branch N leaves  Branch N spots  \\\n0                                       0                2             283   \n1                                       0                2             176   \n\n   ...  Detection.6  Division  Division.1  Division.2  Proliferator  \\\n0  ...            0         0           0           0             1   \n1  ...            0         0           0           0             1   \n\n   Proliferator.1  Proliferator.2  Status  Tracking  Tracking.1  \n0               0               0       1         1           0  \n1               0               0       1         1           0  \n\n[2 rows x 36 columns]",
      "text/html": "<div>\n<style scoped>\n    .dataframe tbody tr th:only-of-type {\n        vertical-align: middle;\n    }\n\n    .dataframe tbody tr th {\n        vertical-align: top;\n    }\n\n    .dataframe thead th {\n        text-align: right;\n    }\n</style>\n<table border=\"1\" class=\"dataframe\">\n  <thead>\n    <tr style=\"text-align: right;\">\n      <th></th>\n      <th>Label</th>\n      <th>ID</th>\n      <th>Branch Average Movement</th>\n      <th>Branch Movement Direction</th>\n      <th>Branch Movement Direction.1</th>\n      <th>Branch Movement Direction.2</th>\n      <th>Branch N Successors and Predecessors</th>\n      <th>Branch N Successors and Predecessors.1</th>\n      <th>Branch N leaves</th>\n      <th>Branch N spots</th>\n      <th>...</th>\n      <th>Detection.6</th>\n      <th>Division</th>\n      <th>Division.1</th>\n      <th>Division.2</th>\n      <th>Proliferator</th>\n      <th>Proliferator.1</th>\n      <th>Proliferator.2</th>\n      <th>Status</th>\n      <th>Tracking</th>\n      <th>Tracking.1</th>\n    </tr>\n  </thead>\n  <tbody>\n    <tr>\n      <th>0</th>\n      <td>50644</td>\n      <td>0</td>\n      <td>0.845989</td>\n      <td>0.888329</td>\n      <td>0.458005</td>\n      <td>-0.033209</td>\n      <td>2</td>\n      <td>0</td>\n      <td>2</td>\n      <td>283</td>\n      <td>...</td>\n      <td>0</td>\n      <td>0</td>\n      <td>0</td>\n      <td>0</td>\n      <td>1</td>\n      <td>0</td>\n      <td>0</td>\n      <td>1</td>\n      <td>1</td>\n      <td>0</td>\n    </tr>\n    <tr>\n      <th>1</th>\n      <td>28749</td>\n      <td>1</td>\n      <td>0.785019</td>\n      <td>-0.840221</td>\n      <td>0.491131</td>\n      <td>-0.229825</td>\n      <td>2</td>\n      <td>0</td>\n      <td>2</td>\n      <td>176</td>\n      <td>...</td>\n      <td>0</td>\n      <td>0</td>\n      <td>0</td>\n      <td>0</td>\n      <td>1</td>\n      <td>0</td>\n      <td>0</td>\n      <td>1</td>\n      <td>1</td>\n      <td>0</td>\n    </tr>\n  </tbody>\n</table>\n<p>2 rows × 36 columns</p>\n</div>"
     },
     "execution_count": 17,
     "metadata": {},
     "output_type": "execute_result"
    }
   ],
   "source": [
    "branch_spot_table.head(2)"
   ]
  },
  {
   "cell_type": "markdown",
   "metadata": {},
   "source": [
    "## Change tables to match napari-clusters-plotter standards\n",
    "Mastodon 'label' column needs to be removed from both tables. The spot table needs to be extended with a frame column and a label column.\n",
    "The branch spot table needs to be extended with a label column."
   ]
  },
  {
   "cell_type": "code",
   "execution_count": 18,
   "metadata": {
    "tags": [],
    "ExecuteTime": {
     "end_time": "2024-05-02T10:35:09.336858Z",
     "start_time": "2024-05-02T10:35:09.297180Z"
    }
   },
   "outputs": [],
   "source": [
    "# Remove Label column from Mastodon tables\n",
    "spot_table = spot_table.drop(columns=['Label'])\n",
    "branch_spot_table = branch_spot_table.drop(columns=['Label'])\n",
    "\n",
    "# Add frame and label column to spot table\n",
    "spot_table['frame'] = spot_table['Spot frame'].astype(int)\n",
    "spot_table['label'] = spot_table['Branch spot ID'].astype(int) + 1 # Turning branch spot ids into labels, NB: + 1 needs to be added, since the ids are counted one based in the respective Mastodon export plugin\n",
    "\n",
    "# Add a column 'Branch spot ID' to allow table merging\n",
    "branch_spot_table['label'] = branch_spot_table['ID'].astype(int) + 1 # Turning branch spot ids into labels, NB: + 1 needs to be added, since the ids are counted one based in the respective Mastodon"
   ]
  },
  {
   "cell_type": "markdown",
   "metadata": {},
   "source": [
    "### Currently available Branch spot features:\n",
    "* label\n",
    "* Branch Average Movement\n",
    "* Branch Movement Direction (X)\n",
    "* Branch Movement Direction.1 (Y)\n",
    "* Branch Movement Direction.2 (Z)\n",
    "* Branch N Successors and Predecessors (successors)\n",
    "* Branch N Successors and Predecessors.1 predecessors (predecessors)\n",
    "* Branch Sinuosity\n",
    "* Branch duration and displacement (displacement)\n",
    "* Branch duration and displacement.1 (duration)\n",
    "* Branch Relative Movement (x-component)\n",
    "* Branch Relative Movement.1 (y-component)\n",
    "* Branch Relative Movement.2 (z-component)\n",
    "* Branch Relative Movement.3 (average speed relative to 5 nearest neighbors)\n",
    "* Cell Division Frequency\n",
    "### Currently available Branch spot features:\n",
    "* label \n",
    "* Spot center intensity\n",
    "* Spot ellipsoid aspect ratios (a_b)\n",
    "* Spot ellipsoid aspect ratios.1 (a_c)\n",
    "* Spot ellipsoid aspect ratios.2 (b_c)\n",
    "* Spot ellipsoid properties (a)\n",
    "* Spot ellipsoid properties.1 (b)\n",
    "* Spot ellipsoid properties.2 (c)\n",
    "* Spot ellipsoid properties.3 (v)\n",
    "* Spot frame (frame)\n",
    "* Spot intensity (mean)\n",
    "* Spot intensity.1 (std)\n",
    "* Spot intensity.2 (min)\n",
    "* Spot intensity.3 (max)\n",
    "* Spot intensity.4 (median)\n",
    "* Spot intensity.5 (sum)\n",
    "* Spot position (x)\n",
    "* Spot position.1 (y)\n",
    "* Spot position.2 (z)\n",
    "* Spot relative movement (x)\n",
    "* Spot relative movement.1 (y)\n",
    "* Spot relative movement.2 (z)\n",
    "* Spot relative movement.3 (distance)"
   ]
  },
  {
   "cell_type": "markdown",
   "metadata": {},
   "source": [
    "### Merge spot table and branch spot table"
   ]
  },
  {
   "cell_type": "code",
   "execution_count": 19,
   "metadata": {
    "collapsed": false,
    "tags": [],
    "ExecuteTime": {
     "end_time": "2024-05-02T10:35:15.451386Z",
     "start_time": "2024-05-02T10:35:15.271409Z"
    }
   },
   "outputs": [
    {
     "data": {
      "text/plain": "   ID_spot  Branch spot ID  Spot N links  Spot N links.1  Spot N links.2  \\\n0        4             491             1               2               1   \n1    26323             491             1               2               1   \n\n   Spot center intensity  Spot ellipsoid aspect ratios  \\\n0           13743.196682                      0.984351   \n1           20353.173259                      0.710119   \n\n   Spot ellipsoid aspect ratios.1  Spot ellipsoid aspect ratios.2  \\\n0                        0.943851                        0.958856   \n1                        0.640163                        0.901486   \n\n   Spot ellipsoid properties  ...  Detection.6_branch  Division_branch  \\\n0                   3.218713  ...                 0.0              0.0   \n1                   2.344018  ...                 0.0              0.0   \n\n   Division.1_branch  Division.2_branch  Proliferator_branch  \\\n0                0.0                0.0                  1.0   \n1                0.0                0.0                  1.0   \n\n   Proliferator.1_branch  Proliferator.2_branch  Status_branch  \\\n0                    0.0                    0.0            0.0   \n1                    0.0                    0.0            0.0   \n\n   Tracking_branch  Tracking.1_branch  \n0              0.0                0.0  \n1              0.0                0.0  \n\n[2 rows x 84 columns]",
      "text/html": "<div>\n<style scoped>\n    .dataframe tbody tr th:only-of-type {\n        vertical-align: middle;\n    }\n\n    .dataframe tbody tr th {\n        vertical-align: top;\n    }\n\n    .dataframe thead th {\n        text-align: right;\n    }\n</style>\n<table border=\"1\" class=\"dataframe\">\n  <thead>\n    <tr style=\"text-align: right;\">\n      <th></th>\n      <th>ID_spot</th>\n      <th>Branch spot ID</th>\n      <th>Spot N links</th>\n      <th>Spot N links.1</th>\n      <th>Spot N links.2</th>\n      <th>Spot center intensity</th>\n      <th>Spot ellipsoid aspect ratios</th>\n      <th>Spot ellipsoid aspect ratios.1</th>\n      <th>Spot ellipsoid aspect ratios.2</th>\n      <th>Spot ellipsoid properties</th>\n      <th>...</th>\n      <th>Detection.6_branch</th>\n      <th>Division_branch</th>\n      <th>Division.1_branch</th>\n      <th>Division.2_branch</th>\n      <th>Proliferator_branch</th>\n      <th>Proliferator.1_branch</th>\n      <th>Proliferator.2_branch</th>\n      <th>Status_branch</th>\n      <th>Tracking_branch</th>\n      <th>Tracking.1_branch</th>\n    </tr>\n  </thead>\n  <tbody>\n    <tr>\n      <th>0</th>\n      <td>4</td>\n      <td>491</td>\n      <td>1</td>\n      <td>2</td>\n      <td>1</td>\n      <td>13743.196682</td>\n      <td>0.984351</td>\n      <td>0.943851</td>\n      <td>0.958856</td>\n      <td>3.218713</td>\n      <td>...</td>\n      <td>0.0</td>\n      <td>0.0</td>\n      <td>0.0</td>\n      <td>0.0</td>\n      <td>1.0</td>\n      <td>0.0</td>\n      <td>0.0</td>\n      <td>0.0</td>\n      <td>0.0</td>\n      <td>0.0</td>\n    </tr>\n    <tr>\n      <th>1</th>\n      <td>26323</td>\n      <td>491</td>\n      <td>1</td>\n      <td>2</td>\n      <td>1</td>\n      <td>20353.173259</td>\n      <td>0.710119</td>\n      <td>0.640163</td>\n      <td>0.901486</td>\n      <td>2.344018</td>\n      <td>...</td>\n      <td>0.0</td>\n      <td>0.0</td>\n      <td>0.0</td>\n      <td>0.0</td>\n      <td>1.0</td>\n      <td>0.0</td>\n      <td>0.0</td>\n      <td>0.0</td>\n      <td>0.0</td>\n      <td>0.0</td>\n    </tr>\n  </tbody>\n</table>\n<p>2 rows × 84 columns</p>\n</div>"
     },
     "execution_count": 19,
     "metadata": {},
     "output_type": "execute_result"
    }
   ],
   "source": [
    "measurements_temp = pd.merge(left=spot_table, right=branch_spot_table, how='outer', on='label', suffixes=('_spot', '_branch'))\n",
    "measurements_temp.head(2)"
   ]
  },
  {
   "cell_type": "markdown",
   "source": [
    "### Optional create a cell fate column \n",
    "This is only useful, if the cell fate has been annotated in Mastodon."
   ],
   "metadata": {
    "collapsed": false
   }
  },
  {
   "cell_type": "code",
   "execution_count": 10,
   "outputs": [],
   "source": [
    "# Define a function to determine the combined value\n",
    "def cell_fate_values_to_label(row):\n",
    "    if row['cell_fate_spot']:\n",
    "        return 1\n",
    "    elif row['cell_fate.1_spot']:\n",
    "        return 2\n",
    "    elif row['cell_fate.2_spot']:\n",
    "        return 3\n",
    "    elif row['cell_fate.3_spot']:\n",
    "        return 4\n",
    "    elif row['cell_fate.4_spot']:\n",
    "        return 5\n",
    "    elif row['cell_fate.5_spot']:\n",
    "        return 6\n",
    "    elif row['cell_fate.6_spot']:\n",
    "        return 7\n",
    "    elif row['cell_fate.7_spot']:\n",
    "        return 8\n",
    "    elif row['cell_fate.8_spot']:\n",
    "        return 9\n",
    "    elif row['cell_fate.9_spot']:\n",
    "        return 10\n",
    "    elif row['cell_fate.10_spot']:\n",
    "        return 11\n",
    "    elif row['cell_fate.11_spot']:\n",
    "        return 12\n",
    "    elif row['cell_fate.12_spot']:\n",
    "        return 13\n",
    "    else:\n",
    "        return 0 \n",
    "\n",
    "# create a new column with 13 different cell fates\n",
    "measurements_temp['cell_fate'] = measurements_temp.apply(cell_fate_values_to_label, axis=1)"
   ],
   "metadata": {
    "collapsed": false,
    "ExecuteTime": {
     "end_time": "2023-12-08T17:05:25.741595300Z",
     "start_time": "2023-12-08T17:05:25.724575800Z"
    }
   }
  },
  {
   "cell_type": "markdown",
   "metadata": {},
   "source": [
    "### Remove unnecessary columns to save some RAM"
   ]
  },
  {
   "cell_type": "code",
   "execution_count": 20,
   "metadata": {
    "collapsed": false,
    "tags": [],
    "ExecuteTime": {
     "end_time": "2024-05-02T10:35:21.607218Z",
     "start_time": "2024-05-02T10:35:21.556246Z"
    }
   },
   "outputs": [
    {
     "data": {
      "text/plain": "   label  frame  Branch Average Movement  Branch Movement Direction  \\\n0    492    225                 0.911063                   0.725417   \n1    492    179                 0.911063                   0.725417   \n\n   Branch Movement Direction.1  Branch Movement Direction.2  \\\n0                    -0.233526                     0.647484   \n1                    -0.233526                     0.647484   \n\n   Branch N Successors and Predecessors  \\\n0                                   0.0   \n1                                   0.0   \n\n   Branch N Successors and Predecessors.1  Branch Sinuosity  \\\n0                                     2.0         25.682919   \n1                                     2.0         25.682919   \n\n   Branch duration and displacement  ...  Spot intensity.3  Spot intensity.4  \\\n0                         12.775965  ...           38852.0           13178.0   \n1                         12.775965  ...           61690.0           16512.0   \n\n   Spot intensity.5  Spot position  Spot position.1  Spot position.2  \\\n0        13248596.0      76.696254        60.373360         8.583054   \n1        13525549.0      78.669836        72.730003         4.960000   \n\n   Spot relative movement  Spot relative movement.1  Spot relative movement.2  \\\n0               -0.251165                 -0.436157                  0.073730   \n1               -2.231562                  0.423914                  1.047295   \n\n   Spot relative movement.3  \n0                  0.508677  \n1                  2.501279  \n\n[2 rows x 37 columns]",
      "text/html": "<div>\n<style scoped>\n    .dataframe tbody tr th:only-of-type {\n        vertical-align: middle;\n    }\n\n    .dataframe tbody tr th {\n        vertical-align: top;\n    }\n\n    .dataframe thead th {\n        text-align: right;\n    }\n</style>\n<table border=\"1\" class=\"dataframe\">\n  <thead>\n    <tr style=\"text-align: right;\">\n      <th></th>\n      <th>label</th>\n      <th>frame</th>\n      <th>Branch Average Movement</th>\n      <th>Branch Movement Direction</th>\n      <th>Branch Movement Direction.1</th>\n      <th>Branch Movement Direction.2</th>\n      <th>Branch N Successors and Predecessors</th>\n      <th>Branch N Successors and Predecessors.1</th>\n      <th>Branch Sinuosity</th>\n      <th>Branch duration and displacement</th>\n      <th>...</th>\n      <th>Spot intensity.3</th>\n      <th>Spot intensity.4</th>\n      <th>Spot intensity.5</th>\n      <th>Spot position</th>\n      <th>Spot position.1</th>\n      <th>Spot position.2</th>\n      <th>Spot relative movement</th>\n      <th>Spot relative movement.1</th>\n      <th>Spot relative movement.2</th>\n      <th>Spot relative movement.3</th>\n    </tr>\n  </thead>\n  <tbody>\n    <tr>\n      <th>0</th>\n      <td>492</td>\n      <td>225</td>\n      <td>0.911063</td>\n      <td>0.725417</td>\n      <td>-0.233526</td>\n      <td>0.647484</td>\n      <td>0.0</td>\n      <td>2.0</td>\n      <td>25.682919</td>\n      <td>12.775965</td>\n      <td>...</td>\n      <td>38852.0</td>\n      <td>13178.0</td>\n      <td>13248596.0</td>\n      <td>76.696254</td>\n      <td>60.373360</td>\n      <td>8.583054</td>\n      <td>-0.251165</td>\n      <td>-0.436157</td>\n      <td>0.073730</td>\n      <td>0.508677</td>\n    </tr>\n    <tr>\n      <th>1</th>\n      <td>492</td>\n      <td>179</td>\n      <td>0.911063</td>\n      <td>0.725417</td>\n      <td>-0.233526</td>\n      <td>0.647484</td>\n      <td>0.0</td>\n      <td>2.0</td>\n      <td>25.682919</td>\n      <td>12.775965</td>\n      <td>...</td>\n      <td>61690.0</td>\n      <td>16512.0</td>\n      <td>13525549.0</td>\n      <td>78.669836</td>\n      <td>72.730003</td>\n      <td>4.960000</td>\n      <td>-2.231562</td>\n      <td>0.423914</td>\n      <td>1.047295</td>\n      <td>2.501279</td>\n    </tr>\n  </tbody>\n</table>\n<p>2 rows × 37 columns</p>\n</div>"
     },
     "execution_count": 20,
     "metadata": {},
     "output_type": "execute_result"
    }
   ],
   "source": [
    "columns_to_keep = ['label', 'Branch Average Movement', 'Branch Movement Direction', 'Branch Movement Direction.1', 'Branch Movement Direction.2', 'Branch N Successors and Predecessors', 'Branch N Successors and Predecessors.1', 'Branch Sinuosity', 'Branch duration and displacement', 'Branch duration and displacement.1', 'Branch relative movement', 'Branch relative movement.1', 'Branch relative movement.2', 'Branch relative movement.3', 'Cell division frequency', 'Spot center intensity', 'Spot ellipsoid aspect ratios', 'Spot ellipsoid aspect ratios.1', 'Spot ellipsoid aspect ratios.2', 'Spot ellipsoid properties', 'Spot ellipsoid properties.1', 'Spot ellipsoid properties.2', 'Spot ellipsoid properties.3', 'Spot intensity', 'Spot intensity.1', 'Spot intensity.2', 'Spot intensity.3', 'Spot intensity.4', 'Spot intensity.5', 'Spot position', 'Spot position.1', 'Spot position.2', 'Spot relative movement', 'Spot relative movement.1', 'Spot relative movement.2', 'Spot relative movement.3' ]\n",
    "if 'cell_fate' in measurements_temp.columns:\n",
    "    columns_to_keep.append('cell_fate')\n",
    "measurements = measurements_temp[columns_to_keep]\n",
    "measurements.head(2)\n"
   ]
  },
  {
   "cell_type": "markdown",
   "metadata": {},
   "source": [
    "### Rename columns to have more meaningful names"
   ]
  },
  {
   "cell_type": "code",
   "execution_count": 21,
   "metadata": {
    "collapsed": false,
    "tags": [],
    "ExecuteTime": {
     "end_time": "2024-05-02T10:35:24.267380Z",
     "start_time": "2024-05-02T10:35:24.246538Z"
    }
   },
   "outputs": [
    {
     "name": "stderr",
     "output_type": "stream",
     "text": [
      "C:\\Users\\stha735e\\AppData\\Local\\Temp\\ipykernel_25760\\524075988.py:7: SettingWithCopyWarning: \n",
      "A value is trying to be set on a copy of a slice from a DataFrame\n",
      "\n",
      "See the caveats in the documentation: https://pandas.pydata.org/pandas-docs/stable/user_guide/indexing.html#returning-a-view-versus-a-copy\n",
      "  measurements.rename(columns=new_columns, inplace=True)\n"
     ]
    },
    {
     "data": {
      "text/plain": "   label  frame  Branch Average Movement  Branch Movement Direction (X)  \\\n0    492    225                 0.911063                       0.725417   \n1    492    179                 0.911063                       0.725417   \n\n   Branch Movement Direction (Y)  Branch Movement Direction (Z)  \\\n0                      -0.233526                       0.647484   \n1                      -0.233526                       0.647484   \n\n   Branch N Successors  Branch N Predecessors  Branch Sinuosity  \\\n0                  0.0                    2.0         25.682919   \n1                  0.0                    2.0         25.682919   \n\n   Branch displacement  ...  Spot intensity (max)  Spot intensity (median)  \\\n0            12.775965  ...               38852.0                  13178.0   \n1            12.775965  ...               61690.0                  16512.0   \n\n   Spot intensity (sum)  Spot position x  Spot position y  Spot position z  \\\n0            13248596.0        76.696254        60.373360         8.583054   \n1            13525549.0        78.669836        72.730003         4.960000   \n\n   Spot relative movement x  Spot relative movement y  \\\n0                 -0.251165                 -0.436157   \n1                 -2.231562                  0.423914   \n\n   Spot relative movement z  Spot relative movement distance  \n0                  0.073730                         0.508677  \n1                  1.047295                         2.501279  \n\n[2 rows x 37 columns]",
      "text/html": "<div>\n<style scoped>\n    .dataframe tbody tr th:only-of-type {\n        vertical-align: middle;\n    }\n\n    .dataframe tbody tr th {\n        vertical-align: top;\n    }\n\n    .dataframe thead th {\n        text-align: right;\n    }\n</style>\n<table border=\"1\" class=\"dataframe\">\n  <thead>\n    <tr style=\"text-align: right;\">\n      <th></th>\n      <th>label</th>\n      <th>frame</th>\n      <th>Branch Average Movement</th>\n      <th>Branch Movement Direction (X)</th>\n      <th>Branch Movement Direction (Y)</th>\n      <th>Branch Movement Direction (Z)</th>\n      <th>Branch N Successors</th>\n      <th>Branch N Predecessors</th>\n      <th>Branch Sinuosity</th>\n      <th>Branch displacement</th>\n      <th>...</th>\n      <th>Spot intensity (max)</th>\n      <th>Spot intensity (median)</th>\n      <th>Spot intensity (sum)</th>\n      <th>Spot position x</th>\n      <th>Spot position y</th>\n      <th>Spot position z</th>\n      <th>Spot relative movement x</th>\n      <th>Spot relative movement y</th>\n      <th>Spot relative movement z</th>\n      <th>Spot relative movement distance</th>\n    </tr>\n  </thead>\n  <tbody>\n    <tr>\n      <th>0</th>\n      <td>492</td>\n      <td>225</td>\n      <td>0.911063</td>\n      <td>0.725417</td>\n      <td>-0.233526</td>\n      <td>0.647484</td>\n      <td>0.0</td>\n      <td>2.0</td>\n      <td>25.682919</td>\n      <td>12.775965</td>\n      <td>...</td>\n      <td>38852.0</td>\n      <td>13178.0</td>\n      <td>13248596.0</td>\n      <td>76.696254</td>\n      <td>60.373360</td>\n      <td>8.583054</td>\n      <td>-0.251165</td>\n      <td>-0.436157</td>\n      <td>0.073730</td>\n      <td>0.508677</td>\n    </tr>\n    <tr>\n      <th>1</th>\n      <td>492</td>\n      <td>179</td>\n      <td>0.911063</td>\n      <td>0.725417</td>\n      <td>-0.233526</td>\n      <td>0.647484</td>\n      <td>0.0</td>\n      <td>2.0</td>\n      <td>25.682919</td>\n      <td>12.775965</td>\n      <td>...</td>\n      <td>61690.0</td>\n      <td>16512.0</td>\n      <td>13525549.0</td>\n      <td>78.669836</td>\n      <td>72.730003</td>\n      <td>4.960000</td>\n      <td>-2.231562</td>\n      <td>0.423914</td>\n      <td>1.047295</td>\n      <td>2.501279</td>\n    </tr>\n  </tbody>\n</table>\n<p>2 rows × 37 columns</p>\n</div>"
     },
     "execution_count": 21,
     "metadata": {},
     "output_type": "execute_result"
    }
   ],
   "source": [
    "new_columns = {'Branch duration and displacement.1': 'Branch duration', 'Branch duration and displacement': 'Branch displacement', 'Branch Movement Direction' : 'Branch Movement Direction (X)', 'Branch Movement Direction.1' : 'Branch Movement Direction (Y)', 'Branch Movement Direction.2' : 'Branch Movement Direction (Z)', 'Branch relative movement' : 'Branch Relative Movement (x-component)', 'Branch relative movement.1' : 'Branch Relative Movement (y-component)', 'Branch relative movement.2' : 'Branch Relative Movement (z-component)', 'Branch relative movement.3' : 'Branch Relative Movement', 'Branch N Successors and Predecessors' : 'Branch N Successors', 'Branch N Successors and Predecessors.1' : 'Branch N Predecessors', 'Spot ellipsoid aspect ratios': 'Spot ellipsoid aspect ratio a_b', 'Spot ellipsoid aspect ratios.1': 'Spot ellipsoid aspect ratio a_c', 'Spot ellipsoid aspect ratios.2': 'Spot ellipsoid aspect ratio b_c', 'Spot ellipsoid properties': 'Spot ellipsoid axis a', 'Spot ellipsoid properties.1': 'Spot ellipsoid axis b', 'Spot ellipsoid properties.2': 'Spot ellipsoid axis c', 'Spot ellipsoid properties.3': 'Spot ellipsoid axis v', 'Spot intensity' : 'Spot intensity (mean)', 'Spot intensity.1' : 'Spot intensity (std)', 'Spot intensity.2' : 'Spot intensity (min)', 'Spot intensity.3' : 'Spot intensity (max)', 'Spot intensity.4' : 'Spot intensity (median)', 'Spot intensity.5' : 'Spot intensity (sum)', 'Spot position' : 'Spot position x', 'Spot position.1' : 'Spot position y', 'Spot position.2' : 'Spot position z', 'Spot relative movement' : 'Spot relative movement x', 'Spot relative movement.1' : 'Spot relative movement y', 'Spot relative movement.2' : 'Spot relative movement z', 'Spot relative movement.3' : 'Spot relative movement distance' }\n",
    "\n",
    "if 'cell_fate' in measurements.columns:\n",
    "    new_columns['cell_fate'] = 'Cell fate_CLUSTER_ID'\n",
    "\n",
    "# Rename the columns using the dictionary\n",
    "measurements.rename(columns=new_columns, inplace=True)\n",
    "measurements.head(2)"
   ]
  },
  {
   "cell_type": "markdown",
   "metadata": {},
   "source": [
    "### Optionally export measurements to CSV file\n",
    "This can be skipped if the measurements are not needed outside napari."
   ]
  },
  {
   "cell_type": "code",
   "execution_count": 13,
   "metadata": {
    "collapsed": false,
    "tags": [],
    "ExecuteTime": {
     "end_time": "2023-12-21T16:20:33.958112400Z",
     "start_time": "2023-12-21T16:20:31.424751900Z"
    }
   },
   "outputs": [],
   "source": [
    "measurements.to_csv(tables_folder_path + '/' + 'measurements_spot_branch_spot_' + str(frame_reduction_factor) + '.csv', sep=',', quotechar='\"', index=False)"
   ]
  },
  {
   "cell_type": "markdown",
   "metadata": {},
   "source": [
    "## View in napari\n",
    "* Installation instructions for napari can be found [here](https://biapol.github.io/blog/mara_lampert/getting_started_with_mambaforge_and_python/readme.html)."
   ]
  },
  {
   "cell_type": "markdown",
   "metadata": {},
   "source": [
    "### Read label image\n",
    "The label image is expected to be exported from Mastodon with the following settings:\n",
    "* Label Id: *Branch spot ID*\n",
    "* Frame rate reduction: expected to be the same as the frame reduction factor specified above"
   ]
  },
  {
   "cell_type": "markdown",
   "metadata": {},
   "source": [
    "#### Set path to label image\n",
    "Enter the path to the label image exported from Mastodon here."
   ]
  },
  {
   "cell_type": "code",
   "execution_count": 22,
   "metadata": {
    "collapsed": false,
    "tags": [],
    "ExecuteTime": {
     "end_time": "2024-05-02T10:37:04.793375Z",
     "start_time": "2024-05-02T10:37:04.782823Z"
    }
   },
   "outputs": [],
   "source": [
    "label_image_path = ''"
   ]
  },
  {
   "cell_type": "markdown",
   "metadata": {},
   "source": [
    "#### Read label image from path"
   ]
  },
  {
   "cell_type": "code",
   "execution_count": 23,
   "metadata": {
    "collapsed": false,
    "tags": [],
    "ExecuteTime": {
     "end_time": "2024-05-02T10:37:48.001457Z",
     "start_time": "2024-05-02T10:37:09.822658Z"
    }
   },
   "outputs": [],
   "source": [
    "#### Read label image from path\n",
    "label_image_path = Path(label_image_path)\n",
    "label_image = imread(label_image_path)"
   ]
  },
  {
   "cell_type": "markdown",
   "metadata": {},
   "source": [
    "#### Optionally print shape of label image to check if everything is ok, order: t, z, y, x"
   ]
  },
  {
   "cell_type": "code",
   "execution_count": 24,
   "metadata": {
    "collapsed": false,
    "tags": [],
    "ExecuteTime": {
     "end_time": "2024-05-02T10:37:48.017321Z",
     "start_time": "2024-05-02T10:37:48.003559Z"
    }
   },
   "outputs": [
    {
     "name": "stdout",
     "output_type": "stream",
     "text": [
      "(504, 12, 500, 1024)\n"
     ]
    }
   ],
   "source": [
    "print(label_image.shape)"
   ]
  },
  {
   "cell_type": "markdown",
   "metadata": {},
   "source": [
    "### Optionally read intensity image\n",
    "This will only work, if the intensity image has the same frame reduction rate as the label image."
   ]
  },
  {
   "cell_type": "markdown",
   "metadata": {},
   "source": [
    "#### Optionally set path to intensity image\n",
    "Enter the path to the intensity image here."
   ]
  },
  {
   "cell_type": "code",
   "execution_count": 17,
   "metadata": {
    "collapsed": false,
    "tags": [],
    "ExecuteTime": {
     "end_time": "2023-12-08T17:06:43.446043900Z",
     "start_time": "2023-12-08T17:06:43.398047100Z"
    }
   },
   "outputs": [],
   "source": [
    "intensity_image_path = ''"
   ]
  },
  {
   "cell_type": "markdown",
   "metadata": {},
   "source": [
    "#### Optionally read intensity image from path"
   ]
  },
  {
   "cell_type": "code",
   "execution_count": 18,
   "metadata": {
    "collapsed": false,
    "tags": [],
    "ExecuteTime": {
     "end_time": "2023-12-08T17:06:47.435922400Z",
     "start_time": "2023-12-08T17:06:43.413047100Z"
    }
   },
   "outputs": [],
   "source": [
    "intensity_image_path = Path(intensity_image_path)\n",
    "intensity_image = imread(intensity_image_path)"
   ]
  },
  {
   "cell_type": "markdown",
   "metadata": {},
   "source": [
    "#### Optionally print shape of intensity image to check if everything is ok. Order: t, z, y, x"
   ]
  },
  {
   "cell_type": "code",
   "execution_count": 19,
   "metadata": {
    "collapsed": false,
    "tags": [],
    "ExecuteTime": {
     "end_time": "2023-12-08T17:06:47.452923Z",
     "start_time": "2023-12-08T17:06:47.437922700Z"
    }
   },
   "outputs": [
    {
     "name": "stdout",
     "output_type": "stream",
     "text": [
      "(504, 12, 500, 1024)\n"
     ]
    }
   ],
   "source": [
    "print(intensity_image.shape)"
   ]
  },
  {
   "cell_type": "markdown",
   "metadata": {},
   "source": [
    "### Open napari viewer"
   ]
  },
  {
   "cell_type": "code",
   "execution_count": 25,
   "metadata": {
    "tags": [],
    "ExecuteTime": {
     "end_time": "2024-05-02T10:37:56.213842Z",
     "start_time": "2024-05-02T10:37:48.018344Z"
    }
   },
   "outputs": [],
   "source": [
    "viewer = napari.Viewer()"
   ]
  },
  {
   "cell_type": "markdown",
   "metadata": {},
   "source": [
    "### Set scale of intensity image\n",
    "Due to bugs both in Mastodon export and in Napari import scale needs to be set manually.\n",
    "Expected order: t, z, y, x"
   ]
  },
  {
   "cell_type": "markdown",
   "metadata": {},
   "source": [
    "### Add label image"
   ]
  },
  {
   "cell_type": "code",
   "execution_count": 27,
   "metadata": {
    "tags": [],
    "ExecuteTime": {
     "end_time": "2024-05-02T10:38:40.218094Z",
     "start_time": "2024-05-02T10:38:39.867430Z"
    }
   },
   "outputs": [],
   "source": [
    "labels_layer = viewer.add_labels(label_image, features=measurements)"
   ]
  },
  {
   "cell_type": "markdown",
   "metadata": {},
   "source": [
    "### Set scale of label image\n",
    "Due to bugs both in Mastodon export and in Napari import scale needs to be set manually.\n",
    "Expected order: t, z, y, x"
   ]
  },
  {
   "cell_type": "code",
   "execution_count": 28,
   "metadata": {
    "collapsed": false,
    "tags": [],
    "ExecuteTime": {
     "end_time": "2024-05-02T10:38:44.658174Z",
     "start_time": "2024-05-02T10:38:44.643399Z"
    }
   },
   "outputs": [],
   "source": [
    "# labels_layer.scale = (1, 2.48, 0.31196313094933187, 0.31196313094933187)\n",
    "# labels_layer.scale = (1, 2.03, 0.41, 0.41)\n",
    "# set scale in napari terminal\n",
    "# viewer.layers[0].scale = (1, 2.48, 0.31196313094933187, 0.31196313094933187)"
   ]
  },
  {
   "cell_type": "markdown",
   "source": [
    "### Optionally add intensity image"
   ],
   "metadata": {
    "collapsed": false
   }
  },
  {
   "cell_type": "code",
   "execution_count": null,
   "outputs": [],
   "source": [
    "intensity_layer = viewer.add_image(intensity_image)"
   ],
   "metadata": {
    "collapsed": false
   }
  },
  {
   "cell_type": "markdown",
   "source": [
    "### Optionally set scale of intensity image\n",
    "Due to bugs both in Mastodon export and in Napari import scale needs to be set manually.\n",
    "Expected order: t, z, y, x\n",
    "Should be the same as for the label image."
   ],
   "metadata": {
    "collapsed": false
   }
  },
  {
   "cell_type": "code",
   "execution_count": null,
   "outputs": [],
   "source": [
    "# intensity_layer.scale = (1, 2.48, 0.31196313094933187, 0.31196313094933187)\n",
    "# intensity_layer.scale = (1, 2.03, 0.41, 0.41)"
   ],
   "metadata": {
    "collapsed": false
   }
  },
  {
   "cell_type": "markdown",
   "metadata": {},
   "source": [
    "### Turn on 3D view"
   ]
  },
  {
   "cell_type": "code",
   "execution_count": 29,
   "metadata": {
    "collapsed": false,
    "tags": [],
    "ExecuteTime": {
     "end_time": "2024-05-02T10:38:49.890668Z",
     "start_time": "2024-05-02T10:38:49.792161Z"
    }
   },
   "outputs": [],
   "source": [
    "viewer.dims.ndisplay = 3"
   ]
  },
  {
   "cell_type": "markdown",
   "metadata": {},
   "source": [
    "### Load napari-clusters-plotter plugin"
   ]
  },
  {
   "cell_type": "code",
   "execution_count": 30,
   "metadata": {
    "ExecuteTime": {
     "end_time": "2024-05-02T10:38:52.356106Z",
     "start_time": "2024-05-02T10:38:52.154373Z"
    }
   },
   "outputs": [
    {
     "data": {
      "text/plain": "(<napari._qt.widgets.qt_viewer_dock_widget.QtViewerDockWidget at 0x24cd4362550>,\n <napari_clusters_plotter._plotter.PlotterWidget at 0x249b3f0b1f0>)"
     },
     "execution_count": 30,
     "metadata": {},
     "output_type": "execute_result"
    }
   ],
   "source": [
    "viewer.window.add_plugin_dock_widget(plugin_name='napari-clusters-plotter', widget_name='Plotter Widget')\n"
   ]
  },
  {
   "cell_type": "markdown",
   "source": [
    "## You are ready to use the napari-clusters-plotter with the Mastodon data plugin now.\n",
    "Consult the documentation of the napari-clusters-plotter for further instructions, if needed.\n",
    "* https://www.youtube.com/watch?v=qZ8KDrgL1Ro\n",
    "* https://github.com/BiAPoL/napari-clusters-plotter"
   ],
   "metadata": {
    "collapsed": false
   }
  },
  {
   "cell_type": "code",
   "execution_count": null,
   "outputs": [],
   "source": [],
   "metadata": {
    "collapsed": false
   }
  }
 ],
 "metadata": {
  "kernelspec": {
   "display_name": "Python 3 (ipykernel)",
   "language": "python",
   "name": "python3"
  },
  "language_info": {
   "codemirror_mode": {
    "name": "ipython",
    "version": 3
   },
   "file_extension": ".py",
   "mimetype": "text/x-python",
   "name": "python",
   "nbconvert_exporter": "python",
   "pygments_lexer": "ipython3",
   "version": "3.9.18"
  }
 },
 "nbformat": 4,
 "nbformat_minor": 4
}
