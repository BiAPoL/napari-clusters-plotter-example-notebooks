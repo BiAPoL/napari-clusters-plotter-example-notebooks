{
 "cells": [
  {
   "cell_type": "markdown",
   "metadata": {},
   "source": [
    "# Load Mastodon tracking data on spot and branch level into Napari to use with Napari Clusters Plotter"
   ]
  },
  {
   "cell_type": "markdown",
   "source": [
    "## Prerequisites\n",
    "\n",
    "Before running this notebook, the following steps need to be performed:\n",
    "* Compute features on Spot BranchSpot Level in Mastodon.\n",
    "  * Open \"Compute Features View\"\n",
    "  * Select all available Spot and Branch Spot features > Compute\n",
    "  * Open \"Table View\"\n",
    "  * Select BranchSpot \n",
    "  * File > Export to CSV\n",
    "  * Select Spot\n",
    "  * File > Export to CSV \n",
    "* Export label image from Mastodon\n",
    "  * Plugins > Exports > Export label image using ellipsoids\n",
    "  * Select \"Branch Spot ID\" as label id\n",
    "  * Select a frame reduction rate of 1\n",
    "    * Higher frame reduction rates are possible and may speed up analyses in napari clusters plotter\n",
    "    * If a frame reduction rate higher than 1 is used, a version of the intensity image would need to be created with the same frame reduction rate or no intensity image can be loaded into napari "
   ],
   "metadata": {
    "collapsed": false
   }
  },
  {
   "cell_type": "code",
   "execution_count": 1,
   "metadata": {
    "tags": [],
    "ExecuteTime": {
     "end_time": "2023-12-20T15:20:14.117308400Z",
     "start_time": "2023-12-20T15:20:13.414314100Z"
    }
   },
   "outputs": [],
   "source": [
    "from pathlib import Path\n",
    "import napari\n",
    "import pandas as pd\n",
    "from skimage.io import imread"
   ]
  },
  {
   "cell_type": "markdown",
   "metadata": {},
   "source": [
    "## Read tables from Mastodon"
   ]
  },
  {
   "cell_type": "markdown",
   "metadata": {},
   "source": [
    "#### Set path to tables\n",
    "Enter the path to the tables here. Within that folder, there should be two tables:\n",
    "* Spot.csv\n",
    "* BranchSpot.csv"
   ]
  },
  {
   "cell_type": "code",
   "execution_count": 2,
   "metadata": {
    "collapsed": false,
    "tags": [],
    "ExecuteTime": {
     "end_time": "2023-12-20T15:20:14.400347900Z",
     "start_time": "2023-12-20T15:20:14.385314800Z"
    }
   },
   "outputs": [],
   "source": [
    "tables_folder_path = ''"
   ]
  },
  {
   "cell_type": "markdown",
   "metadata": {},
   "source": [
    "#### Read tables from path\n",
    "Rows with NaN values are removed."
   ]
  },
  {
   "cell_type": "code",
   "execution_count": null,
   "metadata": {
    "tags": [],
    "is_executing": true
   },
   "outputs": [],
   "source": [
    "spot_table_path = Path(tables_folder_path + '/Spot.csv')\n",
    "spot_table = pd.read_csv(spot_table_path, skiprows=[1,2], low_memory=False)\n",
    "# remove rows with NaN values\n",
    "spot_table = spot_table.dropna()\n",
    "\n",
    "branch_spot_table_path = Path(tables_folder_path + '/BranchSpot.csv')\n",
    "branch_spot_table = pd.read_csv(branch_spot_table_path, skiprows=[1,2])\n",
    "# remove rows with NaN values\n",
    "branch_spot_table = branch_spot_table.dropna()"
   ]
  },
  {
   "cell_type": "markdown",
   "metadata": {},
   "source": [
    "#### Specify frame reduction factor\n",
    "The frame reduction factor is the factor by which the frame rate has been reduced in Mastodon. This is necessary to account for the fact that the label image has been exported with a reduced frame rate, while the spot table has been exported with the original frame rate.\n",
    "Specify here the same factor that has been used when exporting the label image from Mastodon"
   ]
  },
  {
   "cell_type": "code",
   "execution_count": 4,
   "metadata": {
    "collapsed": false,
    "tags": [],
    "ExecuteTime": {
     "end_time": "2023-12-20T15:20:17.899463500Z",
     "start_time": "2023-12-20T15:20:17.879445500Z"
    }
   },
   "outputs": [],
   "source": [
    "frame_reduction_factor = 1"
   ]
  },
  {
   "cell_type": "markdown",
   "source": [
    "#### Remove rows whose related frames are not in the label image"
   ],
   "metadata": {
    "collapsed": false
   }
  },
  {
   "cell_type": "code",
   "execution_count": 5,
   "metadata": {
    "collapsed": false,
    "tags": [],
    "ExecuteTime": {
     "end_time": "2023-12-20T15:20:18.865883800Z",
     "start_time": "2023-12-20T15:20:18.800126800Z"
    }
   },
   "outputs": [],
   "source": [
    "spot_table = spot_table[spot_table['Spot frame'] % frame_reduction_factor == 0]\n",
    "spot_table['Spot frame'] = spot_table['Spot frame'] / frame_reduction_factor\n",
    "spot_table['Spot frame'] = spot_table['Spot frame'].astype(int)"
   ]
  },
  {
   "cell_type": "markdown",
   "metadata": {},
   "source": [
    "#### Optionally print head of spot table to check if everything is ok"
   ]
  },
  {
   "cell_type": "code",
   "execution_count": 6,
   "metadata": {
    "tags": [],
    "ExecuteTime": {
     "end_time": "2023-12-20T15:20:20.308269500Z",
     "start_time": "2023-12-20T15:20:20.272267300Z"
    }
   },
   "outputs": [
    {
     "data": {
      "text/plain": "   Label  ID  Branch spot ID  Spot N links  Spot center intensity  \\\n0      0   0               0             1            9383.390024   \n1      1   1               1             1           17989.550381   \n\n   Spot ellipsoid aspect ratios  Spot ellipsoid aspect ratios.1  \\\n0                      0.787986                        0.716351   \n1                      0.787986                        0.751315   \n\n   Spot ellipsoid aspect ratios.2  Spot ellipsoid properties  \\\n0                        0.909091                   4.447973   \n1                        0.953463                   3.504939   \n\n   Spot ellipsoid properties.1  ...  Detection.6  Division  Division.1  \\\n0                     5.644739  ...            0         0           0   \n1                     4.447973  ...            0         0           0   \n\n   Division.2  Proliferator  Proliferator.1  Proliferator.2  Status  Tracking  \\\n0           0             1               0               0       1         1   \n1           0             1               0               0       1         1   \n\n   Tracking.1  \n0           0  \n1           0  \n\n[2 rows x 42 columns]",
      "text/html": "<div>\n<style scoped>\n    .dataframe tbody tr th:only-of-type {\n        vertical-align: middle;\n    }\n\n    .dataframe tbody tr th {\n        vertical-align: top;\n    }\n\n    .dataframe thead th {\n        text-align: right;\n    }\n</style>\n<table border=\"1\" class=\"dataframe\">\n  <thead>\n    <tr style=\"text-align: right;\">\n      <th></th>\n      <th>Label</th>\n      <th>ID</th>\n      <th>Branch spot ID</th>\n      <th>Spot N links</th>\n      <th>Spot center intensity</th>\n      <th>Spot ellipsoid aspect ratios</th>\n      <th>Spot ellipsoid aspect ratios.1</th>\n      <th>Spot ellipsoid aspect ratios.2</th>\n      <th>Spot ellipsoid properties</th>\n      <th>Spot ellipsoid properties.1</th>\n      <th>...</th>\n      <th>Detection.6</th>\n      <th>Division</th>\n      <th>Division.1</th>\n      <th>Division.2</th>\n      <th>Proliferator</th>\n      <th>Proliferator.1</th>\n      <th>Proliferator.2</th>\n      <th>Status</th>\n      <th>Tracking</th>\n      <th>Tracking.1</th>\n    </tr>\n  </thead>\n  <tbody>\n    <tr>\n      <th>0</th>\n      <td>0</td>\n      <td>0</td>\n      <td>0</td>\n      <td>1</td>\n      <td>9383.390024</td>\n      <td>0.787986</td>\n      <td>0.716351</td>\n      <td>0.909091</td>\n      <td>4.447973</td>\n      <td>5.644739</td>\n      <td>...</td>\n      <td>0</td>\n      <td>0</td>\n      <td>0</td>\n      <td>0</td>\n      <td>1</td>\n      <td>0</td>\n      <td>0</td>\n      <td>1</td>\n      <td>1</td>\n      <td>0</td>\n    </tr>\n    <tr>\n      <th>1</th>\n      <td>1</td>\n      <td>1</td>\n      <td>1</td>\n      <td>1</td>\n      <td>17989.550381</td>\n      <td>0.787986</td>\n      <td>0.751315</td>\n      <td>0.953463</td>\n      <td>3.504939</td>\n      <td>4.447973</td>\n      <td>...</td>\n      <td>0</td>\n      <td>0</td>\n      <td>0</td>\n      <td>0</td>\n      <td>1</td>\n      <td>0</td>\n      <td>0</td>\n      <td>1</td>\n      <td>1</td>\n      <td>0</td>\n    </tr>\n  </tbody>\n</table>\n<p>2 rows × 42 columns</p>\n</div>"
     },
     "execution_count": 6,
     "metadata": {},
     "output_type": "execute_result"
    }
   ],
   "source": [
    "spot_table.head(2)"
   ]
  },
  {
   "cell_type": "markdown",
   "metadata": {},
   "source": [
    "#### Optionally print head of branch spot table to check if everything is ok"
   ]
  },
  {
   "cell_type": "code",
   "execution_count": 7,
   "metadata": {
    "tags": [],
    "ExecuteTime": {
     "end_time": "2023-12-20T15:20:21.727308500Z",
     "start_time": "2023-12-20T15:20:21.675313500Z"
    }
   },
   "outputs": [
    {
     "data": {
      "text/plain": "   Label  ID  Branch N leaves  Branch N spots  Branch N sub branch spots  \\\n0  50644   0                2             283                          2   \n1  28749   1                2             176                          2   \n\n   Branch N successors  Branch Sinuosity  Branch depth  \\\n0                    2          9.896631             0   \n1                    2         11.412242             0   \n\n   Branch duration and displacement  Branch duration and displacement.1  ...  \\\n0                         24.106064                               282.0  ...   \n1                         12.037811                               175.0  ...   \n\n   Detection.6  Division  Division.1  Division.2  Proliferator  \\\n0            0         0           0           0             1   \n1            0         0           0           0             1   \n\n   Proliferator.1  Proliferator.2  Status  Tracking  Tracking.1  \n0               0               0       1         1           0  \n1               0               0       1         1           0  \n\n[2 rows x 26 columns]",
      "text/html": "<div>\n<style scoped>\n    .dataframe tbody tr th:only-of-type {\n        vertical-align: middle;\n    }\n\n    .dataframe tbody tr th {\n        vertical-align: top;\n    }\n\n    .dataframe thead th {\n        text-align: right;\n    }\n</style>\n<table border=\"1\" class=\"dataframe\">\n  <thead>\n    <tr style=\"text-align: right;\">\n      <th></th>\n      <th>Label</th>\n      <th>ID</th>\n      <th>Branch N leaves</th>\n      <th>Branch N spots</th>\n      <th>Branch N sub branch spots</th>\n      <th>Branch N successors</th>\n      <th>Branch Sinuosity</th>\n      <th>Branch depth</th>\n      <th>Branch duration and displacement</th>\n      <th>Branch duration and displacement.1</th>\n      <th>...</th>\n      <th>Detection.6</th>\n      <th>Division</th>\n      <th>Division.1</th>\n      <th>Division.2</th>\n      <th>Proliferator</th>\n      <th>Proliferator.1</th>\n      <th>Proliferator.2</th>\n      <th>Status</th>\n      <th>Tracking</th>\n      <th>Tracking.1</th>\n    </tr>\n  </thead>\n  <tbody>\n    <tr>\n      <th>0</th>\n      <td>50644</td>\n      <td>0</td>\n      <td>2</td>\n      <td>283</td>\n      <td>2</td>\n      <td>2</td>\n      <td>9.896631</td>\n      <td>0</td>\n      <td>24.106064</td>\n      <td>282.0</td>\n      <td>...</td>\n      <td>0</td>\n      <td>0</td>\n      <td>0</td>\n      <td>0</td>\n      <td>1</td>\n      <td>0</td>\n      <td>0</td>\n      <td>1</td>\n      <td>1</td>\n      <td>0</td>\n    </tr>\n    <tr>\n      <th>1</th>\n      <td>28749</td>\n      <td>1</td>\n      <td>2</td>\n      <td>176</td>\n      <td>2</td>\n      <td>2</td>\n      <td>11.412242</td>\n      <td>0</td>\n      <td>12.037811</td>\n      <td>175.0</td>\n      <td>...</td>\n      <td>0</td>\n      <td>0</td>\n      <td>0</td>\n      <td>0</td>\n      <td>1</td>\n      <td>0</td>\n      <td>0</td>\n      <td>1</td>\n      <td>1</td>\n      <td>0</td>\n    </tr>\n  </tbody>\n</table>\n<p>2 rows × 26 columns</p>\n</div>"
     },
     "execution_count": 7,
     "metadata": {},
     "output_type": "execute_result"
    }
   ],
   "source": [
    "branch_spot_table.head(2)"
   ]
  },
  {
   "cell_type": "markdown",
   "metadata": {},
   "source": [
    "## Change tables to match napari-clusters-plotter standards\n",
    "Mastodon 'label' column needs to be removed from both tables. The spot table needs to be extended with a frame column and a label column.\n",
    "The branch spot table needs to be extended with a label column."
   ]
  },
  {
   "cell_type": "code",
   "execution_count": 8,
   "metadata": {
    "tags": [],
    "ExecuteTime": {
     "end_time": "2023-12-20T15:20:22.918608900Z",
     "start_time": "2023-12-20T15:20:22.891609600Z"
    }
   },
   "outputs": [],
   "source": [
    "# Remove Label column from Mastodon tables\n",
    "spot_table = spot_table.drop(columns=['Label'])\n",
    "branch_spot_table = branch_spot_table.drop(columns=['Label'])\n",
    "\n",
    "# Add frame and label column to spot table\n",
    "spot_table['frame'] = spot_table['Spot frame'].astype(int)\n",
    "spot_table['label'] = spot_table['Branch spot ID'].astype(int) + 1 # Turning branch spot ids into labels, NB: + 1 needs to be added, since the ids are counted one based in the respective Mastodon export plugin\n",
    "\n",
    "# Add a column 'Branch spot ID' to allow table merging\n",
    "branch_spot_table['label'] = branch_spot_table['ID'].astype(int) + 1 # Turning branch spot ids into labels, NB: + 1 needs to be added, since the ids are counted one based in the respective Mastodon"
   ]
  },
  {
   "cell_type": "markdown",
   "metadata": {},
   "source": [
    "\n",
    "### Currently available Branch spot features:\n",
    "* label\n",
    "* Branch Sinuosity\n",
    "* Branch duration and displacement (displacement)\n",
    "* Branch duration and displacement.1 (duration)\n",
    "* Branch N successors\n",
    "### Currently available Spot features: \n",
    "* Spot center intensity\n",
    "* Spot ellipsoid aspect ratios (a_b)\n",
    "* Spot ellipsoid aspect ratios.1 (a_c)\n",
    "* Spot ellipsoid aspect ratios.2 (b_c)\n",
    "* Spot ellipsoid properties (a)\n",
    "* Spot ellipsoid properties.1 (b)\n",
    "* Spot ellipsoid properties.2 (c)\n",
    "* Spot ellipsoid properties.3 (v)\n",
    "* Spot frame (frame)\n",
    "* Spot intensity (mean)\n",
    "* Spot intensity.1 (std)\n",
    "* Spot intensity.2 (min)\n",
    "* Spot intensity.3 (max)\n",
    "* Spot intensity.4 (median)\n",
    "* Spot intensity.5 (sum)"
   ]
  },
  {
   "cell_type": "markdown",
   "metadata": {},
   "source": [
    "### Merge spot table and branch spot table"
   ]
  },
  {
   "cell_type": "code",
   "execution_count": 9,
   "metadata": {
    "collapsed": false,
    "tags": [],
    "ExecuteTime": {
     "end_time": "2023-12-20T15:20:25.664806Z",
     "start_time": "2023-12-20T15:20:25.532747900Z"
    }
   },
   "outputs": [
    {
     "data": {
      "text/plain": "   ID_spot  Branch spot ID  Spot N links  Spot center intensity  \\\n0        0               0             1            9383.390024   \n1      243               0             2           17197.047232   \n\n   Spot ellipsoid aspect ratios  Spot ellipsoid aspect ratios.1  \\\n0                      0.787986                        0.716351   \n1                      0.656232                        0.545348   \n\n   Spot ellipsoid aspect ratios.2  Spot ellipsoid properties  \\\n0                        0.909091                   4.447973   \n1                        0.831030                   2.726742   \n\n   Spot ellipsoid properties.1  Spot ellipsoid properties.2  ...  \\\n0                     5.644739                     6.209213  ...   \n1                     4.155150                     5.000000  ...   \n\n   Detection.6_branch  Division_branch  Division.1_branch  Division.2_branch  \\\n0                   0                0                  0                  0   \n1                   0                0                  0                  0   \n\n   Proliferator_branch  Proliferator.1_branch  Proliferator.2_branch  \\\n0                    1                      0                      0   \n1                    1                      0                      0   \n\n   Status_branch  Tracking_branch  Tracking.1_branch  \n0              1                1                  0  \n1              1                1                  0  \n\n[2 rows x 68 columns]",
      "text/html": "<div>\n<style scoped>\n    .dataframe tbody tr th:only-of-type {\n        vertical-align: middle;\n    }\n\n    .dataframe tbody tr th {\n        vertical-align: top;\n    }\n\n    .dataframe thead th {\n        text-align: right;\n    }\n</style>\n<table border=\"1\" class=\"dataframe\">\n  <thead>\n    <tr style=\"text-align: right;\">\n      <th></th>\n      <th>ID_spot</th>\n      <th>Branch spot ID</th>\n      <th>Spot N links</th>\n      <th>Spot center intensity</th>\n      <th>Spot ellipsoid aspect ratios</th>\n      <th>Spot ellipsoid aspect ratios.1</th>\n      <th>Spot ellipsoid aspect ratios.2</th>\n      <th>Spot ellipsoid properties</th>\n      <th>Spot ellipsoid properties.1</th>\n      <th>Spot ellipsoid properties.2</th>\n      <th>...</th>\n      <th>Detection.6_branch</th>\n      <th>Division_branch</th>\n      <th>Division.1_branch</th>\n      <th>Division.2_branch</th>\n      <th>Proliferator_branch</th>\n      <th>Proliferator.1_branch</th>\n      <th>Proliferator.2_branch</th>\n      <th>Status_branch</th>\n      <th>Tracking_branch</th>\n      <th>Tracking.1_branch</th>\n    </tr>\n  </thead>\n  <tbody>\n    <tr>\n      <th>0</th>\n      <td>0</td>\n      <td>0</td>\n      <td>1</td>\n      <td>9383.390024</td>\n      <td>0.787986</td>\n      <td>0.716351</td>\n      <td>0.909091</td>\n      <td>4.447973</td>\n      <td>5.644739</td>\n      <td>6.209213</td>\n      <td>...</td>\n      <td>0</td>\n      <td>0</td>\n      <td>0</td>\n      <td>0</td>\n      <td>1</td>\n      <td>0</td>\n      <td>0</td>\n      <td>1</td>\n      <td>1</td>\n      <td>0</td>\n    </tr>\n    <tr>\n      <th>1</th>\n      <td>243</td>\n      <td>0</td>\n      <td>2</td>\n      <td>17197.047232</td>\n      <td>0.656232</td>\n      <td>0.545348</td>\n      <td>0.831030</td>\n      <td>2.726742</td>\n      <td>4.155150</td>\n      <td>5.000000</td>\n      <td>...</td>\n      <td>0</td>\n      <td>0</td>\n      <td>0</td>\n      <td>0</td>\n      <td>1</td>\n      <td>0</td>\n      <td>0</td>\n      <td>1</td>\n      <td>1</td>\n      <td>0</td>\n    </tr>\n  </tbody>\n</table>\n<p>2 rows × 68 columns</p>\n</div>"
     },
     "execution_count": 9,
     "metadata": {},
     "output_type": "execute_result"
    }
   ],
   "source": [
    "measurements_temp = pd.merge(left=spot_table, right=branch_spot_table, how='outer', on='label', suffixes=('_spot', '_branch'))\n",
    "measurements_temp.head(2)"
   ]
  },
  {
   "cell_type": "markdown",
   "source": [
    "### Optional create a cell fate column \n",
    "This is only useful, if the cell fate has been annotated in Mastodon."
   ],
   "metadata": {
    "collapsed": false
   }
  },
  {
   "cell_type": "code",
   "execution_count": 10,
   "outputs": [],
   "source": [
    "# Define a function to determine the combined value\n",
    "def cell_fate_values_to_label(row):\n",
    "    if row['cell_fate_spot']:\n",
    "        return 1\n",
    "    elif row['cell_fate.1_spot']:\n",
    "        return 2\n",
    "    elif row['cell_fate.2_spot']:\n",
    "        return 3\n",
    "    elif row['cell_fate.3_spot']:\n",
    "        return 4\n",
    "    elif row['cell_fate.4_spot']:\n",
    "        return 5\n",
    "    elif row['cell_fate.5_spot']:\n",
    "        return 6\n",
    "    elif row['cell_fate.6_spot']:\n",
    "        return 7\n",
    "    elif row['cell_fate.7_spot']:\n",
    "        return 8\n",
    "    elif row['cell_fate.8_spot']:\n",
    "        return 9\n",
    "    elif row['cell_fate.9_spot']:\n",
    "        return 10\n",
    "    elif row['cell_fate.10_spot']:\n",
    "        return 11\n",
    "    elif row['cell_fate.11_spot']:\n",
    "        return 12\n",
    "    elif row['cell_fate.12_spot']:\n",
    "        return 13\n",
    "    else:\n",
    "        return 0 \n",
    "\n",
    "# create a new column with 13 different cell fates\n",
    "measurements_temp['cell_fate'] = measurements_temp.apply(cell_fate_values_to_label, axis=1)"
   ],
   "metadata": {
    "collapsed": false,
    "ExecuteTime": {
     "end_time": "2023-12-08T17:05:25.741595300Z",
     "start_time": "2023-12-08T17:05:25.724575800Z"
    }
   }
  },
  {
   "cell_type": "markdown",
   "metadata": {},
   "source": [
    "### Remove unnecessary columns to save some RAM"
   ]
  },
  {
   "cell_type": "code",
   "execution_count": 10,
   "metadata": {
    "collapsed": false,
    "tags": [],
    "ExecuteTime": {
     "end_time": "2023-12-20T15:20:31.715392200Z",
     "start_time": "2023-12-20T15:20:31.683390100Z"
    }
   },
   "outputs": [
    {
     "data": {
      "text/plain": "   label  frame  Branch Sinuosity  Branch duration and displacement  \\\n0      1      0          9.896631                         24.106064   \n1      1     89          9.896631                         24.106064   \n\n   Branch duration and displacement.1  Branch N successors  \\\n0                               282.0                    2   \n1                               282.0                    2   \n\n   Spot center intensity  Spot ellipsoid aspect ratios  \\\n0            9383.390024                      0.787986   \n1           17197.047232                      0.656232   \n\n   Spot ellipsoid aspect ratios.1  Spot ellipsoid aspect ratios.2  \\\n0                        0.716351                        0.909091   \n1                        0.545348                        0.831030   \n\n   Spot ellipsoid properties  Spot ellipsoid properties.1  \\\n0                   4.447973                     5.644739   \n1                   2.726742                     4.155150   \n\n   Spot ellipsoid properties.2  Spot ellipsoid properties.3  Spot intensity  \\\n0                     6.209213                   653.027167     6160.017008   \n1                     5.000000                   237.295387    12630.902747   \n\n   Spot intensity.1  Spot intensity.2  Spot intensity.3  Spot intensity.4  \\\n0       5355.923150               0.0           29414.0            4624.0   \n1       7502.955652              32.0           37946.0           11912.0   \n\n   Spot intensity.5  \n0        21369099.0  \n1        17013826.0  ",
      "text/html": "<div>\n<style scoped>\n    .dataframe tbody tr th:only-of-type {\n        vertical-align: middle;\n    }\n\n    .dataframe tbody tr th {\n        vertical-align: top;\n    }\n\n    .dataframe thead th {\n        text-align: right;\n    }\n</style>\n<table border=\"1\" class=\"dataframe\">\n  <thead>\n    <tr style=\"text-align: right;\">\n      <th></th>\n      <th>label</th>\n      <th>frame</th>\n      <th>Branch Sinuosity</th>\n      <th>Branch duration and displacement</th>\n      <th>Branch duration and displacement.1</th>\n      <th>Branch N successors</th>\n      <th>Spot center intensity</th>\n      <th>Spot ellipsoid aspect ratios</th>\n      <th>Spot ellipsoid aspect ratios.1</th>\n      <th>Spot ellipsoid aspect ratios.2</th>\n      <th>Spot ellipsoid properties</th>\n      <th>Spot ellipsoid properties.1</th>\n      <th>Spot ellipsoid properties.2</th>\n      <th>Spot ellipsoid properties.3</th>\n      <th>Spot intensity</th>\n      <th>Spot intensity.1</th>\n      <th>Spot intensity.2</th>\n      <th>Spot intensity.3</th>\n      <th>Spot intensity.4</th>\n      <th>Spot intensity.5</th>\n    </tr>\n  </thead>\n  <tbody>\n    <tr>\n      <th>0</th>\n      <td>1</td>\n      <td>0</td>\n      <td>9.896631</td>\n      <td>24.106064</td>\n      <td>282.0</td>\n      <td>2</td>\n      <td>9383.390024</td>\n      <td>0.787986</td>\n      <td>0.716351</td>\n      <td>0.909091</td>\n      <td>4.447973</td>\n      <td>5.644739</td>\n      <td>6.209213</td>\n      <td>653.027167</td>\n      <td>6160.017008</td>\n      <td>5355.923150</td>\n      <td>0.0</td>\n      <td>29414.0</td>\n      <td>4624.0</td>\n      <td>21369099.0</td>\n    </tr>\n    <tr>\n      <th>1</th>\n      <td>1</td>\n      <td>89</td>\n      <td>9.896631</td>\n      <td>24.106064</td>\n      <td>282.0</td>\n      <td>2</td>\n      <td>17197.047232</td>\n      <td>0.656232</td>\n      <td>0.545348</td>\n      <td>0.831030</td>\n      <td>2.726742</td>\n      <td>4.155150</td>\n      <td>5.000000</td>\n      <td>237.295387</td>\n      <td>12630.902747</td>\n      <td>7502.955652</td>\n      <td>32.0</td>\n      <td>37946.0</td>\n      <td>11912.0</td>\n      <td>17013826.0</td>\n    </tr>\n  </tbody>\n</table>\n</div>"
     },
     "execution_count": 10,
     "metadata": {},
     "output_type": "execute_result"
    }
   ],
   "source": [
    "columns_to_keep = ['label', 'frame', 'Branch Sinuosity', 'Branch duration and displacement', 'Branch duration and displacement.1', 'Branch N successors', 'Spot center intensity', 'Spot ellipsoid aspect ratios', 'Spot ellipsoid aspect ratios.1', 'Spot ellipsoid aspect ratios.2', 'Spot ellipsoid properties', 'Spot ellipsoid properties.1', 'Spot ellipsoid properties.2', 'Spot ellipsoid properties.3', 'Spot intensity', 'Spot intensity.1', 'Spot intensity.2', 'Spot intensity.3', 'Spot intensity.4', 'Spot intensity.5']\n",
    "if 'cell_fate' in measurements_temp.columns:\n",
    "    columns_to_keep.append('cell_fate')\n",
    "measurements = measurements_temp[columns_to_keep]\n",
    "measurements.head(2)\n"
   ]
  },
  {
   "cell_type": "markdown",
   "metadata": {},
   "source": [
    "### Rename columns to have more meaningful names"
   ]
  },
  {
   "cell_type": "code",
   "execution_count": 11,
   "metadata": {
    "collapsed": false,
    "tags": [],
    "ExecuteTime": {
     "end_time": "2023-12-20T15:20:33.049575100Z",
     "start_time": "2023-12-20T15:20:33.009576400Z"
    }
   },
   "outputs": [
    {
     "name": "stderr",
     "output_type": "stream",
     "text": [
      "C:\\Users\\stha735e\\AppData\\Local\\Temp\\ipykernel_22192\\465837784.py:6: SettingWithCopyWarning: \n",
      "A value is trying to be set on a copy of a slice from a DataFrame\n",
      "\n",
      "See the caveats in the documentation: https://pandas.pydata.org/pandas-docs/stable/user_guide/indexing.html#returning-a-view-versus-a-copy\n",
      "  measurements.rename(columns=new_columns, inplace=True)\n"
     ]
    },
    {
     "data": {
      "text/plain": "   label  frame  Branch Sinuosity  Branch displacement  Branch duration  \\\n0      1      0          9.896631            24.106064            282.0   \n1      1     89          9.896631            24.106064            282.0   \n\n   Branch N successors  Spot center intensity  \\\n0                    2            9383.390024   \n1                    2           17197.047232   \n\n   Spot ellipsoid aspect ratio a_b  Spot ellipsoid aspect ratio a_c  \\\n0                         0.787986                         0.716351   \n1                         0.656232                         0.545348   \n\n   Spot ellipsoid aspect ratio b_c  Spot ellipsoid a  Spot ellipsoid b  \\\n0                         0.909091          4.447973          5.644739   \n1                         0.831030          2.726742          4.155150   \n\n   Spot ellipsoid c  Spot ellipsoid v  Spot intensity (mean)  \\\n0          6.209213        653.027167            6160.017008   \n1          5.000000        237.295387           12630.902747   \n\n   Spot intensity (std)  Spot intensity (min)  Spot intensity (max)  \\\n0           5355.923150                   0.0               29414.0   \n1           7502.955652                  32.0               37946.0   \n\n   Spot intensity (median)  Spot intensity (sum)  \n0                   4624.0            21369099.0  \n1                  11912.0            17013826.0  ",
      "text/html": "<div>\n<style scoped>\n    .dataframe tbody tr th:only-of-type {\n        vertical-align: middle;\n    }\n\n    .dataframe tbody tr th {\n        vertical-align: top;\n    }\n\n    .dataframe thead th {\n        text-align: right;\n    }\n</style>\n<table border=\"1\" class=\"dataframe\">\n  <thead>\n    <tr style=\"text-align: right;\">\n      <th></th>\n      <th>label</th>\n      <th>frame</th>\n      <th>Branch Sinuosity</th>\n      <th>Branch displacement</th>\n      <th>Branch duration</th>\n      <th>Branch N successors</th>\n      <th>Spot center intensity</th>\n      <th>Spot ellipsoid aspect ratio a_b</th>\n      <th>Spot ellipsoid aspect ratio a_c</th>\n      <th>Spot ellipsoid aspect ratio b_c</th>\n      <th>Spot ellipsoid a</th>\n      <th>Spot ellipsoid b</th>\n      <th>Spot ellipsoid c</th>\n      <th>Spot ellipsoid v</th>\n      <th>Spot intensity (mean)</th>\n      <th>Spot intensity (std)</th>\n      <th>Spot intensity (min)</th>\n      <th>Spot intensity (max)</th>\n      <th>Spot intensity (median)</th>\n      <th>Spot intensity (sum)</th>\n    </tr>\n  </thead>\n  <tbody>\n    <tr>\n      <th>0</th>\n      <td>1</td>\n      <td>0</td>\n      <td>9.896631</td>\n      <td>24.106064</td>\n      <td>282.0</td>\n      <td>2</td>\n      <td>9383.390024</td>\n      <td>0.787986</td>\n      <td>0.716351</td>\n      <td>0.909091</td>\n      <td>4.447973</td>\n      <td>5.644739</td>\n      <td>6.209213</td>\n      <td>653.027167</td>\n      <td>6160.017008</td>\n      <td>5355.923150</td>\n      <td>0.0</td>\n      <td>29414.0</td>\n      <td>4624.0</td>\n      <td>21369099.0</td>\n    </tr>\n    <tr>\n      <th>1</th>\n      <td>1</td>\n      <td>89</td>\n      <td>9.896631</td>\n      <td>24.106064</td>\n      <td>282.0</td>\n      <td>2</td>\n      <td>17197.047232</td>\n      <td>0.656232</td>\n      <td>0.545348</td>\n      <td>0.831030</td>\n      <td>2.726742</td>\n      <td>4.155150</td>\n      <td>5.000000</td>\n      <td>237.295387</td>\n      <td>12630.902747</td>\n      <td>7502.955652</td>\n      <td>32.0</td>\n      <td>37946.0</td>\n      <td>11912.0</td>\n      <td>17013826.0</td>\n    </tr>\n  </tbody>\n</table>\n</div>"
     },
     "execution_count": 11,
     "metadata": {},
     "output_type": "execute_result"
    }
   ],
   "source": [
    "new_columns = {'Branch duration and displacement.1': 'Branch duration', 'Branch duration and displacement': 'Branch displacement', 'Spot ellipsoid aspect ratios': 'Spot ellipsoid aspect ratio a_b', 'Spot ellipsoid aspect ratios.1': 'Spot ellipsoid aspect ratio a_c', 'Spot ellipsoid aspect ratios.2': 'Spot ellipsoid aspect ratio b_c', 'Spot ellipsoid properties': 'Spot ellipsoid a', 'Spot ellipsoid properties.1': 'Spot ellipsoid b', 'Spot ellipsoid properties.2': 'Spot ellipsoid c', 'Spot ellipsoid properties.3': 'Spot ellipsoid v', 'Spot intensity' : 'Spot intensity (mean)', 'Spot intensity.1' : 'Spot intensity (std)', 'Spot intensity.2' : 'Spot intensity (min)', 'Spot intensity.3' : 'Spot intensity (max)', 'Spot intensity.4' : 'Spot intensity (median)', 'Spot intensity.5' : 'Spot intensity (sum)'}\n",
    "\n",
    "if 'cell_fate' in measurements.columns:\n",
    "    new_columns['cell_fate'] = 'Cell fate_CLUSTER_ID'\n",
    "\n",
    "# Rename the columns using the dictionary\n",
    "measurements.rename(columns=new_columns, inplace=True)\n",
    "measurements.head(2)"
   ]
  },
  {
   "cell_type": "markdown",
   "metadata": {},
   "source": [
    "### Optionally export measurements to CSV file\n",
    "This can be skipped if the measurements are not needed outside napari."
   ]
  },
  {
   "cell_type": "code",
   "execution_count": 12,
   "metadata": {
    "collapsed": false,
    "tags": [],
    "ExecuteTime": {
     "end_time": "2023-12-20T15:20:37.005395100Z",
     "start_time": "2023-12-20T15:20:34.475136Z"
    }
   },
   "outputs": [],
   "source": [
    "measurements.to_csv(tables_folder_path + '/' + 'measurements_branch_spot_' + str(frame_reduction_factor) + '.csv', sep=',', quotechar='\"', index=False)"
   ]
  },
  {
   "cell_type": "markdown",
   "metadata": {},
   "source": [
    "## View in napari\n",
    "* Installation instructions for napari can be found [here](https://biapol.github.io/blog/mara_lampert/getting_started_with_mambaforge_and_python/readme.html)."
   ]
  },
  {
   "cell_type": "markdown",
   "metadata": {},
   "source": [
    "### Read label image\n",
    "The label image is expected to be exported from Mastodon with the following settings:\n",
    "* Label Id: *Branch spot ID*\n",
    "* Frame rate reduction: expected to be the same as the frame reduction factor specified above"
   ]
  },
  {
   "cell_type": "markdown",
   "metadata": {},
   "source": [
    "#### Set path to label image\n",
    "Enter the path to the label image exported from Mastodon here."
   ]
  },
  {
   "cell_type": "code",
   "execution_count": 13,
   "metadata": {
    "collapsed": false,
    "tags": [],
    "ExecuteTime": {
     "end_time": "2023-12-20T15:20:38.542231200Z",
     "start_time": "2023-12-20T15:20:38.536231500Z"
    }
   },
   "outputs": [],
   "source": [
    "label_image_path = ''"
   ]
  },
  {
   "cell_type": "markdown",
   "metadata": {},
   "source": [
    "#### Read label image from path"
   ]
  },
  {
   "cell_type": "code",
   "execution_count": 14,
   "metadata": {
    "collapsed": false,
    "tags": [],
    "ExecuteTime": {
     "end_time": "2023-12-20T15:21:29.296589500Z",
     "start_time": "2023-12-20T15:20:40.492716600Z"
    }
   },
   "outputs": [],
   "source": [
    "#### Read label image from path\n",
    "label_image_path = Path(label_image_path)\n",
    "label_image = imread(label_image_path)"
   ]
  },
  {
   "cell_type": "markdown",
   "metadata": {},
   "source": [
    "#### Optionally print shape of label image to check if everything is ok, order: t, z, y, x"
   ]
  },
  {
   "cell_type": "code",
   "execution_count": 15,
   "metadata": {
    "collapsed": false,
    "tags": [],
    "ExecuteTime": {
     "end_time": "2023-12-20T15:21:29.360561400Z",
     "start_time": "2023-12-20T15:21:29.315543700Z"
    }
   },
   "outputs": [
    {
     "name": "stdout",
     "output_type": "stream",
     "text": [
      "(504, 12, 500, 1024)\n"
     ]
    }
   ],
   "source": [
    "print(label_image.shape)"
   ]
  },
  {
   "cell_type": "markdown",
   "metadata": {},
   "source": [
    "### Optionally read intensity image\n",
    "This will only work, if the intensity image has the same frame reduction rate as the label image."
   ]
  },
  {
   "cell_type": "markdown",
   "metadata": {},
   "source": [
    "#### Optionally set path to intensity image\n",
    "Enter the path to the intensity image here."
   ]
  },
  {
   "cell_type": "code",
   "execution_count": 17,
   "metadata": {
    "collapsed": false,
    "tags": [],
    "ExecuteTime": {
     "end_time": "2023-12-08T17:06:43.446043900Z",
     "start_time": "2023-12-08T17:06:43.398047100Z"
    }
   },
   "outputs": [],
   "source": [
    "intensity_image_path = ''"
   ]
  },
  {
   "cell_type": "markdown",
   "metadata": {},
   "source": [
    "#### Optionally read intensity image from path"
   ]
  },
  {
   "cell_type": "code",
   "execution_count": 18,
   "metadata": {
    "collapsed": false,
    "tags": [],
    "ExecuteTime": {
     "end_time": "2023-12-08T17:06:47.435922400Z",
     "start_time": "2023-12-08T17:06:43.413047100Z"
    }
   },
   "outputs": [],
   "source": [
    "intensity_image_path = Path(intensity_image_path)\n",
    "intensity_image = imread(intensity_image_path)"
   ]
  },
  {
   "cell_type": "markdown",
   "metadata": {},
   "source": [
    "#### Optionally print shape of intensity image to check if everything is ok. Order: t, z, y, x"
   ]
  },
  {
   "cell_type": "code",
   "execution_count": 19,
   "metadata": {
    "collapsed": false,
    "tags": [],
    "ExecuteTime": {
     "end_time": "2023-12-08T17:06:47.452923Z",
     "start_time": "2023-12-08T17:06:47.437922700Z"
    }
   },
   "outputs": [
    {
     "name": "stdout",
     "output_type": "stream",
     "text": [
      "(504, 12, 500, 1024)\n"
     ]
    }
   ],
   "source": [
    "print(intensity_image.shape)"
   ]
  },
  {
   "cell_type": "markdown",
   "metadata": {},
   "source": [
    "### Open napari viewer"
   ]
  },
  {
   "cell_type": "code",
   "execution_count": 16,
   "metadata": {
    "tags": [],
    "ExecuteTime": {
     "end_time": "2023-12-20T15:21:38.346019500Z",
     "start_time": "2023-12-20T15:21:29.338544200Z"
    }
   },
   "outputs": [],
   "source": [
    "viewer = napari.Viewer()"
   ]
  },
  {
   "cell_type": "markdown",
   "metadata": {},
   "source": [
    "### Set scale of intensity image\n",
    "Due to bugs both in Mastodon export and in Napari import scale needs to be set manually.\n",
    "Expected order: t, z, y, x"
   ]
  },
  {
   "cell_type": "markdown",
   "metadata": {},
   "source": [
    "### Add label image"
   ]
  },
  {
   "cell_type": "code",
   "execution_count": 17,
   "metadata": {
    "tags": [],
    "ExecuteTime": {
     "end_time": "2023-12-20T15:21:38.756018700Z",
     "start_time": "2023-12-20T15:21:38.348020400Z"
    }
   },
   "outputs": [],
   "source": [
    "labels_layer = viewer.add_labels(label_image, features=measurements)"
   ]
  },
  {
   "cell_type": "markdown",
   "metadata": {},
   "source": [
    "### Set scale of label image\n",
    "Due to bugs both in Mastodon export and in Napari import scale needs to be set manually.\n",
    "Expected order: t, z, y, x"
   ]
  },
  {
   "cell_type": "code",
   "execution_count": 18,
   "metadata": {
    "collapsed": false,
    "tags": [],
    "ExecuteTime": {
     "end_time": "2023-12-20T15:21:38.770017900Z",
     "start_time": "2023-12-20T15:21:38.757018700Z"
    }
   },
   "outputs": [],
   "source": [
    "# labels_layer.scale = (1, 2.48, 0.31196313094933187, 0.31196313094933187)\n",
    "# labels_layer.scale = (1, 2.03, 0.41, 0.41)\n",
    "# set scale in napari terminal\n",
    "# viewer.layers[0].scale = (1, 2.48, 0.31196313094933187, 0.31196313094933187)"
   ]
  },
  {
   "cell_type": "markdown",
   "source": [
    "### Optionally add intensity image"
   ],
   "metadata": {
    "collapsed": false
   }
  },
  {
   "cell_type": "code",
   "execution_count": null,
   "outputs": [],
   "source": [
    "intensity_layer = viewer.add_image(intensity_image)"
   ],
   "metadata": {
    "collapsed": false
   }
  },
  {
   "cell_type": "markdown",
   "source": [
    "### Optionally set scale of intensity image\n",
    "Due to bugs both in Mastodon export and in Napari import scale needs to be set manually.\n",
    "Expected order: t, z, y, x\n",
    "Should be the same as for the label image."
   ],
   "metadata": {
    "collapsed": false
   }
  },
  {
   "cell_type": "code",
   "execution_count": null,
   "outputs": [],
   "source": [
    "intensity_layer.scale = (1, 2.48, 0.31196313094933187, 0.31196313094933187)\n",
    "# intensity_layer.scale = (1, 2.03, 0.41, 0.41)"
   ],
   "metadata": {
    "collapsed": false
   }
  },
  {
   "cell_type": "markdown",
   "metadata": {},
   "source": [
    "### Turn on 3D view"
   ]
  },
  {
   "cell_type": "code",
   "execution_count": 19,
   "metadata": {
    "collapsed": false,
    "tags": [],
    "ExecuteTime": {
     "end_time": "2023-12-20T15:21:38.846019100Z",
     "start_time": "2023-12-20T15:21:38.770017900Z"
    }
   },
   "outputs": [],
   "source": [
    "viewer.dims.ndisplay = 3"
   ]
  },
  {
   "cell_type": "markdown",
   "metadata": {},
   "source": [
    "### Load napari-clusters-plotter plugin"
   ]
  },
  {
   "cell_type": "code",
   "execution_count": 20,
   "metadata": {
    "ExecuteTime": {
     "end_time": "2023-12-20T15:21:38.943018400Z",
     "start_time": "2023-12-20T15:21:38.846019100Z"
    }
   },
   "outputs": [
    {
     "data": {
      "text/plain": "(<napari._qt.widgets.qt_viewer_dock_widget.QtViewerDockWidget at 0x2b6b93b1040>,\n <napari_clusters_plotter._plotter.PlotterWidget at 0x2b6b5fee430>)"
     },
     "execution_count": 20,
     "metadata": {},
     "output_type": "execute_result"
    }
   ],
   "source": [
    "viewer.window.add_plugin_dock_widget(plugin_name='napari-clusters-plotter', widget_name='Plotter Widget')\n"
   ]
  },
  {
   "cell_type": "markdown",
   "source": [
    "## You are ready to use the napari-clusters-plotter with the Mastodon data plugin now.\n",
    "Consult the documentation of the napari-clusters-plotter for further instructions, if needed.\n",
    "* https://www.youtube.com/watch?v=qZ8KDrgL1Ro\n",
    "* https://github.com/BiAPoL/napari-clusters-plotter"
   ],
   "metadata": {
    "collapsed": false
   }
  }
 ],
 "metadata": {
  "kernelspec": {
   "display_name": "Python 3 (ipykernel)",
   "language": "python",
   "name": "python3"
  },
  "language_info": {
   "codemirror_mode": {
    "name": "ipython",
    "version": 3
   },
   "file_extension": ".py",
   "mimetype": "text/x-python",
   "name": "python",
   "nbconvert_exporter": "python",
   "pygments_lexer": "ipython3",
   "version": "3.9.18"
  }
 },
 "nbformat": 4,
 "nbformat_minor": 4
}
