{
 "cells": [
  {
   "cell_type": "markdown",
   "metadata": {},
   "source": [
    "# Load Mastodon tracking data on spot and branch level into Napari to use with Napari Clusters Plotter"
   ]
  },
  {
   "cell_type": "markdown",
   "source": [
    "## Prerequisites\n",
    "\n",
    "Before running this notebook, the following steps need to be performed:\n",
    "* Due to a bug in Napari clusters plotter handling tracking data, it may be required to install the latest version of Napari clusters plotter:\n",
    "```\n",
    "mamba activate devbio-napari\n",
    "pip install napari-clusters-plotter==0.8.0\n",
    "```\n",
    "* Compute features on Spot and BranchSpot Level in Mastodon\n",
    "  * Open \"Compute Features View\"\n",
    "  * Select all available Spot and Branch Spot features > Compute\n",
    "    * Wait until computation is finished\n",
    "* Compute relative movement for Spots and Branch Spots separately\n",
    "  * Plugins > Compute feature > Movement of spots relative to nearest neighbors\n",
    "* Export Spot and Branch Spot tables \n",
    "  * Open \"Table View\"\n",
    "  * Select BranchSpot \n",
    "  * File > Export to CSV\n",
    "  * Select Spot\n",
    "  * File > Export to CSV \n",
    "* Export label image from Mastodon\n",
    "  * Plugins > Exports > Export label image using ellipsoids\n",
    "  * Select \"Branch Spot ID\" as label id\n",
    "  * Select a frame reduction rate of 1\n",
    "    * Higher frame reduction rates are possible and may speed up analyses in napari clusters plotter\n",
    "    * If a frame reduction rate higher than 1 is used, a version of the intensity image would need to be created with the same frame reduction rate or no intensity image can be loaded into napari "
   ],
   "metadata": {
    "collapsed": false
   }
  },
  {
   "cell_type": "code",
   "metadata": {
    "tags": [],
    "ExecuteTime": {
     "end_time": "2024-06-13T13:13:18.807695Z",
     "start_time": "2024-06-13T13:13:17.864632Z"
    }
   },
   "source": [
    "from pathlib import Path\n",
    "import napari\n",
    "import pandas as pd\n",
    "from skimage.io import imread"
   ],
   "outputs": [],
   "execution_count": 1
  },
  {
   "cell_type": "markdown",
   "metadata": {},
   "source": [
    "## Read tables from Mastodon"
   ]
  },
  {
   "cell_type": "markdown",
   "metadata": {},
   "source": [
    "#### Set path to tables\n",
    "Enter the path to the tables here. Within that folder, there should be two tables:\n",
    "* Spot.csv\n",
    "* BranchSpot.csv"
   ]
  },
  {
   "cell_type": "code",
   "metadata": {
    "collapsed": false,
    "tags": [],
    "ExecuteTime": {
     "end_time": "2024-06-13T13:13:45.207925Z",
     "start_time": "2024-06-13T13:13:45.194860Z"
    }
   },
   "source": "tables_folder_path = ''",
   "outputs": [],
   "execution_count": 2
  },
  {
   "cell_type": "markdown",
   "metadata": {},
   "source": [
    "#### Read tables from path\n",
    "Rows with NaN values are removed."
   ]
  },
  {
   "cell_type": "code",
   "metadata": {
    "tags": [],
    "ExecuteTime": {
     "end_time": "2024-06-13T13:13:51.416718Z",
     "start_time": "2024-06-13T13:13:46.381307Z"
    }
   },
   "source": [
    "spot_table_path = Path(tables_folder_path + '/Spot.csv')\n",
    "spot_table = pd.read_csv(spot_table_path, skiprows=[1,2], encoding='utf-8', low_memory=False)\n",
    "# remove rows with NaN values\n",
    "spot_table = spot_table.dropna()\n",
    "\n",
    "branch_spot_table_path = Path(tables_folder_path + '/BranchSpot.csv')\n",
    "branch_spot_table = pd.read_csv(branch_spot_table_path, skiprows=[1,2], encoding='utf-8', low_memory=False)\n",
    "# remove rows with NaN values\n",
    "branch_spot_table = branch_spot_table.dropna()"
   ],
   "outputs": [],
   "execution_count": 3
  },
  {
   "cell_type": "markdown",
   "metadata": {},
   "source": [
    "#### Specify frame reduction factor\n",
    "The frame reduction factor is the factor by which the frame rate has been reduced in Mastodon. This is necessary to account for the fact that the label image has been exported with a reduced frame rate, while the spot table has been exported with the original frame rate.\n",
    "Specify here the same factor that has been used when exporting the label image from Mastodon"
   ]
  },
  {
   "cell_type": "code",
   "metadata": {
    "collapsed": false,
    "tags": [],
    "ExecuteTime": {
     "end_time": "2024-06-13T13:13:51.432706Z",
     "start_time": "2024-06-13T13:13:51.418707Z"
    }
   },
   "source": "frame_reduction_factor = 1",
   "outputs": [],
   "execution_count": 4
  },
  {
   "cell_type": "markdown",
   "source": [
    "#### Remove rows whose related frames are not in the label image"
   ],
   "metadata": {
    "collapsed": false
   }
  },
  {
   "cell_type": "code",
   "metadata": {
    "collapsed": false,
    "tags": [],
    "ExecuteTime": {
     "end_time": "2024-06-13T13:14:04.432652Z",
     "start_time": "2024-06-13T13:14:04.334654Z"
    }
   },
   "source": [
    "spot_table = spot_table[spot_table['Spot frame'] % frame_reduction_factor == 0]\n",
    "spot_table['Spot frame'] = spot_table['Spot frame'] / frame_reduction_factor\n",
    "spot_table['Spot frame'] = spot_table['Spot frame'].astype(int)"
   ],
   "outputs": [],
   "execution_count": 5
  },
  {
   "cell_type": "markdown",
   "metadata": {},
   "source": [
    "#### Optionally print head of spot table to check if everything is ok"
   ]
  },
  {
   "cell_type": "code",
   "metadata": {
    "tags": [],
    "ExecuteTime": {
     "end_time": "2024-06-13T13:14:07.076333Z",
     "start_time": "2024-06-13T13:14:07.053248Z"
    }
   },
   "source": [
    "spot_table.head(2)"
   ],
   "outputs": [
    {
     "data": {
      "text/plain": [
       "   Label  ID  Branch spot ID  Spot N links  Spot N links.1  Spot N links.2  \\\n",
       "10    4a  10               0             2               1               1   \n",
       "20    4a  20               0             2               1               1   \n",
       "\n",
       "    Spot center intensity  Spot ellipsoid aspect ratios  \\\n",
       "10              89.828468                           1.0   \n",
       "20              80.334953                           1.0   \n",
       "\n",
       "    Spot ellipsoid aspect ratios.1  Spot ellipsoid aspect ratios.2  ...  \\\n",
       "10                             1.0                             1.0  ...   \n",
       "20                             1.0                             1.0  ...   \n",
       "\n",
       "    Progenitor.252  Progenitor.253  Progenitor.254  Progenitor.255  \\\n",
       "10               0               0               0               0   \n",
       "20               0               0               0               0   \n",
       "\n",
       "    Proliferator  Proliferator.1  Proliferator.2  Status  Tracking  Tracking.1  \n",
       "10             0               0               0       0         0           0  \n",
       "20             0               0               0       0         0           0  \n",
       "\n",
       "[2 rows x 305 columns]"
      ],
      "text/html": [
       "<div>\n",
       "<style scoped>\n",
       "    .dataframe tbody tr th:only-of-type {\n",
       "        vertical-align: middle;\n",
       "    }\n",
       "\n",
       "    .dataframe tbody tr th {\n",
       "        vertical-align: top;\n",
       "    }\n",
       "\n",
       "    .dataframe thead th {\n",
       "        text-align: right;\n",
       "    }\n",
       "</style>\n",
       "<table border=\"1\" class=\"dataframe\">\n",
       "  <thead>\n",
       "    <tr style=\"text-align: right;\">\n",
       "      <th></th>\n",
       "      <th>Label</th>\n",
       "      <th>ID</th>\n",
       "      <th>Branch spot ID</th>\n",
       "      <th>Spot N links</th>\n",
       "      <th>Spot N links.1</th>\n",
       "      <th>Spot N links.2</th>\n",
       "      <th>Spot center intensity</th>\n",
       "      <th>Spot ellipsoid aspect ratios</th>\n",
       "      <th>Spot ellipsoid aspect ratios.1</th>\n",
       "      <th>Spot ellipsoid aspect ratios.2</th>\n",
       "      <th>...</th>\n",
       "      <th>Progenitor.252</th>\n",
       "      <th>Progenitor.253</th>\n",
       "      <th>Progenitor.254</th>\n",
       "      <th>Progenitor.255</th>\n",
       "      <th>Proliferator</th>\n",
       "      <th>Proliferator.1</th>\n",
       "      <th>Proliferator.2</th>\n",
       "      <th>Status</th>\n",
       "      <th>Tracking</th>\n",
       "      <th>Tracking.1</th>\n",
       "    </tr>\n",
       "  </thead>\n",
       "  <tbody>\n",
       "    <tr>\n",
       "      <th>10</th>\n",
       "      <td>4a</td>\n",
       "      <td>10</td>\n",
       "      <td>0</td>\n",
       "      <td>2</td>\n",
       "      <td>1</td>\n",
       "      <td>1</td>\n",
       "      <td>89.828468</td>\n",
       "      <td>1.0</td>\n",
       "      <td>1.0</td>\n",
       "      <td>1.0</td>\n",
       "      <td>...</td>\n",
       "      <td>0</td>\n",
       "      <td>0</td>\n",
       "      <td>0</td>\n",
       "      <td>0</td>\n",
       "      <td>0</td>\n",
       "      <td>0</td>\n",
       "      <td>0</td>\n",
       "      <td>0</td>\n",
       "      <td>0</td>\n",
       "      <td>0</td>\n",
       "    </tr>\n",
       "    <tr>\n",
       "      <th>20</th>\n",
       "      <td>4a</td>\n",
       "      <td>20</td>\n",
       "      <td>0</td>\n",
       "      <td>2</td>\n",
       "      <td>1</td>\n",
       "      <td>1</td>\n",
       "      <td>80.334953</td>\n",
       "      <td>1.0</td>\n",
       "      <td>1.0</td>\n",
       "      <td>1.0</td>\n",
       "      <td>...</td>\n",
       "      <td>0</td>\n",
       "      <td>0</td>\n",
       "      <td>0</td>\n",
       "      <td>0</td>\n",
       "      <td>0</td>\n",
       "      <td>0</td>\n",
       "      <td>0</td>\n",
       "      <td>0</td>\n",
       "      <td>0</td>\n",
       "      <td>0</td>\n",
       "    </tr>\n",
       "  </tbody>\n",
       "</table>\n",
       "<p>2 rows × 305 columns</p>\n",
       "</div>"
      ]
     },
     "execution_count": 6,
     "metadata": {},
     "output_type": "execute_result"
    }
   ],
   "execution_count": 6
  },
  {
   "cell_type": "markdown",
   "metadata": {},
   "source": [
    "#### Optionally print head of branch spot table to check if everything is ok"
   ]
  },
  {
   "cell_type": "code",
   "metadata": {
    "tags": [],
    "ExecuteTime": {
     "end_time": "2024-06-13T13:14:16.831017Z",
     "start_time": "2024-06-13T13:14:16.807994Z"
    }
   },
   "source": [
    "branch_spot_table.head(2)"
   ],
   "outputs": [
    {
     "data": {
      "text/plain": [
       "  Label  ID  Branch Average Movement  Branch Movement Direction  \\\n",
       "0    4a   0                 4.401529                  -0.381489   \n",
       "1    4b   1                 4.034335                  -0.535540   \n",
       "\n",
       "   Branch Movement Direction.1  Branch Movement Direction.2  \\\n",
       "0                     0.317543                    -0.868120   \n",
       "1                    -0.282902                    -0.795716   \n",
       "\n",
       "   Branch N Successors and Predecessors  \\\n",
       "0                                     0   \n",
       "1                                     0   \n",
       "\n",
       "   Branch N Successors and Predecessors.1  Branch N leaves  Branch N spots  \\\n",
       "0                                       0                1             920   \n",
       "1                                       0                1             920   \n",
       "\n",
       "   ...  Progenitor.252  Progenitor.253  Progenitor.254  Progenitor.255  \\\n",
       "0  ...               0               0               0               0   \n",
       "1  ...               0               0               0               0   \n",
       "\n",
       "   Proliferator  Proliferator.1  Proliferator.2  Status  Tracking  Tracking.1  \n",
       "0             0               0               0       0         0           0  \n",
       "1             0               0               0       0         0           0  \n",
       "\n",
       "[2 rows x 293 columns]"
      ],
      "text/html": [
       "<div>\n",
       "<style scoped>\n",
       "    .dataframe tbody tr th:only-of-type {\n",
       "        vertical-align: middle;\n",
       "    }\n",
       "\n",
       "    .dataframe tbody tr th {\n",
       "        vertical-align: top;\n",
       "    }\n",
       "\n",
       "    .dataframe thead th {\n",
       "        text-align: right;\n",
       "    }\n",
       "</style>\n",
       "<table border=\"1\" class=\"dataframe\">\n",
       "  <thead>\n",
       "    <tr style=\"text-align: right;\">\n",
       "      <th></th>\n",
       "      <th>Label</th>\n",
       "      <th>ID</th>\n",
       "      <th>Branch Average Movement</th>\n",
       "      <th>Branch Movement Direction</th>\n",
       "      <th>Branch Movement Direction.1</th>\n",
       "      <th>Branch Movement Direction.2</th>\n",
       "      <th>Branch N Successors and Predecessors</th>\n",
       "      <th>Branch N Successors and Predecessors.1</th>\n",
       "      <th>Branch N leaves</th>\n",
       "      <th>Branch N spots</th>\n",
       "      <th>...</th>\n",
       "      <th>Progenitor.252</th>\n",
       "      <th>Progenitor.253</th>\n",
       "      <th>Progenitor.254</th>\n",
       "      <th>Progenitor.255</th>\n",
       "      <th>Proliferator</th>\n",
       "      <th>Proliferator.1</th>\n",
       "      <th>Proliferator.2</th>\n",
       "      <th>Status</th>\n",
       "      <th>Tracking</th>\n",
       "      <th>Tracking.1</th>\n",
       "    </tr>\n",
       "  </thead>\n",
       "  <tbody>\n",
       "    <tr>\n",
       "      <th>0</th>\n",
       "      <td>4a</td>\n",
       "      <td>0</td>\n",
       "      <td>4.401529</td>\n",
       "      <td>-0.381489</td>\n",
       "      <td>0.317543</td>\n",
       "      <td>-0.868120</td>\n",
       "      <td>0</td>\n",
       "      <td>0</td>\n",
       "      <td>1</td>\n",
       "      <td>920</td>\n",
       "      <td>...</td>\n",
       "      <td>0</td>\n",
       "      <td>0</td>\n",
       "      <td>0</td>\n",
       "      <td>0</td>\n",
       "      <td>0</td>\n",
       "      <td>0</td>\n",
       "      <td>0</td>\n",
       "      <td>0</td>\n",
       "      <td>0</td>\n",
       "      <td>0</td>\n",
       "    </tr>\n",
       "    <tr>\n",
       "      <th>1</th>\n",
       "      <td>4b</td>\n",
       "      <td>1</td>\n",
       "      <td>4.034335</td>\n",
       "      <td>-0.535540</td>\n",
       "      <td>-0.282902</td>\n",
       "      <td>-0.795716</td>\n",
       "      <td>0</td>\n",
       "      <td>0</td>\n",
       "      <td>1</td>\n",
       "      <td>920</td>\n",
       "      <td>...</td>\n",
       "      <td>0</td>\n",
       "      <td>0</td>\n",
       "      <td>0</td>\n",
       "      <td>0</td>\n",
       "      <td>0</td>\n",
       "      <td>0</td>\n",
       "      <td>0</td>\n",
       "      <td>0</td>\n",
       "      <td>0</td>\n",
       "      <td>0</td>\n",
       "    </tr>\n",
       "  </tbody>\n",
       "</table>\n",
       "<p>2 rows × 293 columns</p>\n",
       "</div>"
      ]
     },
     "execution_count": 7,
     "metadata": {},
     "output_type": "execute_result"
    }
   ],
   "execution_count": 7
  },
  {
   "cell_type": "markdown",
   "metadata": {},
   "source": [
    "## Change tables to match napari-clusters-plotter standards\n",
    "Mastodon 'label' column needs to be removed from both tables. The spot table needs to be extended with a frame column and a label column.\n",
    "The branch spot table needs to be extended with a label column."
   ]
  },
  {
   "cell_type": "code",
   "metadata": {
    "tags": [],
    "ExecuteTime": {
     "end_time": "2024-06-13T13:14:20.051175Z",
     "start_time": "2024-06-13T13:14:20.015079Z"
    }
   },
   "source": [
    "# Remove Label column from Mastodon tables\n",
    "spot_table = spot_table.drop(columns=['Label'])\n",
    "branch_spot_table = branch_spot_table.drop(columns=['Label'])\n",
    "\n",
    "# Add frame and label column to spot table\n",
    "spot_table['frame'] = spot_table['Spot frame'].astype(int)\n",
    "spot_table['label'] = spot_table['Branch spot ID'].astype(int) + 1 # Turning branch spot ids into labels, NB: + 1 needs to be added, since the ids are counted one based in the respective Mastodon export plugin\n",
    "\n",
    "# Add a column 'Branch spot ID' to allow table merging\n",
    "branch_spot_table['label'] = branch_spot_table['ID'].astype(int) + 1 # Turning branch spot ids into labels, NB: + 1 needs to be added, since the ids are counted one based in the respective Mastodon"
   ],
   "outputs": [],
   "execution_count": 8
  },
  {
   "cell_type": "markdown",
   "metadata": {},
   "source": [
    "### Currently available Branch spot features:\n",
    "* label\n",
    "* Branch Average Movement\n",
    "* Branch Movement Direction (X)\n",
    "* Branch Movement Direction.1 (Y)\n",
    "* Branch Movement Direction.2 (Z)\n",
    "* Branch N Successors and Predecessors (successors)\n",
    "* Branch N Successors and Predecessors.1 predecessors (predecessors)\n",
    "* Branch Sinuosity\n",
    "* Branch duration and displacement (displacement)\n",
    "* Branch duration and displacement.1 (duration)\n",
    "* Branch Relative Movement (x-component)\n",
    "* Branch Relative Movement.1 (y-component)\n",
    "* Branch Relative Movement.2 (z-component)\n",
    "* Branch Relative Movement.3 (average speed relative to 5 nearest neighbors)\n",
    "* Cell Division Frequency\n",
    "### Currently available Branch spot features:\n",
    "* label \n",
    "* Spot center intensity\n",
    "* Spot ellipsoid aspect ratios (a_b)\n",
    "* Spot ellipsoid aspect ratios.1 (a_c)\n",
    "* Spot ellipsoid aspect ratios.2 (b_c)\n",
    "* Spot ellipsoid properties (a)\n",
    "* Spot ellipsoid properties.1 (b)\n",
    "* Spot ellipsoid properties.2 (c)\n",
    "* Spot ellipsoid properties.3 (v)\n",
    "* Spot frame (frame)\n",
    "* Spot intensity (mean)\n",
    "* Spot intensity.1 (std)\n",
    "* Spot intensity.2 (min)\n",
    "* Spot intensity.3 (max)\n",
    "* Spot intensity.4 (median)\n",
    "* Spot intensity.5 (sum)\n",
    "* Spot position (x)\n",
    "* Spot position.1 (y)\n",
    "* Spot position.2 (z)\n",
    "* Spot relative movement (x)\n",
    "* Spot relative movement.1 (y)\n",
    "* Spot relative movement.2 (z)\n",
    "* Spot relative movement.3 (distance)"
   ]
  },
  {
   "cell_type": "markdown",
   "metadata": {},
   "source": [
    "### Merge spot table and branch spot table"
   ]
  },
  {
   "cell_type": "code",
   "metadata": {
    "collapsed": false,
    "tags": [],
    "ExecuteTime": {
     "end_time": "2024-06-13T13:14:24.684906Z",
     "start_time": "2024-06-13T13:14:24.545819Z"
    }
   },
   "source": [
    "measurements_temp = pd.merge(left=spot_table, right=branch_spot_table, how='outer', on='label', suffixes=('_spot', '_branch'))\n",
    "measurements_temp.head(2)"
   ],
   "outputs": [
    {
     "data": {
      "text/plain": [
       "   ID_spot  Branch spot ID  Spot N links  Spot N links.1  Spot N links.2  \\\n",
       "0     10.0             0.0           2.0             1.0             1.0   \n",
       "1     20.0             0.0           2.0             1.0             1.0   \n",
       "\n",
       "   Spot center intensity  Spot ellipsoid aspect ratios  \\\n",
       "0              89.828468                           1.0   \n",
       "1              80.334953                           1.0   \n",
       "\n",
       "   Spot ellipsoid aspect ratios.1  Spot ellipsoid aspect ratios.2  \\\n",
       "0                             1.0                             1.0   \n",
       "1                             1.0                             1.0   \n",
       "\n",
       "   Spot ellipsoid properties  ...  Progenitor.252_branch  \\\n",
       "0                  50.544703  ...                    0.0   \n",
       "1                  50.544703  ...                    0.0   \n",
       "\n",
       "   Progenitor.253_branch  Progenitor.254_branch  Progenitor.255_branch  \\\n",
       "0                    0.0                    0.0                    0.0   \n",
       "1                    0.0                    0.0                    0.0   \n",
       "\n",
       "   Proliferator_branch  Proliferator.1_branch  Proliferator.2_branch  \\\n",
       "0                  0.0                    0.0                    0.0   \n",
       "1                  0.0                    0.0                    0.0   \n",
       "\n",
       "   Status_branch  Tracking_branch  Tracking.1_branch  \n",
       "0            0.0              0.0                0.0  \n",
       "1            0.0              0.0                0.0  \n",
       "\n",
       "[2 rows x 598 columns]"
      ],
      "text/html": [
       "<div>\n",
       "<style scoped>\n",
       "    .dataframe tbody tr th:only-of-type {\n",
       "        vertical-align: middle;\n",
       "    }\n",
       "\n",
       "    .dataframe tbody tr th {\n",
       "        vertical-align: top;\n",
       "    }\n",
       "\n",
       "    .dataframe thead th {\n",
       "        text-align: right;\n",
       "    }\n",
       "</style>\n",
       "<table border=\"1\" class=\"dataframe\">\n",
       "  <thead>\n",
       "    <tr style=\"text-align: right;\">\n",
       "      <th></th>\n",
       "      <th>ID_spot</th>\n",
       "      <th>Branch spot ID</th>\n",
       "      <th>Spot N links</th>\n",
       "      <th>Spot N links.1</th>\n",
       "      <th>Spot N links.2</th>\n",
       "      <th>Spot center intensity</th>\n",
       "      <th>Spot ellipsoid aspect ratios</th>\n",
       "      <th>Spot ellipsoid aspect ratios.1</th>\n",
       "      <th>Spot ellipsoid aspect ratios.2</th>\n",
       "      <th>Spot ellipsoid properties</th>\n",
       "      <th>...</th>\n",
       "      <th>Progenitor.252_branch</th>\n",
       "      <th>Progenitor.253_branch</th>\n",
       "      <th>Progenitor.254_branch</th>\n",
       "      <th>Progenitor.255_branch</th>\n",
       "      <th>Proliferator_branch</th>\n",
       "      <th>Proliferator.1_branch</th>\n",
       "      <th>Proliferator.2_branch</th>\n",
       "      <th>Status_branch</th>\n",
       "      <th>Tracking_branch</th>\n",
       "      <th>Tracking.1_branch</th>\n",
       "    </tr>\n",
       "  </thead>\n",
       "  <tbody>\n",
       "    <tr>\n",
       "      <th>0</th>\n",
       "      <td>10.0</td>\n",
       "      <td>0.0</td>\n",
       "      <td>2.0</td>\n",
       "      <td>1.0</td>\n",
       "      <td>1.0</td>\n",
       "      <td>89.828468</td>\n",
       "      <td>1.0</td>\n",
       "      <td>1.0</td>\n",
       "      <td>1.0</td>\n",
       "      <td>50.544703</td>\n",
       "      <td>...</td>\n",
       "      <td>0.0</td>\n",
       "      <td>0.0</td>\n",
       "      <td>0.0</td>\n",
       "      <td>0.0</td>\n",
       "      <td>0.0</td>\n",
       "      <td>0.0</td>\n",
       "      <td>0.0</td>\n",
       "      <td>0.0</td>\n",
       "      <td>0.0</td>\n",
       "      <td>0.0</td>\n",
       "    </tr>\n",
       "    <tr>\n",
       "      <th>1</th>\n",
       "      <td>20.0</td>\n",
       "      <td>0.0</td>\n",
       "      <td>2.0</td>\n",
       "      <td>1.0</td>\n",
       "      <td>1.0</td>\n",
       "      <td>80.334953</td>\n",
       "      <td>1.0</td>\n",
       "      <td>1.0</td>\n",
       "      <td>1.0</td>\n",
       "      <td>50.544703</td>\n",
       "      <td>...</td>\n",
       "      <td>0.0</td>\n",
       "      <td>0.0</td>\n",
       "      <td>0.0</td>\n",
       "      <td>0.0</td>\n",
       "      <td>0.0</td>\n",
       "      <td>0.0</td>\n",
       "      <td>0.0</td>\n",
       "      <td>0.0</td>\n",
       "      <td>0.0</td>\n",
       "      <td>0.0</td>\n",
       "    </tr>\n",
       "  </tbody>\n",
       "</table>\n",
       "<p>2 rows × 598 columns</p>\n",
       "</div>"
      ]
     },
     "execution_count": 9,
     "metadata": {},
     "output_type": "execute_result"
    }
   ],
   "execution_count": 9
  },
  {
   "cell_type": "markdown",
   "source": [
    "### Optional create a cell fate column \n",
    "This is only useful, if the cell fate has been annotated in Mastodon."
   ],
   "metadata": {
    "collapsed": false
   }
  },
  {
   "cell_type": "code",
   "source": [
    "# Define a function to determine the combined value\n",
    "def cell_fate_values_to_label(row):\n",
    "    if row['cell_fate_spot']:\n",
    "        return 1\n",
    "    elif row['cell_fate.1_spot']:\n",
    "        return 2\n",
    "    elif row['cell_fate.2_spot']:\n",
    "        return 3\n",
    "    elif row['cell_fate.3_spot']:\n",
    "        return 4\n",
    "    elif row['cell_fate.4_spot']:\n",
    "        return 5\n",
    "    elif row['cell_fate.5_spot']:\n",
    "        return 6\n",
    "    elif row['cell_fate.6_spot']:\n",
    "        return 7\n",
    "    elif row['cell_fate.7_spot']:\n",
    "        return 8\n",
    "    elif row['cell_fate.8_spot']:\n",
    "        return 9\n",
    "    elif row['cell_fate.9_spot']:\n",
    "        return 10\n",
    "    elif row['cell_fate.10_spot']:\n",
    "        return 11\n",
    "    elif row['cell_fate.11_spot']:\n",
    "        return 12\n",
    "    elif row['cell_fate.12_spot']:\n",
    "        return 13\n",
    "    else:\n",
    "        return 0 \n",
    "\n",
    "# create a new column with 13 different cell fates\n",
    "measurements_temp['cell_fate'] = measurements_temp.apply(cell_fate_values_to_label, axis=1)"
   ],
   "metadata": {
    "collapsed": false,
    "ExecuteTime": {
     "end_time": "2024-06-10T15:30:43.777783Z",
     "start_time": "2024-06-10T15:30:43.522415Z"
    }
   },
   "outputs": [],
   "execution_count": 10
  },
  {
   "cell_type": "markdown",
   "metadata": {},
   "source": [
    "### Remove unnecessary columns to save some RAM"
   ]
  },
  {
   "cell_type": "code",
   "metadata": {
    "collapsed": false,
    "tags": [],
    "ExecuteTime": {
     "end_time": "2024-06-13T13:14:34.027187Z",
     "start_time": "2024-06-13T13:14:34.011187Z"
    }
   },
   "source": [
    "columns_to_keep = ['label', 'Branch Average Movement', 'Branch Movement Direction', 'Branch Movement Direction.1', 'Branch Movement Direction.2', 'Branch N Successors and Predecessors', 'Branch N Successors and Predecessors.1', 'Branch Sinuosity', 'Branch duration and displacement', 'Branch duration and displacement.1', 'Branch relative movement', 'Branch relative movement.1', 'Branch relative movement.2', 'Branch relative movement.3', 'Cell division frequency', 'Spot center intensity', 'Spot ellipsoid aspect ratios', 'Spot ellipsoid aspect ratios.1', 'Spot ellipsoid aspect ratios.2', 'Spot ellipsoid properties', 'Spot ellipsoid properties.1', 'Spot ellipsoid properties.2', 'Spot ellipsoid properties.3', 'Spot intensity', 'Spot intensity.1', 'Spot intensity.2', 'Spot intensity.3', 'Spot intensity.4', 'Spot intensity.5', 'Spot position', 'Spot position.1', 'Spot position.2', 'Spot relative movement', 'Spot relative movement.1', 'Spot relative movement.2', 'Spot relative movement.3' ]\n",
    "if 'cell_fate' in measurements_temp.columns:\n",
    "    columns_to_keep.append('cell_fate')\n",
    "measurements = measurements_temp[columns_to_keep]\n",
    "measurements.head(2)\n"
   ],
   "outputs": [
    {
     "data": {
      "text/plain": [
       "   label  Branch Average Movement  Branch Movement Direction  \\\n",
       "0      1                 4.401529                  -0.381489   \n",
       "1      1                 4.401529                  -0.381489   \n",
       "\n",
       "   Branch Movement Direction.1  Branch Movement Direction.2  \\\n",
       "0                     0.317543                     -0.86812   \n",
       "1                     0.317543                     -0.86812   \n",
       "\n",
       "   Branch N Successors and Predecessors  \\\n",
       "0                                   0.0   \n",
       "1                                   0.0   \n",
       "\n",
       "   Branch N Successors and Predecessors.1  Branch Sinuosity  \\\n",
       "0                                     0.0         12.883699   \n",
       "1                                     0.0         12.883699   \n",
       "\n",
       "   Branch duration and displacement  Branch duration and displacement.1  ...  \\\n",
       "0                        313.963031                               919.0  ...   \n",
       "1                        313.963031                               919.0  ...   \n",
       "\n",
       "   Spot intensity.3  Spot intensity.4  Spot intensity.5  Spot position  \\\n",
       "0             203.0              61.0        38649103.0     362.105408   \n",
       "1             181.0              57.0        34806414.0     354.594405   \n",
       "\n",
       "   Spot position.1  Spot position.2  Spot relative movement  \\\n",
       "0       257.609315       541.022548               -3.922726   \n",
       "1       278.062470       513.288292                2.138997   \n",
       "\n",
       "   Spot relative movement.1  Spot relative movement.2  \\\n",
       "0                  5.083352                  6.575561   \n",
       "1                 -2.138194                 -1.427734   \n",
       "\n",
       "   Spot relative movement.3  \n",
       "0                  9.190552  \n",
       "1                  3.344490  \n",
       "\n",
       "[2 rows x 36 columns]"
      ],
      "text/html": [
       "<div>\n",
       "<style scoped>\n",
       "    .dataframe tbody tr th:only-of-type {\n",
       "        vertical-align: middle;\n",
       "    }\n",
       "\n",
       "    .dataframe tbody tr th {\n",
       "        vertical-align: top;\n",
       "    }\n",
       "\n",
       "    .dataframe thead th {\n",
       "        text-align: right;\n",
       "    }\n",
       "</style>\n",
       "<table border=\"1\" class=\"dataframe\">\n",
       "  <thead>\n",
       "    <tr style=\"text-align: right;\">\n",
       "      <th></th>\n",
       "      <th>label</th>\n",
       "      <th>Branch Average Movement</th>\n",
       "      <th>Branch Movement Direction</th>\n",
       "      <th>Branch Movement Direction.1</th>\n",
       "      <th>Branch Movement Direction.2</th>\n",
       "      <th>Branch N Successors and Predecessors</th>\n",
       "      <th>Branch N Successors and Predecessors.1</th>\n",
       "      <th>Branch Sinuosity</th>\n",
       "      <th>Branch duration and displacement</th>\n",
       "      <th>Branch duration and displacement.1</th>\n",
       "      <th>...</th>\n",
       "      <th>Spot intensity.3</th>\n",
       "      <th>Spot intensity.4</th>\n",
       "      <th>Spot intensity.5</th>\n",
       "      <th>Spot position</th>\n",
       "      <th>Spot position.1</th>\n",
       "      <th>Spot position.2</th>\n",
       "      <th>Spot relative movement</th>\n",
       "      <th>Spot relative movement.1</th>\n",
       "      <th>Spot relative movement.2</th>\n",
       "      <th>Spot relative movement.3</th>\n",
       "    </tr>\n",
       "  </thead>\n",
       "  <tbody>\n",
       "    <tr>\n",
       "      <th>0</th>\n",
       "      <td>1</td>\n",
       "      <td>4.401529</td>\n",
       "      <td>-0.381489</td>\n",
       "      <td>0.317543</td>\n",
       "      <td>-0.86812</td>\n",
       "      <td>0.0</td>\n",
       "      <td>0.0</td>\n",
       "      <td>12.883699</td>\n",
       "      <td>313.963031</td>\n",
       "      <td>919.0</td>\n",
       "      <td>...</td>\n",
       "      <td>203.0</td>\n",
       "      <td>61.0</td>\n",
       "      <td>38649103.0</td>\n",
       "      <td>362.105408</td>\n",
       "      <td>257.609315</td>\n",
       "      <td>541.022548</td>\n",
       "      <td>-3.922726</td>\n",
       "      <td>5.083352</td>\n",
       "      <td>6.575561</td>\n",
       "      <td>9.190552</td>\n",
       "    </tr>\n",
       "    <tr>\n",
       "      <th>1</th>\n",
       "      <td>1</td>\n",
       "      <td>4.401529</td>\n",
       "      <td>-0.381489</td>\n",
       "      <td>0.317543</td>\n",
       "      <td>-0.86812</td>\n",
       "      <td>0.0</td>\n",
       "      <td>0.0</td>\n",
       "      <td>12.883699</td>\n",
       "      <td>313.963031</td>\n",
       "      <td>919.0</td>\n",
       "      <td>...</td>\n",
       "      <td>181.0</td>\n",
       "      <td>57.0</td>\n",
       "      <td>34806414.0</td>\n",
       "      <td>354.594405</td>\n",
       "      <td>278.062470</td>\n",
       "      <td>513.288292</td>\n",
       "      <td>2.138997</td>\n",
       "      <td>-2.138194</td>\n",
       "      <td>-1.427734</td>\n",
       "      <td>3.344490</td>\n",
       "    </tr>\n",
       "  </tbody>\n",
       "</table>\n",
       "<p>2 rows × 36 columns</p>\n",
       "</div>"
      ]
     },
     "execution_count": 10,
     "metadata": {},
     "output_type": "execute_result"
    }
   ],
   "execution_count": 10
  },
  {
   "cell_type": "markdown",
   "metadata": {},
   "source": [
    "### Rename columns to have more meaningful names"
   ]
  },
  {
   "cell_type": "code",
   "metadata": {
    "collapsed": false,
    "tags": [],
    "ExecuteTime": {
     "end_time": "2024-06-13T13:14:38.728825Z",
     "start_time": "2024-06-13T13:14:38.699770Z"
    }
   },
   "source": [
    "new_columns = {'Branch duration and displacement.1': 'Branch duration', 'Branch duration and displacement': 'Branch displacement', 'Branch Movement Direction' : 'Branch Movement Direction (X)', 'Branch Movement Direction.1' : 'Branch Movement Direction (Y)', 'Branch Movement Direction.2' : 'Branch Movement Direction (Z)', 'Branch relative movement' : 'Branch Relative Movement (x-component)', 'Branch relative movement.1' : 'Branch Relative Movement (y-component)', 'Branch relative movement.2' : 'Branch Relative Movement (z-component)', 'Branch relative movement.3' : 'Branch Relative Movement', 'Branch N Successors and Predecessors' : 'Branch N Successors', 'Branch N Successors and Predecessors.1' : 'Branch N Predecessors', 'Spot ellipsoid aspect ratios': 'Spot ellipsoid aspect ratio a_b', 'Spot ellipsoid aspect ratios.1': 'Spot ellipsoid aspect ratio a_c', 'Spot ellipsoid aspect ratios.2': 'Spot ellipsoid aspect ratio b_c', 'Spot ellipsoid properties': 'Spot ellipsoid axis a', 'Spot ellipsoid properties.1': 'Spot ellipsoid axis b', 'Spot ellipsoid properties.2': 'Spot ellipsoid axis c', 'Spot ellipsoid properties.3': 'Spot ellipsoid axis v', 'Spot intensity' : 'Spot intensity (mean)', 'Spot intensity.1' : 'Spot intensity (std)', 'Spot intensity.2' : 'Spot intensity (min)', 'Spot intensity.3' : 'Spot intensity (max)', 'Spot intensity.4' : 'Spot intensity (median)', 'Spot intensity.5' : 'Spot intensity (sum)', 'Spot position' : 'Spot position x', 'Spot position.1' : 'Spot position y', 'Spot position.2' : 'Spot position z', 'Spot relative movement' : 'Spot relative movement x', 'Spot relative movement.1' : 'Spot relative movement y', 'Spot relative movement.2' : 'Spot relative movement z', 'Spot relative movement.3' : 'Spot relative movement distance' }\n",
    "\n",
    "if 'cell_fate' in measurements.columns:\n",
    "    new_columns['cell_fate'] = 'Cell fate_CLUSTER_ID'\n",
    "\n",
    "# Rename the columns using the dictionary\n",
    "measurements.rename(columns=new_columns, inplace=True)\n",
    "measurements.head(2)"
   ],
   "outputs": [
    {
     "name": "stderr",
     "output_type": "stream",
     "text": [
      "C:\\Users\\stha735e\\AppData\\Local\\Temp\\ipykernel_23820\\524075988.py:7: SettingWithCopyWarning: \n",
      "A value is trying to be set on a copy of a slice from a DataFrame\n",
      "\n",
      "See the caveats in the documentation: https://pandas.pydata.org/pandas-docs/stable/user_guide/indexing.html#returning-a-view-versus-a-copy\n",
      "  measurements.rename(columns=new_columns, inplace=True)\n"
     ]
    },
    {
     "data": {
      "text/plain": [
       "   label  Branch Average Movement  Branch Movement Direction (X)  \\\n",
       "0      1                 4.401529                      -0.381489   \n",
       "1      1                 4.401529                      -0.381489   \n",
       "\n",
       "   Branch Movement Direction (Y)  Branch Movement Direction (Z)  \\\n",
       "0                       0.317543                       -0.86812   \n",
       "1                       0.317543                       -0.86812   \n",
       "\n",
       "   Branch N Successors  Branch N Predecessors  Branch Sinuosity  \\\n",
       "0                  0.0                    0.0         12.883699   \n",
       "1                  0.0                    0.0         12.883699   \n",
       "\n",
       "   Branch displacement  Branch duration  ...  Spot intensity (max)  \\\n",
       "0           313.963031            919.0  ...                 203.0   \n",
       "1           313.963031            919.0  ...                 181.0   \n",
       "\n",
       "   Spot intensity (median)  Spot intensity (sum)  Spot position x  \\\n",
       "0                     61.0            38649103.0       362.105408   \n",
       "1                     57.0            34806414.0       354.594405   \n",
       "\n",
       "   Spot position y  Spot position z  Spot relative movement x  \\\n",
       "0       257.609315       541.022548                 -3.922726   \n",
       "1       278.062470       513.288292                  2.138997   \n",
       "\n",
       "   Spot relative movement y  Spot relative movement z  \\\n",
       "0                  5.083352                  6.575561   \n",
       "1                 -2.138194                 -1.427734   \n",
       "\n",
       "   Spot relative movement distance  \n",
       "0                         9.190552  \n",
       "1                         3.344490  \n",
       "\n",
       "[2 rows x 36 columns]"
      ],
      "text/html": [
       "<div>\n",
       "<style scoped>\n",
       "    .dataframe tbody tr th:only-of-type {\n",
       "        vertical-align: middle;\n",
       "    }\n",
       "\n",
       "    .dataframe tbody tr th {\n",
       "        vertical-align: top;\n",
       "    }\n",
       "\n",
       "    .dataframe thead th {\n",
       "        text-align: right;\n",
       "    }\n",
       "</style>\n",
       "<table border=\"1\" class=\"dataframe\">\n",
       "  <thead>\n",
       "    <tr style=\"text-align: right;\">\n",
       "      <th></th>\n",
       "      <th>label</th>\n",
       "      <th>Branch Average Movement</th>\n",
       "      <th>Branch Movement Direction (X)</th>\n",
       "      <th>Branch Movement Direction (Y)</th>\n",
       "      <th>Branch Movement Direction (Z)</th>\n",
       "      <th>Branch N Successors</th>\n",
       "      <th>Branch N Predecessors</th>\n",
       "      <th>Branch Sinuosity</th>\n",
       "      <th>Branch displacement</th>\n",
       "      <th>Branch duration</th>\n",
       "      <th>...</th>\n",
       "      <th>Spot intensity (max)</th>\n",
       "      <th>Spot intensity (median)</th>\n",
       "      <th>Spot intensity (sum)</th>\n",
       "      <th>Spot position x</th>\n",
       "      <th>Spot position y</th>\n",
       "      <th>Spot position z</th>\n",
       "      <th>Spot relative movement x</th>\n",
       "      <th>Spot relative movement y</th>\n",
       "      <th>Spot relative movement z</th>\n",
       "      <th>Spot relative movement distance</th>\n",
       "    </tr>\n",
       "  </thead>\n",
       "  <tbody>\n",
       "    <tr>\n",
       "      <th>0</th>\n",
       "      <td>1</td>\n",
       "      <td>4.401529</td>\n",
       "      <td>-0.381489</td>\n",
       "      <td>0.317543</td>\n",
       "      <td>-0.86812</td>\n",
       "      <td>0.0</td>\n",
       "      <td>0.0</td>\n",
       "      <td>12.883699</td>\n",
       "      <td>313.963031</td>\n",
       "      <td>919.0</td>\n",
       "      <td>...</td>\n",
       "      <td>203.0</td>\n",
       "      <td>61.0</td>\n",
       "      <td>38649103.0</td>\n",
       "      <td>362.105408</td>\n",
       "      <td>257.609315</td>\n",
       "      <td>541.022548</td>\n",
       "      <td>-3.922726</td>\n",
       "      <td>5.083352</td>\n",
       "      <td>6.575561</td>\n",
       "      <td>9.190552</td>\n",
       "    </tr>\n",
       "    <tr>\n",
       "      <th>1</th>\n",
       "      <td>1</td>\n",
       "      <td>4.401529</td>\n",
       "      <td>-0.381489</td>\n",
       "      <td>0.317543</td>\n",
       "      <td>-0.86812</td>\n",
       "      <td>0.0</td>\n",
       "      <td>0.0</td>\n",
       "      <td>12.883699</td>\n",
       "      <td>313.963031</td>\n",
       "      <td>919.0</td>\n",
       "      <td>...</td>\n",
       "      <td>181.0</td>\n",
       "      <td>57.0</td>\n",
       "      <td>34806414.0</td>\n",
       "      <td>354.594405</td>\n",
       "      <td>278.062470</td>\n",
       "      <td>513.288292</td>\n",
       "      <td>2.138997</td>\n",
       "      <td>-2.138194</td>\n",
       "      <td>-1.427734</td>\n",
       "      <td>3.344490</td>\n",
       "    </tr>\n",
       "  </tbody>\n",
       "</table>\n",
       "<p>2 rows × 36 columns</p>\n",
       "</div>"
      ]
     },
     "execution_count": 11,
     "metadata": {},
     "output_type": "execute_result"
    }
   ],
   "execution_count": 11
  },
  {
   "cell_type": "markdown",
   "metadata": {},
   "source": [
    "### Optionally export measurements to CSV file\n",
    "This can be skipped if the measurements are not needed outside napari."
   ]
  },
  {
   "cell_type": "code",
   "metadata": {
    "collapsed": false,
    "tags": [],
    "ExecuteTime": {
     "end_time": "2024-06-13T13:14:45.148943Z",
     "start_time": "2024-06-13T13:14:44.659885Z"
    }
   },
   "source": [
    "measurements.to_csv(tables_folder_path + '/' + 'measurements_spot_branch_spot_' + str(frame_reduction_factor) + '.csv', sep=',', quotechar='\"', index=False)"
   ],
   "outputs": [],
   "execution_count": 12
  },
  {
   "cell_type": "markdown",
   "metadata": {},
   "source": [
    "## View in napari\n",
    "* Installation instructions for napari can be found [here](https://biapol.github.io/blog/mara_lampert/getting_started_with_mambaforge_and_python/readme.html)."
   ]
  },
  {
   "cell_type": "markdown",
   "metadata": {},
   "source": [
    "### Read label image\n",
    "The label image is expected to be exported from Mastodon with the following settings:\n",
    "* Label Id: *Branch spot ID*\n",
    "* Frame rate reduction: expected to be the same as the frame reduction factor specified above"
   ]
  },
  {
   "cell_type": "markdown",
   "metadata": {},
   "source": [
    "#### Set path to label image\n",
    "Enter the path to the label image exported from Mastodon here."
   ]
  },
  {
   "cell_type": "code",
   "metadata": {
    "collapsed": false,
    "tags": [],
    "ExecuteTime": {
     "end_time": "2024-06-13T13:15:21.055862Z",
     "start_time": "2024-06-13T13:15:21.043895Z"
    }
   },
   "source": "label_image_path = ''",
   "outputs": [],
   "execution_count": 13
  },
  {
   "cell_type": "markdown",
   "metadata": {},
   "source": [
    "#### Read label image from path"
   ]
  },
  {
   "cell_type": "code",
   "metadata": {
    "collapsed": false,
    "tags": [],
    "ExecuteTime": {
     "end_time": "2024-06-13T13:15:23.431815Z",
     "start_time": "2024-06-13T13:15:22.813715Z"
    }
   },
   "source": [
    "#### Read label image from path\n",
    "label_image_path = Path(label_image_path)\n",
    "label_image = imread(label_image_path)"
   ],
   "outputs": [],
   "execution_count": 14
  },
  {
   "cell_type": "markdown",
   "metadata": {},
   "source": [
    "#### Optionally print shape of label image to check if everything is ok, order: t, z, y, x"
   ]
  },
  {
   "cell_type": "code",
   "metadata": {
    "collapsed": false,
    "tags": [],
    "ExecuteTime": {
     "end_time": "2024-06-13T13:15:24.635416Z",
     "start_time": "2024-06-13T13:15:24.622398Z"
    }
   },
   "source": [
    "print(label_image.shape)"
   ],
   "outputs": [
    {
     "name": "stdout",
     "output_type": "stream",
     "text": [
      "(92, 208, 195, 206)\n"
     ]
    }
   ],
   "execution_count": 15
  },
  {
   "cell_type": "markdown",
   "metadata": {},
   "source": [
    "### Optionally read intensity image\n",
    "This will only work, if the intensity image has the same frame reduction rate as the label image."
   ]
  },
  {
   "cell_type": "markdown",
   "metadata": {},
   "source": [
    "#### Optionally set path to intensity image\n",
    "Enter the path to the intensity image here."
   ]
  },
  {
   "cell_type": "code",
   "metadata": {
    "collapsed": false,
    "tags": [],
    "ExecuteTime": {
     "end_time": "2024-06-10T15:32:19.052307Z",
     "start_time": "2024-06-10T15:32:19.036687Z"
    }
   },
   "source": "intensity_image_path = ''",
   "outputs": [],
   "execution_count": 17
  },
  {
   "cell_type": "markdown",
   "metadata": {},
   "source": [
    "#### Optionally read intensity image from path"
   ]
  },
  {
   "cell_type": "code",
   "metadata": {
    "collapsed": false,
    "tags": [],
    "ExecuteTime": {
     "end_time": "2024-06-10T15:32:28.468752Z",
     "start_time": "2024-06-10T15:32:19.052307Z"
    }
   },
   "source": [
    "intensity_image_path = Path(intensity_image_path)\n",
    "intensity_image = imread(intensity_image_path)"
   ],
   "outputs": [],
   "execution_count": 18
  },
  {
   "cell_type": "markdown",
   "metadata": {},
   "source": [
    "#### Optionally print shape of intensity image to check if everything is ok. Order: t, z, y, x"
   ]
  },
  {
   "cell_type": "code",
   "metadata": {
    "collapsed": false,
    "tags": [],
    "ExecuteTime": {
     "end_time": "2024-06-10T15:32:28.489403Z",
     "start_time": "2024-06-10T15:32:28.468950Z"
    }
   },
   "source": [
    "print(intensity_image.shape)"
   ],
   "outputs": [
    {
     "name": "stdout",
     "output_type": "stream",
     "text": [
      "(61, 113, 660, 700)\n"
     ]
    }
   ],
   "execution_count": 19
  },
  {
   "cell_type": "markdown",
   "metadata": {},
   "source": [
    "### Open napari viewer"
   ]
  },
  {
   "cell_type": "code",
   "metadata": {
    "tags": [],
    "ExecuteTime": {
     "end_time": "2024-06-13T13:17:05.648657Z",
     "start_time": "2024-06-13T13:17:05.292686Z"
    }
   },
   "source": [
    "viewer = napari.Viewer()"
   ],
   "outputs": [],
   "execution_count": 23
  },
  {
   "cell_type": "markdown",
   "metadata": {},
   "source": [
    "### Set scale of intensity image\n",
    "Due to bugs both in Mastodon export and in Napari import scale needs to be set manually.\n",
    "Expected order: t, z, y, x"
   ]
  },
  {
   "cell_type": "markdown",
   "metadata": {},
   "source": [
    "### Add label image"
   ]
  },
  {
   "cell_type": "code",
   "metadata": {
    "tags": [],
    "ExecuteTime": {
     "end_time": "2024-06-13T13:17:11.165648Z",
     "start_time": "2024-06-13T13:17:10.877273Z"
    }
   },
   "source": [
    "labels_layer = viewer.add_labels(label_image, features=measurements)"
   ],
   "outputs": [],
   "execution_count": 24
  },
  {
   "cell_type": "markdown",
   "metadata": {},
   "source": [
    "### Set scale of label image\n",
    "Due to bugs both in Mastodon export and in Napari import scale needs to be set manually.\n",
    "Expected order: t, z, y, x"
   ]
  },
  {
   "cell_type": "code",
   "metadata": {
    "collapsed": false,
    "tags": [],
    "ExecuteTime": {
     "end_time": "2024-06-13T13:17:15.935191Z",
     "start_time": "2024-06-13T13:17:15.916088Z"
    }
   },
   "source": [
    "# labels_layer.scale = (1, 2.48, 0.31196313094933187, 0.31196313094933187)\n",
    "# labels_layer.scale = (1, 2.03, 0.41, 0.41)\n",
    "# labels_layer.scale = (1, 0.32, 0.32, 0.32)\n",
    "# set scale in napari terminal\n",
    "# viewer.layers[0].scale = (1, 2.48, 0.31196313094933187, 0.31196313094933187)"
   ],
   "outputs": [],
   "execution_count": 25
  },
  {
   "cell_type": "markdown",
   "source": [
    "### Optionally add intensity image"
   ],
   "metadata": {
    "collapsed": false
   }
  },
  {
   "cell_type": "code",
   "source": [
    "intensity_layer = viewer.add_image(intensity_image)"
   ],
   "metadata": {
    "collapsed": false,
    "ExecuteTime": {
     "end_time": "2024-06-10T15:32:39.554567Z",
     "start_time": "2024-06-10T15:32:39.430569Z"
    }
   },
   "outputs": [],
   "execution_count": 23
  },
  {
   "cell_type": "markdown",
   "source": [
    "### Optionally set scale of intensity image\n",
    "Due to bugs both in Mastodon export and in Napari import scale needs to be set manually.\n",
    "Expected order: t, z, y, x\n",
    "Should be the same as for the label image."
   ],
   "metadata": {
    "collapsed": false
   }
  },
  {
   "cell_type": "code",
   "source": [
    "# intensity_layer.scale = (1, 2.48, 0.31196313094933187, 0.31196313094933187)\n",
    "# intensity_layer.scale = (1, 2.03, 0.41, 0.41)\n",
    "# intensity_layer.scale = (1, 0.32, 0.32, 0.32)"
   ],
   "metadata": {
    "collapsed": false,
    "ExecuteTime": {
     "end_time": "2024-06-10T15:32:40.945713Z",
     "start_time": "2024-06-10T15:32:40.930061Z"
    }
   },
   "outputs": [],
   "execution_count": 24
  },
  {
   "cell_type": "markdown",
   "metadata": {},
   "source": [
    "### Turn on 3D view"
   ]
  },
  {
   "cell_type": "code",
   "metadata": {
    "collapsed": false,
    "tags": [],
    "ExecuteTime": {
     "end_time": "2024-06-13T13:17:22.273595Z",
     "start_time": "2024-06-13T13:17:22.089389Z"
    }
   },
   "source": [
    "viewer.dims.ndisplay = 3"
   ],
   "outputs": [],
   "execution_count": 26
  },
  {
   "cell_type": "markdown",
   "metadata": {},
   "source": [
    "### Load napari-clusters-plotter plugin"
   ]
  },
  {
   "cell_type": "code",
   "metadata": {
    "ExecuteTime": {
     "end_time": "2024-06-13T13:17:25.751367Z",
     "start_time": "2024-06-13T13:17:25.679368Z"
    }
   },
   "source": [
    "viewer.window.add_plugin_dock_widget(plugin_name='napari-clusters-plotter', widget_name='Plotter Widget')\n"
   ],
   "outputs": [
    {
     "data": {
      "text/plain": [
       "(<napari._qt.widgets.qt_viewer_dock_widget.QtViewerDockWidget at 0x1eeae0fee50>,\n",
       " <napari_clusters_plotter._plotter.PlotterWidget at 0x1eeae0c13a0>)"
      ]
     },
     "execution_count": 27,
     "metadata": {},
     "output_type": "execute_result"
    }
   ],
   "execution_count": 27
  },
  {
   "cell_type": "markdown",
   "source": [
    "## You are ready to use the napari-clusters-plotter with the Mastodon data plugin now.\n",
    "Consult the documentation of the napari-clusters-plotter for further instructions, if needed.\n",
    "* https://www.youtube.com/watch?v=qZ8KDrgL1Ro\n",
    "* https://github.com/BiAPoL/napari-clusters-plotter"
   ],
   "metadata": {
    "collapsed": false
   }
  },
  {
   "cell_type": "code",
   "execution_count": null,
   "outputs": [],
   "source": [],
   "metadata": {
    "collapsed": false
   }
  }
 ],
 "metadata": {
  "kernelspec": {
   "display_name": "Python 3 (ipykernel)",
   "language": "python",
   "name": "python3"
  },
  "language_info": {
   "codemirror_mode": {
    "name": "ipython",
    "version": 3
   },
   "file_extension": ".py",
   "mimetype": "text/x-python",
   "name": "python",
   "nbconvert_exporter": "python",
   "pygments_lexer": "ipython3",
   "version": "3.9.18"
  }
 },
 "nbformat": 4,
 "nbformat_minor": 4
}
