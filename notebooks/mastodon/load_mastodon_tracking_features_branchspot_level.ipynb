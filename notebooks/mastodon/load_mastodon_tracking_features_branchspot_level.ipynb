{
 "cells": [
  {
   "cell_type": "markdown",
   "metadata": {},
   "source": [
    "# Load Mastodon tracking data on branch level into Napari to use with Napari Clusters Plotter"
   ]
  },
  {
   "cell_type": "code",
   "metadata": {
    "tags": [],
    "ExecuteTime": {
     "end_time": "2024-06-13T09:29:52.675858Z",
     "start_time": "2024-06-13T09:29:48.777767Z"
    }
   },
   "source": [
    "from pathlib import Path\n",
    "import napari\n",
    "import pandas as pd\n",
    "from skimage.io import imread"
   ],
   "outputs": [],
   "execution_count": 1
  },
  {
   "cell_type": "markdown",
   "metadata": {},
   "source": [
    "## Prerequisites\n",
    "\n",
    "Before running this notebook, the following steps need to be performed:\n",
    "* Due to a bug in Napari clusters plotter handling tracking data, it may be required to install the latest version of Napari clusters plotter:\n",
    "```\n",
    "mamba activate devbio-napari\n",
    "pip install napari-clusters-plotter==0.8.0\n",
    "```\n",
    "* Compute features on Branch Spot Level in Mastodon\n",
    "  * Open \"Compute Features View\"\n",
    "  * Select all available Branch Spot features > Compute\n",
    "    * Wait until computation is finished\n",
    "* Compute relative movement for Branch Spots separately\n",
    "  * Plugins > Compute feature > Movement of spots relative to nearest neighbors\n",
    "* Export Branch Spot and table\n",
    "  * Open \"Table View\"\n",
    "  * Select Branch Spot\n",
    "  * File > Export to CSV \n",
    "* Export label image from Mastodon\n",
    "  * Plugins > Exports > Export label image using ellipsoids\n",
    "  * Select \"Branch Spot ID\" as label id\n",
    "  * Select a frame reduction rate of 1\n",
    "    * Higher frame reduction rates are possible and may speed up analyses in napari clusters plotter\n",
    "    * If a frame reduction rate higher than 1 is used, a version of the intensity image would need to be created (e.g. with Fiji/BigStitcher) with the same frame reduction rate or no intensity image can be loaded into napari "
   ]
  },
  {
   "cell_type": "markdown",
   "metadata": {},
   "source": [
    "## Read tables from Mastodon"
   ]
  },
  {
   "cell_type": "markdown",
   "metadata": {},
   "source": [
    "#### Set path to table\n",
    "Enter the path to the tables here. Within that folder, there should be one table:\n",
    "* BranchSpot.csv"
   ]
  },
  {
   "cell_type": "code",
   "metadata": {
    "collapsed": false,
    "tags": [],
    "ExecuteTime": {
     "end_time": "2024-06-13T09:30:12.777660Z",
     "start_time": "2024-06-13T09:30:12.764696Z"
    }
   },
   "source": "tables_folder_path = ''",
   "outputs": [],
   "execution_count": 2
  },
  {
   "cell_type": "markdown",
   "metadata": {},
   "source": [
    "#### Read table from path\n",
    "Rows with NaN values are removed."
   ]
  },
  {
   "cell_type": "code",
   "metadata": {
    "tags": [],
    "ExecuteTime": {
     "end_time": "2024-06-13T09:30:14.335968Z",
     "start_time": "2024-06-13T09:30:14.242586Z"
    }
   },
   "source": [
    "branch_spot_table_path = Path(tables_folder_path + '/BranchSpot.csv')\n",
    "branch_spot_table = pd.read_csv(branch_spot_table_path, skiprows=[1,2], encoding='utf-8')\n",
    "# remove rows with NaN values\n",
    "branch_spot_table = branch_spot_table.dropna()"
   ],
   "outputs": [],
   "execution_count": 3
  },
  {
   "cell_type": "markdown",
   "metadata": {},
   "source": [
    "#### Optionally print head of branch spot table to check if everything is ok"
   ]
  },
  {
   "cell_type": "code",
   "metadata": {
    "tags": [],
    "ExecuteTime": {
     "end_time": "2024-06-13T09:30:17.314656Z",
     "start_time": "2024-06-13T09:30:17.285657Z"
    }
   },
   "source": [
    "branch_spot_table.head(2)"
   ],
   "outputs": [
    {
     "data": {
      "text/plain": [
       "  Label  ID  Branch Average Movement  Branch Movement Direction  \\\n",
       "0    4a   0                 4.401529                  -0.381489   \n",
       "1    4b   1                 4.034335                  -0.535540   \n",
       "\n",
       "   Branch Movement Direction.1  Branch Movement Direction.2  \\\n",
       "0                     0.317543                    -0.868120   \n",
       "1                    -0.282902                    -0.795716   \n",
       "\n",
       "   Branch N Successors and Predecessors  \\\n",
       "0                                     0   \n",
       "1                                     0   \n",
       "\n",
       "   Branch N Successors and Predecessors.1  Branch N leaves  Branch N spots  \\\n",
       "0                                       0                1             920   \n",
       "1                                       0                1             920   \n",
       "\n",
       "   ...  Progenitor.252  Progenitor.253  Progenitor.254  Progenitor.255  \\\n",
       "0  ...               0               0               0               0   \n",
       "1  ...               0               0               0               0   \n",
       "\n",
       "   Proliferator  Proliferator.1  Proliferator.2  Status  Tracking  Tracking.1  \n",
       "0             0               0               0       0         0           0  \n",
       "1             0               0               0       0         0           0  \n",
       "\n",
       "[2 rows x 293 columns]"
      ],
      "text/html": [
       "<div>\n",
       "<style scoped>\n",
       "    .dataframe tbody tr th:only-of-type {\n",
       "        vertical-align: middle;\n",
       "    }\n",
       "\n",
       "    .dataframe tbody tr th {\n",
       "        vertical-align: top;\n",
       "    }\n",
       "\n",
       "    .dataframe thead th {\n",
       "        text-align: right;\n",
       "    }\n",
       "</style>\n",
       "<table border=\"1\" class=\"dataframe\">\n",
       "  <thead>\n",
       "    <tr style=\"text-align: right;\">\n",
       "      <th></th>\n",
       "      <th>Label</th>\n",
       "      <th>ID</th>\n",
       "      <th>Branch Average Movement</th>\n",
       "      <th>Branch Movement Direction</th>\n",
       "      <th>Branch Movement Direction.1</th>\n",
       "      <th>Branch Movement Direction.2</th>\n",
       "      <th>Branch N Successors and Predecessors</th>\n",
       "      <th>Branch N Successors and Predecessors.1</th>\n",
       "      <th>Branch N leaves</th>\n",
       "      <th>Branch N spots</th>\n",
       "      <th>...</th>\n",
       "      <th>Progenitor.252</th>\n",
       "      <th>Progenitor.253</th>\n",
       "      <th>Progenitor.254</th>\n",
       "      <th>Progenitor.255</th>\n",
       "      <th>Proliferator</th>\n",
       "      <th>Proliferator.1</th>\n",
       "      <th>Proliferator.2</th>\n",
       "      <th>Status</th>\n",
       "      <th>Tracking</th>\n",
       "      <th>Tracking.1</th>\n",
       "    </tr>\n",
       "  </thead>\n",
       "  <tbody>\n",
       "    <tr>\n",
       "      <th>0</th>\n",
       "      <td>4a</td>\n",
       "      <td>0</td>\n",
       "      <td>4.401529</td>\n",
       "      <td>-0.381489</td>\n",
       "      <td>0.317543</td>\n",
       "      <td>-0.868120</td>\n",
       "      <td>0</td>\n",
       "      <td>0</td>\n",
       "      <td>1</td>\n",
       "      <td>920</td>\n",
       "      <td>...</td>\n",
       "      <td>0</td>\n",
       "      <td>0</td>\n",
       "      <td>0</td>\n",
       "      <td>0</td>\n",
       "      <td>0</td>\n",
       "      <td>0</td>\n",
       "      <td>0</td>\n",
       "      <td>0</td>\n",
       "      <td>0</td>\n",
       "      <td>0</td>\n",
       "    </tr>\n",
       "    <tr>\n",
       "      <th>1</th>\n",
       "      <td>4b</td>\n",
       "      <td>1</td>\n",
       "      <td>4.034335</td>\n",
       "      <td>-0.535540</td>\n",
       "      <td>-0.282902</td>\n",
       "      <td>-0.795716</td>\n",
       "      <td>0</td>\n",
       "      <td>0</td>\n",
       "      <td>1</td>\n",
       "      <td>920</td>\n",
       "      <td>...</td>\n",
       "      <td>0</td>\n",
       "      <td>0</td>\n",
       "      <td>0</td>\n",
       "      <td>0</td>\n",
       "      <td>0</td>\n",
       "      <td>0</td>\n",
       "      <td>0</td>\n",
       "      <td>0</td>\n",
       "      <td>0</td>\n",
       "      <td>0</td>\n",
       "    </tr>\n",
       "  </tbody>\n",
       "</table>\n",
       "<p>2 rows × 293 columns</p>\n",
       "</div>"
      ]
     },
     "execution_count": 4,
     "metadata": {},
     "output_type": "execute_result"
    }
   ],
   "execution_count": 4
  },
  {
   "cell_type": "markdown",
   "metadata": {},
   "source": [
    "## Change table to match napari-clusters-plotter standards\n",
    "Mastodon 'label' column needs to be removed from the table and replaced with a new column 'label' that contains the branch spot ID.\n",
    "The branch spot ID is the Mastodon ID + 1. This is necessary, since the ellipsoid label image starts with 1, while the Mastodon ID starts at 0."
   ]
  },
  {
   "cell_type": "code",
   "metadata": {
    "tags": [],
    "ExecuteTime": {
     "end_time": "2024-06-13T09:30:20.814550Z",
     "start_time": "2024-06-13T09:30:20.793898Z"
    }
   },
   "source": [
    "# Remove Label column from Mastodon tables\n",
    "branch_spot_table = branch_spot_table.drop(columns=['Label'])\n",
    "\n",
    "# Add a new label column representing the branch spot ID\n",
    "branch_spot_table['label'] = branch_spot_table['ID'].astype(int) + 1 # Turning branch spot ids into labels, NB: + 1 needs to be added, since the ids are counted one based in the Mastodon"
   ],
   "outputs": [],
   "execution_count": 5
  },
  {
   "cell_type": "markdown",
   "metadata": {},
   "source": [
    "\n",
    "### Currently available Branch spot features:\n",
    "* label\n",
    "* Branch Average Movement\n",
    "* Branch Movement Direction (X)\n",
    "* Branch Movement Direction.1 (Y)\n",
    "* Branch Movement Direction.2 (Z)\n",
    "* Branch N Successors and Predecessors (successors)\n",
    "* Branch N Successors and Predecessors.1 predecessors (predecessors)\n",
    "* Branch Sinuosity\n",
    "* Branch duration and displacement (displacement)\n",
    "* Branch duration and displacement.1 (duration)\n",
    "* Branch Relative Movement (x-component)\n",
    "* Branch Relative Movement.1 (y-component)\n",
    "* Branch Relative Movement.2 (z-component)\n",
    "* Branch Relative Movement.3 (average speed relative to 5 nearest neighbors)\n",
    "* Cell Division Frequency"
   ]
  },
  {
   "cell_type": "markdown",
   "metadata": {},
   "source": [
    "### Optional: create a cell fate column \n",
    "This is only useful, if the cell fate has been annotated in Mastodon."
   ]
  },
  {
   "cell_type": "code",
   "metadata": {
    "collapsed": false,
    "ExecuteTime": {
     "end_time": "2024-06-10T15:20:34.872466Z",
     "start_time": "2024-06-10T15:20:34.836190Z"
    }
   },
   "source": [
    "# Define a function to determine the combined value\n",
    "def cell_fate_values_to_label(row):\n",
    "    if row['cell_fate']:\n",
    "        return 1\n",
    "    elif row['cell_fate.1']:\n",
    "        return 2\n",
    "    elif row['cell_fate.2']:\n",
    "        return 3\n",
    "    elif row['cell_fate.3']:\n",
    "        return 4\n",
    "    elif row['cell_fate.4']:\n",
    "        return 5\n",
    "    elif row['cell_fate.5']:\n",
    "        return 6\n",
    "    elif row['cell_fate.6']:\n",
    "        return 7\n",
    "    elif row['cell_fate.7']:\n",
    "        return 8\n",
    "    elif row['cell_fate.8']:\n",
    "        return 9\n",
    "    elif row['cell_fate.9']:\n",
    "        return 10\n",
    "    elif row['cell_fate.10']:\n",
    "        return 11\n",
    "    elif row['cell_fate.11']:\n",
    "        return 12\n",
    "    elif row['cell_fate.12']:\n",
    "        return 13\n",
    "    else:\n",
    "        return 0 \n",
    "\n",
    "# create a new column 13 different cell fates\n",
    "branch_spot_table['cell_fate'] = branch_spot_table.apply(cell_fate_values_to_label, axis=1)"
   ],
   "outputs": [],
   "execution_count": 33
  },
  {
   "cell_type": "markdown",
   "metadata": {},
   "source": [
    "### Remove unnecessary columns to save some RAM"
   ]
  },
  {
   "cell_type": "code",
   "metadata": {
    "collapsed": false,
    "tags": [],
    "ExecuteTime": {
     "end_time": "2024-06-13T09:30:31.215981Z",
     "start_time": "2024-06-13T09:30:31.205585Z"
    }
   },
   "source": [
    "columns_to_keep = ['label', 'Branch Average Movement', 'Branch Movement Direction', 'Branch Movement Direction.1', 'Branch Movement Direction.2', 'Branch N Successors and Predecessors', 'Branch N Successors and Predecessors.1', 'Branch Sinuosity', 'Branch duration and displacement', 'Branch duration and displacement.1', 'Branch relative movement', 'Branch relative movement.1', 'Branch relative movement.2', 'Branch relative movement.3', 'Cell division frequency' ]\n",
    "if 'cell_fate' in branch_spot_table.columns:\n",
    "    columns_to_keep.append('cell_fate')\n",
    "branch_spot_table = branch_spot_table[columns_to_keep]\n",
    "branch_spot_table.head(2)\n"
   ],
   "outputs": [
    {
     "data": {
      "text/plain": [
       "   label  Branch Average Movement  Branch Movement Direction  \\\n",
       "0      1                 4.401529                  -0.381489   \n",
       "1      2                 4.034335                  -0.535540   \n",
       "\n",
       "   Branch Movement Direction.1  Branch Movement Direction.2  \\\n",
       "0                     0.317543                    -0.868120   \n",
       "1                    -0.282902                    -0.795716   \n",
       "\n",
       "   Branch N Successors and Predecessors  \\\n",
       "0                                     0   \n",
       "1                                     0   \n",
       "\n",
       "   Branch N Successors and Predecessors.1  Branch Sinuosity  \\\n",
       "0                                       0         12.883699   \n",
       "1                                       0         17.555500   \n",
       "\n",
       "   Branch duration and displacement  Branch duration and displacement.1  \\\n",
       "0                        313.963031                               919.0   \n",
       "1                        211.190459                               919.0   \n",
       "\n",
       "   Branch relative movement  Branch relative movement.1  \\\n",
       "0                 -0.443340                    0.243049   \n",
       "1                 -0.074234                   -0.118564   \n",
       "\n",
       "   Branch relative movement.2  Branch relative movement.3  \\\n",
       "0                   -0.862773                    5.306300   \n",
       "1                   -0.990168                    5.051463   \n",
       "\n",
       "   Cell division frequency  \n",
       "0                      0.0  \n",
       "1                      0.0  "
      ],
      "text/html": [
       "<div>\n",
       "<style scoped>\n",
       "    .dataframe tbody tr th:only-of-type {\n",
       "        vertical-align: middle;\n",
       "    }\n",
       "\n",
       "    .dataframe tbody tr th {\n",
       "        vertical-align: top;\n",
       "    }\n",
       "\n",
       "    .dataframe thead th {\n",
       "        text-align: right;\n",
       "    }\n",
       "</style>\n",
       "<table border=\"1\" class=\"dataframe\">\n",
       "  <thead>\n",
       "    <tr style=\"text-align: right;\">\n",
       "      <th></th>\n",
       "      <th>label</th>\n",
       "      <th>Branch Average Movement</th>\n",
       "      <th>Branch Movement Direction</th>\n",
       "      <th>Branch Movement Direction.1</th>\n",
       "      <th>Branch Movement Direction.2</th>\n",
       "      <th>Branch N Successors and Predecessors</th>\n",
       "      <th>Branch N Successors and Predecessors.1</th>\n",
       "      <th>Branch Sinuosity</th>\n",
       "      <th>Branch duration and displacement</th>\n",
       "      <th>Branch duration and displacement.1</th>\n",
       "      <th>Branch relative movement</th>\n",
       "      <th>Branch relative movement.1</th>\n",
       "      <th>Branch relative movement.2</th>\n",
       "      <th>Branch relative movement.3</th>\n",
       "      <th>Cell division frequency</th>\n",
       "    </tr>\n",
       "  </thead>\n",
       "  <tbody>\n",
       "    <tr>\n",
       "      <th>0</th>\n",
       "      <td>1</td>\n",
       "      <td>4.401529</td>\n",
       "      <td>-0.381489</td>\n",
       "      <td>0.317543</td>\n",
       "      <td>-0.868120</td>\n",
       "      <td>0</td>\n",
       "      <td>0</td>\n",
       "      <td>12.883699</td>\n",
       "      <td>313.963031</td>\n",
       "      <td>919.0</td>\n",
       "      <td>-0.443340</td>\n",
       "      <td>0.243049</td>\n",
       "      <td>-0.862773</td>\n",
       "      <td>5.306300</td>\n",
       "      <td>0.0</td>\n",
       "    </tr>\n",
       "    <tr>\n",
       "      <th>1</th>\n",
       "      <td>2</td>\n",
       "      <td>4.034335</td>\n",
       "      <td>-0.535540</td>\n",
       "      <td>-0.282902</td>\n",
       "      <td>-0.795716</td>\n",
       "      <td>0</td>\n",
       "      <td>0</td>\n",
       "      <td>17.555500</td>\n",
       "      <td>211.190459</td>\n",
       "      <td>919.0</td>\n",
       "      <td>-0.074234</td>\n",
       "      <td>-0.118564</td>\n",
       "      <td>-0.990168</td>\n",
       "      <td>5.051463</td>\n",
       "      <td>0.0</td>\n",
       "    </tr>\n",
       "  </tbody>\n",
       "</table>\n",
       "</div>"
      ]
     },
     "execution_count": 6,
     "metadata": {},
     "output_type": "execute_result"
    }
   ],
   "execution_count": 6
  },
  {
   "cell_type": "markdown",
   "metadata": {},
   "source": [
    "### Rename columns to have more meaningful names"
   ]
  },
  {
   "cell_type": "code",
   "metadata": {
    "collapsed": false,
    "tags": [],
    "ExecuteTime": {
     "end_time": "2024-06-13T09:30:33.621148Z",
     "start_time": "2024-06-13T09:30:33.596134Z"
    }
   },
   "source": [
    "new_columns = {'Branch duration and displacement.1': 'Branch duration', 'Branch duration and displacement': 'Branch displacement', 'Branch Movement Direction' : 'Branch Movement Direction (X)', 'Branch Movement Direction.1' : 'Branch Movement Direction (Y)', 'Branch Movement Direction.2' : 'Branch Movement Direction (Z)', 'Branch relative movement' : 'Branch Relative Movement (x-component)', 'Branch relative movement.1' : 'Branch Relative Movement (y-component)', 'Branch relative movement.2' : 'Branch Relative Movement (z-component)', 'Branch relative movement.3' : 'Branch Relative Movement', 'Branch N Successors and Predecessors' : 'Branch N Successors', 'Branch N Successors and Predecessors.1' : 'Branch N Predecessors'}\n",
    "\n",
    "if 'cell_fate' in branch_spot_table.columns:\n",
    "    new_columns['cell_fate'] = 'Cell fate_CLUSTER_ID'\n",
    "\n",
    "# Rename the columns using the dictionary\n",
    "branch_spot_table.rename(columns=new_columns, inplace=True)\n",
    "branch_spot_table.head(2)"
   ],
   "outputs": [
    {
     "data": {
      "text/plain": [
       "   label  Branch Average Movement  Branch Movement Direction (X)  \\\n",
       "0      1                 4.401529                      -0.381489   \n",
       "1      2                 4.034335                      -0.535540   \n",
       "\n",
       "   Branch Movement Direction (Y)  Branch Movement Direction (Z)  \\\n",
       "0                       0.317543                      -0.868120   \n",
       "1                      -0.282902                      -0.795716   \n",
       "\n",
       "   Branch N Successors  Branch N Predecessors  Branch Sinuosity  \\\n",
       "0                    0                      0         12.883699   \n",
       "1                    0                      0         17.555500   \n",
       "\n",
       "   Branch displacement  Branch duration  \\\n",
       "0           313.963031            919.0   \n",
       "1           211.190459            919.0   \n",
       "\n",
       "   Branch Relative Movement (x-component)  \\\n",
       "0                               -0.443340   \n",
       "1                               -0.074234   \n",
       "\n",
       "   Branch Relative Movement (y-component)  \\\n",
       "0                                0.243049   \n",
       "1                               -0.118564   \n",
       "\n",
       "   Branch Relative Movement (z-component)  Branch Relative Movement  \\\n",
       "0                               -0.862773                  5.306300   \n",
       "1                               -0.990168                  5.051463   \n",
       "\n",
       "   Cell division frequency  \n",
       "0                      0.0  \n",
       "1                      0.0  "
      ],
      "text/html": [
       "<div>\n",
       "<style scoped>\n",
       "    .dataframe tbody tr th:only-of-type {\n",
       "        vertical-align: middle;\n",
       "    }\n",
       "\n",
       "    .dataframe tbody tr th {\n",
       "        vertical-align: top;\n",
       "    }\n",
       "\n",
       "    .dataframe thead th {\n",
       "        text-align: right;\n",
       "    }\n",
       "</style>\n",
       "<table border=\"1\" class=\"dataframe\">\n",
       "  <thead>\n",
       "    <tr style=\"text-align: right;\">\n",
       "      <th></th>\n",
       "      <th>label</th>\n",
       "      <th>Branch Average Movement</th>\n",
       "      <th>Branch Movement Direction (X)</th>\n",
       "      <th>Branch Movement Direction (Y)</th>\n",
       "      <th>Branch Movement Direction (Z)</th>\n",
       "      <th>Branch N Successors</th>\n",
       "      <th>Branch N Predecessors</th>\n",
       "      <th>Branch Sinuosity</th>\n",
       "      <th>Branch displacement</th>\n",
       "      <th>Branch duration</th>\n",
       "      <th>Branch Relative Movement (x-component)</th>\n",
       "      <th>Branch Relative Movement (y-component)</th>\n",
       "      <th>Branch Relative Movement (z-component)</th>\n",
       "      <th>Branch Relative Movement</th>\n",
       "      <th>Cell division frequency</th>\n",
       "    </tr>\n",
       "  </thead>\n",
       "  <tbody>\n",
       "    <tr>\n",
       "      <th>0</th>\n",
       "      <td>1</td>\n",
       "      <td>4.401529</td>\n",
       "      <td>-0.381489</td>\n",
       "      <td>0.317543</td>\n",
       "      <td>-0.868120</td>\n",
       "      <td>0</td>\n",
       "      <td>0</td>\n",
       "      <td>12.883699</td>\n",
       "      <td>313.963031</td>\n",
       "      <td>919.0</td>\n",
       "      <td>-0.443340</td>\n",
       "      <td>0.243049</td>\n",
       "      <td>-0.862773</td>\n",
       "      <td>5.306300</td>\n",
       "      <td>0.0</td>\n",
       "    </tr>\n",
       "    <tr>\n",
       "      <th>1</th>\n",
       "      <td>2</td>\n",
       "      <td>4.034335</td>\n",
       "      <td>-0.535540</td>\n",
       "      <td>-0.282902</td>\n",
       "      <td>-0.795716</td>\n",
       "      <td>0</td>\n",
       "      <td>0</td>\n",
       "      <td>17.555500</td>\n",
       "      <td>211.190459</td>\n",
       "      <td>919.0</td>\n",
       "      <td>-0.074234</td>\n",
       "      <td>-0.118564</td>\n",
       "      <td>-0.990168</td>\n",
       "      <td>5.051463</td>\n",
       "      <td>0.0</td>\n",
       "    </tr>\n",
       "  </tbody>\n",
       "</table>\n",
       "</div>"
      ]
     },
     "execution_count": 7,
     "metadata": {},
     "output_type": "execute_result"
    }
   ],
   "execution_count": 7
  },
  {
   "cell_type": "markdown",
   "metadata": {},
   "source": [
    "### Optionally export measurements to CSV file\n",
    "This can be skipped if the measurements are not needed outside napari."
   ]
  },
  {
   "cell_type": "code",
   "metadata": {
    "collapsed": false,
    "tags": [],
    "ExecuteTime": {
     "end_time": "2024-06-13T09:30:36.380509Z",
     "start_time": "2024-06-13T09:30:36.321154Z"
    }
   },
   "source": [
    "filename = 'measurements_branch_spot.csv'\n",
    "branch_spot_table.to_csv(tables_folder_path + '/' + filename, sep=',', quotechar='\"', index=False)"
   ],
   "outputs": [],
   "execution_count": 8
  },
  {
   "cell_type": "markdown",
   "metadata": {},
   "source": [
    "## View in napari\n",
    "* Installation instructions for napari can be found [here](https://biapol.github.io/blog/mara_lampert/getting_started_with_mambaforge_and_python/readme.html)."
   ]
  },
  {
   "cell_type": "markdown",
   "metadata": {},
   "source": [
    "### Read label image\n",
    "The label image is expected to be exported from Mastodon with the following settings:\n",
    "* Label Id: *Branch spot ID*\n",
    "* Frame rate reduction: expected to be the same as the frame reduction factor specified above"
   ]
  },
  {
   "cell_type": "markdown",
   "metadata": {},
   "source": [
    "#### Set path to label image\n",
    "Enter the path to the label image exported from Mastodon here."
   ]
  },
  {
   "cell_type": "code",
   "metadata": {
    "collapsed": false,
    "tags": [],
    "ExecuteTime": {
     "end_time": "2024-06-13T11:21:30.432430Z",
     "start_time": "2024-06-13T11:21:30.409411Z"
    }
   },
   "source": "label_image_path = ('')",
   "outputs": [],
   "execution_count": 19
  },
  {
   "cell_type": "markdown",
   "metadata": {},
   "source": [
    "#### Read label image from path"
   ]
  },
  {
   "cell_type": "code",
   "metadata": {
    "collapsed": false,
    "tags": [],
    "ExecuteTime": {
     "end_time": "2024-06-13T11:21:33.291218Z",
     "start_time": "2024-06-13T11:21:32.554117Z"
    }
   },
   "source": [
    "#### Read label image from path\n",
    "label_image_path = Path(label_image_path)\n",
    "label_image = imread(label_image_path)\n"
   ],
   "outputs": [],
   "execution_count": 20
  },
  {
   "cell_type": "markdown",
   "metadata": {},
   "source": [
    "#### Optionally print shape of label image to check if everything is ok, order: t, z, y, x"
   ]
  },
  {
   "cell_type": "code",
   "metadata": {
    "collapsed": false,
    "tags": [],
    "ExecuteTime": {
     "end_time": "2024-06-13T11:21:33.996765Z",
     "start_time": "2024-06-13T11:21:33.983765Z"
    }
   },
   "source": [
    "print(label_image.shape)"
   ],
   "outputs": [
    {
     "name": "stdout",
     "output_type": "stream",
     "text": [
      "(92, 208, 195, 206)\n"
     ]
    }
   ],
   "execution_count": 21
  },
  {
   "cell_type": "markdown",
   "metadata": {},
   "source": [
    "### Optionally read intensity image\n",
    "This will only work, if the intensity image has the same frame reduction rate as the label image."
   ]
  },
  {
   "cell_type": "markdown",
   "metadata": {},
   "source": [
    "#### Optionally Set path to intensity image\n",
    "Enter the path to the intensity image here."
   ]
  },
  {
   "cell_type": "code",
   "metadata": {
    "collapsed": false,
    "tags": [],
    "ExecuteTime": {
     "end_time": "2024-06-10T15:22:12.551281Z",
     "start_time": "2024-06-10T15:22:12.529138Z"
    }
   },
   "source": "intensity_image_path = ''",
   "outputs": [],
   "execution_count": 40
  },
  {
   "cell_type": "markdown",
   "metadata": {},
   "source": [
    "#### Optionally read intensity image from path"
   ]
  },
  {
   "cell_type": "code",
   "metadata": {
    "collapsed": false,
    "tags": [],
    "ExecuteTime": {
     "end_time": "2024-06-10T15:22:20.524385Z",
     "start_time": "2024-06-10T15:22:12.551281Z"
    }
   },
   "source": [
    "intensity_image_path = Path(intensity_image_path)\n",
    "intensity_image = imread(intensity_image_path)"
   ],
   "outputs": [],
   "execution_count": 41
  },
  {
   "cell_type": "markdown",
   "metadata": {},
   "source": [
    "#### Optionally print shape of intensity image to check if everything is ok. Order: t, z, y, x"
   ]
  },
  {
   "cell_type": "code",
   "metadata": {
    "collapsed": false,
    "tags": [],
    "ExecuteTime": {
     "end_time": "2024-06-10T15:22:20.540014Z",
     "start_time": "2024-06-10T15:22:20.524385Z"
    }
   },
   "source": [
    "print(intensity_image.shape)"
   ],
   "outputs": [
    {
     "name": "stdout",
     "output_type": "stream",
     "text": [
      "(61, 113, 660, 700)\n"
     ]
    }
   ],
   "execution_count": 42
  },
  {
   "cell_type": "markdown",
   "metadata": {},
   "source": [
    "### Open napari viewer"
   ]
  },
  {
   "cell_type": "code",
   "metadata": {
    "tags": [],
    "ExecuteTime": {
     "end_time": "2024-06-13T11:21:44.434577Z",
     "start_time": "2024-06-13T11:21:43.965561Z"
    }
   },
   "source": [
    "viewer = napari.Viewer()"
   ],
   "outputs": [],
   "execution_count": 22
  },
  {
   "cell_type": "markdown",
   "metadata": {},
   "source": [
    "### Add label image"
   ]
  },
  {
   "cell_type": "code",
   "metadata": {
    "tags": [],
    "ExecuteTime": {
     "end_time": "2024-06-13T11:21:49.214303Z",
     "start_time": "2024-06-13T11:21:49.015301Z"
    }
   },
   "source": [
    "labels_layer = viewer.add_labels(label_image, features=branch_spot_table)"
   ],
   "outputs": [],
   "execution_count": 23
  },
  {
   "cell_type": "markdown",
   "metadata": {},
   "source": [
    "### Set scale of label image\n",
    "Due to bugs both in Mastodon export and in Napari import scale needs to be set manually.\n",
    "Expected order: t, z, y, x"
   ]
  },
  {
   "cell_type": "code",
   "metadata": {
    "collapsed": false,
    "tags": [],
    "ExecuteTime": {
     "end_time": "2024-06-13T11:21:50.435520Z",
     "start_time": "2024-06-13T11:21:50.400428Z"
    }
   },
   "source": [
    "# labels_layer.scale = (1, 2.48, 0.31196313094933187, 0.31196313094933187)\n",
    "# labels_layer.scale = (1, 2.03, 0.41, 0.41)\n",
    "# labels_layer.scale = (0.32, 0.32, 0.32)\n",
    "# set scale in napari terminal\n",
    "# viewer.layers[0].scale = (1, 2.48, 0.31196313094933187, 0.31196313094933187)"
   ],
   "outputs": [],
   "execution_count": 24
  },
  {
   "cell_type": "markdown",
   "metadata": {},
   "source": [
    "### Optionally add intensity image\n",
    "This will only work, if the intensity image has the same frame reduction rate as the label image."
   ]
  },
  {
   "cell_type": "code",
   "metadata": {
    "collapsed": false,
    "ExecuteTime": {
     "end_time": "2024-06-10T15:22:23.220187Z",
     "start_time": "2024-06-10T15:22:23.086187Z"
    }
   },
   "source": [
    "intensity_layer = viewer.add_image(intensity_image)"
   ],
   "outputs": [],
   "execution_count": 46
  },
  {
   "cell_type": "markdown",
   "metadata": {},
   "source": [
    "### Optionally set scale of intensity image\n",
    "Due to bugs both in Mastodon export and in Napari import scale needs to be set manually.\n",
    "Expected order: t, z, y, x\n",
    "Should be the same as for the label image."
   ]
  },
  {
   "cell_type": "code",
   "metadata": {
    "collapsed": false,
    "ExecuteTime": {
     "end_time": "2024-06-10T15:22:30.931440Z",
     "start_time": "2024-06-10T15:22:30.912737Z"
    }
   },
   "source": [
    "# intensity_layer.scale = (1, 2.48, 0.31196313094933187, 0.31196313094933187)\n",
    "# intensity_layer.scale = (1, 2.03, 0.41, 0.41)\n",
    "# intensity_layer.labels_layer.scale = (0.32, 0.32, 0.32)"
   ],
   "outputs": [],
   "execution_count": 47
  },
  {
   "cell_type": "markdown",
   "metadata": {},
   "source": [
    "### Turn on 3D view"
   ]
  },
  {
   "cell_type": "code",
   "metadata": {
    "collapsed": false,
    "tags": [],
    "ExecuteTime": {
     "end_time": "2024-06-13T11:21:55.679209Z",
     "start_time": "2024-06-13T11:21:55.523052Z"
    }
   },
   "source": [
    "viewer.dims.ndisplay = 3"
   ],
   "outputs": [],
   "execution_count": 25
  },
  {
   "cell_type": "markdown",
   "metadata": {},
   "source": [
    "### Load napari-clusters-plotter plugin"
   ]
  },
  {
   "cell_type": "code",
   "metadata": {
    "tags": [],
    "ExecuteTime": {
     "end_time": "2024-06-13T11:21:57.634225Z",
     "start_time": "2024-06-13T11:21:57.542126Z"
    }
   },
   "source": [
    "viewer.window.add_plugin_dock_widget(plugin_name='napari-clusters-plotter', widget_name='Plotter Widget')\n"
   ],
   "outputs": [
    {
     "data": {
      "text/plain": [
       "(<napari._qt.widgets.qt_viewer_dock_widget.QtViewerDockWidget at 0x1094121d670>,\n",
       " <napari_clusters_plotter._plotter.PlotterWidget at 0x109410f04c0>)"
      ]
     },
     "execution_count": 26,
     "metadata": {},
     "output_type": "execute_result"
    }
   ],
   "execution_count": 26
  },
  {
   "cell_type": "markdown",
   "metadata": {},
   "source": [
    "## You are ready to use the napari-clusters-plotter with the Mastodon data plugin now.\n",
    "Consult the documentation of the napari-clusters-plotter for further instructions, if needed.\n",
    "* https://www.youtube.com/watch?v=qZ8KDrgL1Ro\n",
    "* https://github.com/BiAPoL/napari-clusters-plotter"
   ]
  },
  {
   "cell_type": "code",
   "execution_count": null,
   "metadata": {
    "collapsed": false
   },
   "outputs": [],
   "source": []
  }
 ],
 "metadata": {
  "kernelspec": {
   "display_name": "Python 3 (ipykernel)",
   "language": "python",
   "name": "python3"
  },
  "language_info": {
   "codemirror_mode": {
    "name": "ipython",
    "version": 3
   },
   "file_extension": ".py",
   "mimetype": "text/x-python",
   "name": "python",
   "nbconvert_exporter": "python",
   "pygments_lexer": "ipython3",
   "version": "3.9.18"
  }
 },
 "nbformat": 4,
 "nbformat_minor": 4
}
