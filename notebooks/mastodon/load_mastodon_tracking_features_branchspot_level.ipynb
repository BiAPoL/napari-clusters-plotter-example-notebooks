{
 "cells": [
  {
   "cell_type": "markdown",
   "metadata": {},
   "source": [
    "# Load Mastodon tracking data on branch level into Napari to use with Napari Clusters Plotter"
   ]
  },
  {
   "cell_type": "code",
   "execution_count": 1,
   "metadata": {
    "tags": [],
    "ExecuteTime": {
     "end_time": "2024-05-02T15:04:39.519129Z",
     "start_time": "2024-05-02T15:04:33.795257Z"
    }
   },
   "outputs": [],
   "source": [
    "from pathlib import Path\n",
    "import napari\n",
    "import pandas as pd\n",
    "from skimage.io import imread"
   ]
  },
  {
   "cell_type": "markdown",
   "metadata": {},
   "source": [
    "## Prerequisites\n",
    "\n",
    "Before running this notebook, the following steps need to be performed:\n",
    "* Due to a bug in Napari clusters plotter handling tracking data, it may be required to install the latest version of Napari clusters plotter:\n",
    "```\n",
    "mamba activate devbio-napari\n",
    "pip install git+https://github.com/BiAPoL/napari-clusters-plotter.git\n",
    "```\n",
    "* Compute features on BranchSpot Level in Mastodon.\n",
    "  * Open \"Compute Features View\"\n",
    "  * Select all available Branch Spot features > Compute\n",
    "  * Open \"Table View\"\n",
    "  * Select BranchSpot \n",
    "  * File > Export to CSV\n",
    "* Export label image from Mastodon\n",
    "  * Plugins > Exports > Export label image using ellipsoids\n",
    "  * Select \"Branch Spot ID\" as label id\n",
    "  * Select a frame reduction rate of 1\n",
    "    * Higher frame reduction rates are possible and may speed up analyses in napari clusters plotter\n",
    "    * If a frame reduction rate higher than 1 is used, a version of the intensity image would need to be created (e.g. with Fiji/BigStitcher) with the same frame reduction rate or no intensity image can be loaded into napari "
   ]
  },
  {
   "cell_type": "markdown",
   "metadata": {},
   "source": [
    "## Read tables from Mastodon"
   ]
  },
  {
   "cell_type": "markdown",
   "metadata": {},
   "source": [
    "#### Set path to table\n",
    "Enter the path to the tables here. Within that folder, there should be one table:\n",
    "* BranchSpot.csv"
   ]
  },
  {
   "cell_type": "code",
   "execution_count": 2,
   "metadata": {
    "collapsed": false,
    "tags": [],
    "ExecuteTime": {
     "end_time": "2024-05-02T15:04:39.534415Z",
     "start_time": "2024-05-02T15:04:39.522104Z"
    }
   },
   "outputs": [],
   "source": [
    "tables_folder_path = ''"
   ]
  },
  {
   "cell_type": "markdown",
   "metadata": {},
   "source": [
    "#### Read table from path\n",
    "Rows with NaN values are removed."
   ]
  },
  {
   "cell_type": "code",
   "execution_count": 3,
   "metadata": {
    "tags": [],
    "ExecuteTime": {
     "end_time": "2024-05-02T15:04:39.581737Z",
     "start_time": "2024-05-02T15:04:39.536414Z"
    }
   },
   "outputs": [],
   "source": [
    "branch_spot_table_path = Path(tables_folder_path + '/BranchSpot.csv')\n",
    "branch_spot_table = pd.read_csv(branch_spot_table_path, skiprows=[1,2], encoding='utf-8')\n",
    "# remove rows with NaN values\n",
    "branch_spot_table = branch_spot_table.dropna()"
   ]
  },
  {
   "cell_type": "markdown",
   "metadata": {},
   "source": [
    "#### Optionally print head of branch spot table to check if everything is ok"
   ]
  },
  {
   "cell_type": "code",
   "execution_count": 4,
   "metadata": {
    "tags": [],
    "ExecuteTime": {
     "end_time": "2024-05-02T15:04:39.612707Z",
     "start_time": "2024-05-02T15:04:39.583662Z"
    }
   },
   "outputs": [
    {
     "data": {
      "text/plain": "   Label  ID  Branch Average Movement  Branch Movement Direction  \\\n0  50644   0                 0.845989                   0.888329   \n1  28749   1                 0.785019                  -0.840221   \n\n   Branch Movement Direction.1  Branch Movement Direction.2  \\\n0                     0.458005                    -0.033209   \n1                     0.491131                    -0.229825   \n\n   Branch N Successors and Predecessors  \\\n0                                     2   \n1                                     2   \n\n   Branch N Successors and Predecessors.1  Branch N leaves  Branch N spots  \\\n0                                       0                2             283   \n1                                       0                2             176   \n\n   ...  Detection.6  Division  Division.1  Division.2  Proliferator  \\\n0  ...            0         0           0           0             1   \n1  ...            0         0           0           0             1   \n\n   Proliferator.1  Proliferator.2  Status  Tracking  Tracking.1  \n0               0               0       1         1           0  \n1               0               0       1         1           0  \n\n[2 rows x 36 columns]",
      "text/html": "<div>\n<style scoped>\n    .dataframe tbody tr th:only-of-type {\n        vertical-align: middle;\n    }\n\n    .dataframe tbody tr th {\n        vertical-align: top;\n    }\n\n    .dataframe thead th {\n        text-align: right;\n    }\n</style>\n<table border=\"1\" class=\"dataframe\">\n  <thead>\n    <tr style=\"text-align: right;\">\n      <th></th>\n      <th>Label</th>\n      <th>ID</th>\n      <th>Branch Average Movement</th>\n      <th>Branch Movement Direction</th>\n      <th>Branch Movement Direction.1</th>\n      <th>Branch Movement Direction.2</th>\n      <th>Branch N Successors and Predecessors</th>\n      <th>Branch N Successors and Predecessors.1</th>\n      <th>Branch N leaves</th>\n      <th>Branch N spots</th>\n      <th>...</th>\n      <th>Detection.6</th>\n      <th>Division</th>\n      <th>Division.1</th>\n      <th>Division.2</th>\n      <th>Proliferator</th>\n      <th>Proliferator.1</th>\n      <th>Proliferator.2</th>\n      <th>Status</th>\n      <th>Tracking</th>\n      <th>Tracking.1</th>\n    </tr>\n  </thead>\n  <tbody>\n    <tr>\n      <th>0</th>\n      <td>50644</td>\n      <td>0</td>\n      <td>0.845989</td>\n      <td>0.888329</td>\n      <td>0.458005</td>\n      <td>-0.033209</td>\n      <td>2</td>\n      <td>0</td>\n      <td>2</td>\n      <td>283</td>\n      <td>...</td>\n      <td>0</td>\n      <td>0</td>\n      <td>0</td>\n      <td>0</td>\n      <td>1</td>\n      <td>0</td>\n      <td>0</td>\n      <td>1</td>\n      <td>1</td>\n      <td>0</td>\n    </tr>\n    <tr>\n      <th>1</th>\n      <td>28749</td>\n      <td>1</td>\n      <td>0.785019</td>\n      <td>-0.840221</td>\n      <td>0.491131</td>\n      <td>-0.229825</td>\n      <td>2</td>\n      <td>0</td>\n      <td>2</td>\n      <td>176</td>\n      <td>...</td>\n      <td>0</td>\n      <td>0</td>\n      <td>0</td>\n      <td>0</td>\n      <td>1</td>\n      <td>0</td>\n      <td>0</td>\n      <td>1</td>\n      <td>1</td>\n      <td>0</td>\n    </tr>\n  </tbody>\n</table>\n<p>2 rows × 36 columns</p>\n</div>"
     },
     "execution_count": 4,
     "metadata": {},
     "output_type": "execute_result"
    }
   ],
   "source": [
    "branch_spot_table.head(2)"
   ]
  },
  {
   "cell_type": "markdown",
   "metadata": {},
   "source": [
    "## Change table to match napari-clusters-plotter standards\n",
    "Mastodon 'label' column needs to be removed from the table and replaced with a new column 'label' that contains the branch spot ID.\n",
    "The branch spot ID is the Mastodon ID + 1. This is necessary, since the ellipsoid label image starts with 1, while the Mastodon ID starts at 0."
   ]
  },
  {
   "cell_type": "code",
   "execution_count": 5,
   "metadata": {
    "tags": [],
    "ExecuteTime": {
     "end_time": "2024-05-02T15:04:39.628631Z",
     "start_time": "2024-05-02T15:04:39.614665Z"
    }
   },
   "outputs": [],
   "source": [
    "# Remove Label column from Mastodon tables\n",
    "branch_spot_table = branch_spot_table.drop(columns=['Label'])\n",
    "\n",
    "# Add a new label column representing the branch spot ID\n",
    "branch_spot_table['label'] = branch_spot_table['ID'].astype(int) + 1 # Turning branch spot ids into labels, NB: + 1 needs to be added, since the ids are counted one based in the Mastodon"
   ]
  },
  {
   "cell_type": "markdown",
   "metadata": {},
   "source": [
    "\n",
    "### Currently available Branch spot features:\n",
    "* label\n",
    "* Branch Average Movement\n",
    "* Branch Movement Direction (X)\n",
    "* Branch Movement Direction.1 (Y)\n",
    "* Branch Movement Direction.2 (Z)\n",
    "* Branch N Successors and Predecessors (successors)\n",
    "* Branch N Successors and Predecessors.1 predecessors (predecessors)\n",
    "* Branch Sinuosity\n",
    "* Branch duration and displacement (displacement)\n",
    "* Branch duration and displacement.1 (duration)\n",
    "* Branch Relative Movement (x-component)\n",
    "* Branch Relative Movement.1 (y-component)\n",
    "* Branch Relative Movement.2 (z-component)\n",
    "* Branch Relative Movement.3 (average speed relative to 5 nearest neighbors)\n",
    "* Cell Division Frequency"
   ]
  },
  {
   "cell_type": "markdown",
   "metadata": {},
   "source": [
    "### Optional: create a cell fate column \n",
    "This is only useful, if the cell fate has been annotated in Mastodon."
   ]
  },
  {
   "cell_type": "code",
   "execution_count": 6,
   "metadata": {
    "ExecuteTime": {
     "end_time": "2023-12-20T14:56:56.192215700Z",
     "start_time": "2023-12-20T14:56:56.150196100Z"
    },
    "collapsed": false
   },
   "outputs": [],
   "source": [
    "# Define a function to determine the combined value\n",
    "def cell_fate_values_to_label(row):\n",
    "    if row['cell_fate']:\n",
    "        return 1\n",
    "    elif row['cell_fate.1']:\n",
    "        return 2\n",
    "    elif row['cell_fate.2']:\n",
    "        return 3\n",
    "    elif row['cell_fate.3']:\n",
    "        return 4\n",
    "    elif row['cell_fate.4']:\n",
    "        return 5\n",
    "    elif row['cell_fate.5']:\n",
    "        return 6\n",
    "    elif row['cell_fate.6']:\n",
    "        return 7\n",
    "    elif row['cell_fate.7']:\n",
    "        return 8\n",
    "    elif row['cell_fate.8']:\n",
    "        return 9\n",
    "    elif row['cell_fate.9']:\n",
    "        return 10\n",
    "    elif row['cell_fate.10']:\n",
    "        return 11\n",
    "    elif row['cell_fate.11']:\n",
    "        return 12\n",
    "    elif row['cell_fate.12']:\n",
    "        return 13\n",
    "    else:\n",
    "        return 0 \n",
    "\n",
    "# create a new column 13 different cell fates\n",
    "branch_spot_table['cell_fate'] = branch_spot_table.apply(cell_fate_values_to_label, axis=1)"
   ]
  },
  {
   "cell_type": "markdown",
   "metadata": {},
   "source": [
    "### Remove unnecessary columns to save some RAM"
   ]
  },
  {
   "cell_type": "code",
   "execution_count": 6,
   "metadata": {
    "collapsed": false,
    "tags": [],
    "ExecuteTime": {
     "end_time": "2024-05-02T15:04:44.958660Z",
     "start_time": "2024-05-02T15:04:44.943661Z"
    }
   },
   "outputs": [
    {
     "data": {
      "text/plain": "   label  Branch Average Movement  Branch Movement Direction  \\\n0      1                 0.845989                   0.888329   \n1      2                 0.785019                  -0.840221   \n\n   Branch Movement Direction.1  Branch Movement Direction.2  \\\n0                     0.458005                    -0.033209   \n1                     0.491131                    -0.229825   \n\n   Branch N Successors and Predecessors  \\\n0                                     2   \n1                                     2   \n\n   Branch N Successors and Predecessors.1  Branch Sinuosity  \\\n0                                       0          9.896631   \n1                                       0         11.412242   \n\n   Branch duration and displacement  Branch duration and displacement.1  \\\n0                         24.106064                               282.0   \n1                         12.037811                               175.0   \n\n   Branch relative movement  Branch relative movement.1  \\\n0                 -0.794458                    0.606264   \n1                 -0.972409                    0.230314   \n\n   Branch relative movement.2  Branch relative movement.3  \\\n0                    0.035788                    0.891979   \n1                   -0.037106                    0.952798   \n\n   Cell division frequency  \n0                 0.001379  \n1                 0.001202  ",
      "text/html": "<div>\n<style scoped>\n    .dataframe tbody tr th:only-of-type {\n        vertical-align: middle;\n    }\n\n    .dataframe tbody tr th {\n        vertical-align: top;\n    }\n\n    .dataframe thead th {\n        text-align: right;\n    }\n</style>\n<table border=\"1\" class=\"dataframe\">\n  <thead>\n    <tr style=\"text-align: right;\">\n      <th></th>\n      <th>label</th>\n      <th>Branch Average Movement</th>\n      <th>Branch Movement Direction</th>\n      <th>Branch Movement Direction.1</th>\n      <th>Branch Movement Direction.2</th>\n      <th>Branch N Successors and Predecessors</th>\n      <th>Branch N Successors and Predecessors.1</th>\n      <th>Branch Sinuosity</th>\n      <th>Branch duration and displacement</th>\n      <th>Branch duration and displacement.1</th>\n      <th>Branch relative movement</th>\n      <th>Branch relative movement.1</th>\n      <th>Branch relative movement.2</th>\n      <th>Branch relative movement.3</th>\n      <th>Cell division frequency</th>\n    </tr>\n  </thead>\n  <tbody>\n    <tr>\n      <th>0</th>\n      <td>1</td>\n      <td>0.845989</td>\n      <td>0.888329</td>\n      <td>0.458005</td>\n      <td>-0.033209</td>\n      <td>2</td>\n      <td>0</td>\n      <td>9.896631</td>\n      <td>24.106064</td>\n      <td>282.0</td>\n      <td>-0.794458</td>\n      <td>0.606264</td>\n      <td>0.035788</td>\n      <td>0.891979</td>\n      <td>0.001379</td>\n    </tr>\n    <tr>\n      <th>1</th>\n      <td>2</td>\n      <td>0.785019</td>\n      <td>-0.840221</td>\n      <td>0.491131</td>\n      <td>-0.229825</td>\n      <td>2</td>\n      <td>0</td>\n      <td>11.412242</td>\n      <td>12.037811</td>\n      <td>175.0</td>\n      <td>-0.972409</td>\n      <td>0.230314</td>\n      <td>-0.037106</td>\n      <td>0.952798</td>\n      <td>0.001202</td>\n    </tr>\n  </tbody>\n</table>\n</div>"
     },
     "execution_count": 6,
     "metadata": {},
     "output_type": "execute_result"
    }
   ],
   "source": [
    "columns_to_keep = ['label', 'Branch Average Movement', 'Branch Movement Direction', 'Branch Movement Direction.1', 'Branch Movement Direction.2', 'Branch N Successors and Predecessors', 'Branch N Successors and Predecessors.1', 'Branch Sinuosity', 'Branch duration and displacement', 'Branch duration and displacement.1', 'Branch relative movement', 'Branch relative movement.1', 'Branch relative movement.2', 'Branch relative movement.3', 'Cell division frequency' ]\n",
    "if 'cell_fate' in branch_spot_table.columns:\n",
    "    columns_to_keep.append('cell_fate')\n",
    "branch_spot_table = branch_spot_table[columns_to_keep]\n",
    "branch_spot_table.head(2)\n"
   ]
  },
  {
   "cell_type": "markdown",
   "metadata": {},
   "source": [
    "### Rename columns to have more meaningful names"
   ]
  },
  {
   "cell_type": "code",
   "execution_count": 7,
   "metadata": {
    "collapsed": false,
    "tags": [],
    "ExecuteTime": {
     "end_time": "2024-05-02T15:04:47.739621Z",
     "start_time": "2024-05-02T15:04:47.725521Z"
    }
   },
   "outputs": [
    {
     "data": {
      "text/plain": "   label  Branch Average Movement  Branch Movement Direction (X)  \\\n0      1                 0.845989                       0.888329   \n1      2                 0.785019                      -0.840221   \n\n   Branch Movement Direction (Y)  Branch Movement Direction (Z)  \\\n0                       0.458005                      -0.033209   \n1                       0.491131                      -0.229825   \n\n   Branch N Successors  Branch N Predecessors  Branch Sinuosity  \\\n0                    2                      0          9.896631   \n1                    2                      0         11.412242   \n\n   Branch displacement  Branch duration  \\\n0            24.106064            282.0   \n1            12.037811            175.0   \n\n   Branch Relative Movement (x-component)  \\\n0                               -0.794458   \n1                               -0.972409   \n\n   Branch Relative Movement (y-component)  \\\n0                                0.606264   \n1                                0.230314   \n\n   Branch Relative Movement (z-component)  Branch Relative Movement  \\\n0                                0.035788                  0.891979   \n1                               -0.037106                  0.952798   \n\n   Cell division frequency  \n0                 0.001379  \n1                 0.001202  ",
      "text/html": "<div>\n<style scoped>\n    .dataframe tbody tr th:only-of-type {\n        vertical-align: middle;\n    }\n\n    .dataframe tbody tr th {\n        vertical-align: top;\n    }\n\n    .dataframe thead th {\n        text-align: right;\n    }\n</style>\n<table border=\"1\" class=\"dataframe\">\n  <thead>\n    <tr style=\"text-align: right;\">\n      <th></th>\n      <th>label</th>\n      <th>Branch Average Movement</th>\n      <th>Branch Movement Direction (X)</th>\n      <th>Branch Movement Direction (Y)</th>\n      <th>Branch Movement Direction (Z)</th>\n      <th>Branch N Successors</th>\n      <th>Branch N Predecessors</th>\n      <th>Branch Sinuosity</th>\n      <th>Branch displacement</th>\n      <th>Branch duration</th>\n      <th>Branch Relative Movement (x-component)</th>\n      <th>Branch Relative Movement (y-component)</th>\n      <th>Branch Relative Movement (z-component)</th>\n      <th>Branch Relative Movement</th>\n      <th>Cell division frequency</th>\n    </tr>\n  </thead>\n  <tbody>\n    <tr>\n      <th>0</th>\n      <td>1</td>\n      <td>0.845989</td>\n      <td>0.888329</td>\n      <td>0.458005</td>\n      <td>-0.033209</td>\n      <td>2</td>\n      <td>0</td>\n      <td>9.896631</td>\n      <td>24.106064</td>\n      <td>282.0</td>\n      <td>-0.794458</td>\n      <td>0.606264</td>\n      <td>0.035788</td>\n      <td>0.891979</td>\n      <td>0.001379</td>\n    </tr>\n    <tr>\n      <th>1</th>\n      <td>2</td>\n      <td>0.785019</td>\n      <td>-0.840221</td>\n      <td>0.491131</td>\n      <td>-0.229825</td>\n      <td>2</td>\n      <td>0</td>\n      <td>11.412242</td>\n      <td>12.037811</td>\n      <td>175.0</td>\n      <td>-0.972409</td>\n      <td>0.230314</td>\n      <td>-0.037106</td>\n      <td>0.952798</td>\n      <td>0.001202</td>\n    </tr>\n  </tbody>\n</table>\n</div>"
     },
     "execution_count": 7,
     "metadata": {},
     "output_type": "execute_result"
    }
   ],
   "source": [
    "new_columns = {'Branch duration and displacement.1': 'Branch duration', 'Branch duration and displacement': 'Branch displacement', 'Branch Movement Direction' : 'Branch Movement Direction (X)', 'Branch Movement Direction.1' : 'Branch Movement Direction (Y)', 'Branch Movement Direction.2' : 'Branch Movement Direction (Z)', 'Branch relative movement' : 'Branch Relative Movement (x-component)', 'Branch relative movement.1' : 'Branch Relative Movement (y-component)', 'Branch relative movement.2' : 'Branch Relative Movement (z-component)', 'Branch relative movement.3' : 'Branch Relative Movement', 'Branch N Successors and Predecessors' : 'Branch N Successors', 'Branch N Successors and Predecessors.1' : 'Branch N Predecessors'}\n",
    "\n",
    "if 'cell_fate' in branch_spot_table.columns:\n",
    "    new_columns['cell_fate'] = 'Cell fate_CLUSTER_ID'\n",
    "\n",
    "# Rename the columns using the dictionary\n",
    "branch_spot_table.rename(columns=new_columns, inplace=True)\n",
    "branch_spot_table.head(2)"
   ]
  },
  {
   "cell_type": "markdown",
   "metadata": {},
   "source": [
    "### Optionally export measurements to CSV file\n",
    "This can be skipped if the measurements are not needed outside napari."
   ]
  },
  {
   "cell_type": "code",
   "execution_count": 8,
   "metadata": {
    "collapsed": false,
    "tags": [],
    "ExecuteTime": {
     "end_time": "2024-05-02T15:04:52.003228Z",
     "start_time": "2024-05-02T15:04:51.958514Z"
    }
   },
   "outputs": [],
   "source": [
    "filename = 'measurements_branch_spot.csv'\n",
    "branch_spot_table.to_csv(tables_folder_path + '/' + filename, sep=',', quotechar='\"', index=False)"
   ]
  },
  {
   "cell_type": "markdown",
   "metadata": {},
   "source": [
    "## View in napari\n",
    "* Installation instructions for napari can be found [here](https://biapol.github.io/blog/mara_lampert/getting_started_with_mambaforge_and_python/readme.html)."
   ]
  },
  {
   "cell_type": "markdown",
   "metadata": {},
   "source": [
    "### Read label image\n",
    "The label image is expected to be exported from Mastodon with the following settings:\n",
    "* Label Id: *Branch spot ID*\n",
    "* Frame rate reduction: expected to be the same as the frame reduction factor specified above"
   ]
  },
  {
   "cell_type": "markdown",
   "metadata": {},
   "source": [
    "#### Set path to label image\n",
    "Enter the path to the label image exported from Mastodon here."
   ]
  },
  {
   "cell_type": "code",
   "execution_count": 9,
   "metadata": {
    "collapsed": false,
    "tags": [],
    "ExecuteTime": {
     "end_time": "2024-05-02T15:05:11.443246Z",
     "start_time": "2024-05-02T15:05:11.428249Z"
    }
   },
   "outputs": [],
   "source": [
    "label_image_path = ('')"
   ]
  },
  {
   "cell_type": "markdown",
   "metadata": {},
   "source": [
    "#### Read label image from path"
   ]
  },
  {
   "cell_type": "code",
   "execution_count": 10,
   "metadata": {
    "collapsed": false,
    "tags": [],
    "ExecuteTime": {
     "end_time": "2024-05-02T15:05:57.648103Z",
     "start_time": "2024-05-02T15:05:13.453482Z"
    }
   },
   "outputs": [],
   "source": [
    "#### Read label image from path\n",
    "label_image_path = Path(label_image_path)\n",
    "label_image = imread(label_image_path)\n"
   ]
  },
  {
   "cell_type": "markdown",
   "metadata": {},
   "source": [
    "#### Optionally print shape of label image to check if everything is ok, order: t, z, y, x"
   ]
  },
  {
   "cell_type": "code",
   "execution_count": 11,
   "metadata": {
    "collapsed": false,
    "tags": [],
    "ExecuteTime": {
     "end_time": "2024-05-02T15:05:57.664014Z",
     "start_time": "2024-05-02T15:05:57.649070Z"
    }
   },
   "outputs": [
    {
     "name": "stdout",
     "output_type": "stream",
     "text": [
      "(504, 12, 500, 1024)\n"
     ]
    }
   ],
   "source": [
    "print(label_image.shape)"
   ]
  },
  {
   "cell_type": "markdown",
   "metadata": {},
   "source": [
    "### Optionally read intensity image\n",
    "This will only work, if the intensity image has the same frame reduction rate as the label image."
   ]
  },
  {
   "cell_type": "markdown",
   "metadata": {},
   "source": [
    "#### Optionally Set path to intensity image\n",
    "Enter the path to the intensity image here."
   ]
  },
  {
   "cell_type": "code",
   "execution_count": 35,
   "metadata": {
    "ExecuteTime": {
     "end_time": "2023-12-20T14:14:06.828295300Z",
     "start_time": "2023-12-20T14:14:06.801278100Z"
    },
    "collapsed": false,
    "tags": []
   },
   "outputs": [],
   "source": [
    "intensity_image_path = ''"
   ]
  },
  {
   "cell_type": "markdown",
   "metadata": {},
   "source": [
    "#### Optionally read intensity image from path"
   ]
  },
  {
   "cell_type": "code",
   "execution_count": 36,
   "metadata": {
    "ExecuteTime": {
     "end_time": "2023-12-20T14:14:08.914566300Z",
     "start_time": "2023-12-20T14:14:08.394481900Z"
    },
    "collapsed": false,
    "tags": []
   },
   "outputs": [],
   "source": [
    "intensity_image_path = Path(intensity_image_path)\n",
    "intensity_image = imread(intensity_image_path)"
   ]
  },
  {
   "cell_type": "markdown",
   "metadata": {},
   "source": [
    "#### Optionally print shape of intensity image to check if everything is ok. Order: t, z, y, x"
   ]
  },
  {
   "cell_type": "code",
   "execution_count": 37,
   "metadata": {
    "ExecuteTime": {
     "end_time": "2023-12-20T14:14:12.193829200Z",
     "start_time": "2023-12-20T14:14:12.166657600Z"
    },
    "collapsed": false,
    "tags": []
   },
   "outputs": [
    {
     "name": "stdout",
     "output_type": "stream",
     "text": [
      "(51, 12, 500, 1024)\n"
     ]
    }
   ],
   "source": [
    "print(intensity_image.shape)"
   ]
  },
  {
   "cell_type": "markdown",
   "metadata": {},
   "source": [
    "### Open napari viewer"
   ]
  },
  {
   "cell_type": "code",
   "execution_count": 12,
   "metadata": {
    "tags": [],
    "ExecuteTime": {
     "end_time": "2024-05-02T15:06:14.534736Z",
     "start_time": "2024-05-02T15:05:57.666128Z"
    }
   },
   "outputs": [],
   "source": [
    "viewer = napari.Viewer()"
   ]
  },
  {
   "cell_type": "markdown",
   "metadata": {},
   "source": [
    "### Add label image"
   ]
  },
  {
   "cell_type": "code",
   "execution_count": 13,
   "metadata": {
    "tags": [],
    "ExecuteTime": {
     "end_time": "2024-05-02T15:06:14.954116Z",
     "start_time": "2024-05-02T15:06:14.537737Z"
    }
   },
   "outputs": [],
   "source": [
    "labels_layer = viewer.add_labels(label_image, features=branch_spot_table)"
   ]
  },
  {
   "cell_type": "markdown",
   "metadata": {},
   "source": [
    "### Set scale of label image\n",
    "Due to bugs both in Mastodon export and in Napari import scale needs to be set manually.\n",
    "Expected order: t, z, y, x"
   ]
  },
  {
   "cell_type": "code",
   "execution_count": 14,
   "metadata": {
    "collapsed": false,
    "tags": [],
    "ExecuteTime": {
     "end_time": "2024-05-02T15:06:14.974117Z",
     "start_time": "2024-05-02T15:06:14.956117Z"
    }
   },
   "outputs": [],
   "source": [
    "# labels_layer.scale = (1, 2.48, 0.31196313094933187, 0.31196313094933187)\n",
    "# labels_layer.scale = (1, 2.03, 0.41, 0.41)\n",
    "# set scale in napari terminal\n",
    "# viewer.layers[0].scale = (1, 2.48, 0.31196313094933187, 0.31196313094933187)"
   ]
  },
  {
   "cell_type": "markdown",
   "metadata": {},
   "source": [
    "### Optionally add intensity image\n",
    "This will only work, if the intensity image has the same frame reduction rate as the label image."
   ]
  },
  {
   "cell_type": "code",
   "execution_count": null,
   "metadata": {
    "collapsed": false
   },
   "outputs": [],
   "source": [
    "intensity_layer = viewer.add_image(intensity_image)"
   ]
  },
  {
   "cell_type": "markdown",
   "metadata": {},
   "source": [
    "### Optionally set scale of intensity image\n",
    "Due to bugs both in Mastodon export and in Napari import scale needs to be set manually.\n",
    "Expected order: t, z, y, x\n",
    "Should be the same as for the label image."
   ]
  },
  {
   "cell_type": "code",
   "execution_count": null,
   "metadata": {
    "collapsed": false
   },
   "outputs": [],
   "source": [
    "# intensity_layer.scale = (1, 2.48, 0.31196313094933187, 0.31196313094933187)\n",
    "# intensity_layer.scale = (1, 2.03, 0.41, 0.41)"
   ]
  },
  {
   "cell_type": "markdown",
   "metadata": {},
   "source": [
    "### Turn on 3D view"
   ]
  },
  {
   "cell_type": "code",
   "execution_count": 15,
   "metadata": {
    "collapsed": false,
    "tags": [],
    "ExecuteTime": {
     "end_time": "2024-05-02T15:06:15.096248Z",
     "start_time": "2024-05-02T15:06:14.976118Z"
    }
   },
   "outputs": [],
   "source": [
    "viewer.dims.ndisplay = 3"
   ]
  },
  {
   "cell_type": "markdown",
   "metadata": {},
   "source": [
    "### Load napari-clusters-plotter plugin"
   ]
  },
  {
   "cell_type": "code",
   "execution_count": 16,
   "metadata": {
    "tags": [],
    "ExecuteTime": {
     "end_time": "2024-05-02T15:06:15.342170Z",
     "start_time": "2024-05-02T15:06:15.098280Z"
    }
   },
   "outputs": [
    {
     "data": {
      "text/plain": "(<napari._qt.widgets.qt_viewer_dock_widget.QtViewerDockWidget at 0x25120b8d3a0>,\n <napari_clusters_plotter._plotter.PlotterWidget at 0x251206f7430>)"
     },
     "execution_count": 16,
     "metadata": {},
     "output_type": "execute_result"
    }
   ],
   "source": [
    "viewer.window.add_plugin_dock_widget(plugin_name='napari-clusters-plotter', widget_name='Plotter Widget')\n"
   ]
  },
  {
   "cell_type": "markdown",
   "metadata": {},
   "source": [
    "## You are ready to use the napari-clusters-plotter with the Mastodon data plugin now.\n",
    "Consult the documentation of the napari-clusters-plotter for further instructions, if needed.\n",
    "* https://www.youtube.com/watch?v=qZ8KDrgL1Ro\n",
    "* https://github.com/BiAPoL/napari-clusters-plotter"
   ]
  },
  {
   "cell_type": "code",
   "execution_count": null,
   "metadata": {
    "collapsed": false
   },
   "outputs": [],
   "source": []
  }
 ],
 "metadata": {
  "kernelspec": {
   "display_name": "Python 3 (ipykernel)",
   "language": "python",
   "name": "python3"
  },
  "language_info": {
   "codemirror_mode": {
    "name": "ipython",
    "version": 3
   },
   "file_extension": ".py",
   "mimetype": "text/x-python",
   "name": "python",
   "nbconvert_exporter": "python",
   "pygments_lexer": "ipython3",
   "version": "3.9.18"
  }
 },
 "nbformat": 4,
 "nbformat_minor": 4
}
