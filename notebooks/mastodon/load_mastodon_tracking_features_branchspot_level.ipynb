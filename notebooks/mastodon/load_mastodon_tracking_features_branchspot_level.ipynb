{
 "cells": [
  {
   "cell_type": "markdown",
   "metadata": {},
   "source": [
    "# Load Mastodon tracking data on branch level into Napari to use with Napari Clusters Plotter"
   ]
  },
  {
   "cell_type": "code",
   "execution_count": 1,
   "metadata": {
    "tags": [],
    "ExecuteTime": {
     "end_time": "2023-12-21T16:09:23.045002400Z",
     "start_time": "2023-12-21T16:09:19.292995700Z"
    }
   },
   "outputs": [],
   "source": [
    "from pathlib import Path\n",
    "import napari\n",
    "import pandas as pd\n",
    "from skimage.io import imread"
   ]
  },
  {
   "cell_type": "markdown",
   "source": [
    "## Prerequisites\n",
    "\n",
    "Before running this notebook, the following steps need to be performed:\n",
    "* Compute features on BranchSpot Level in Mastodon.\n",
    "  * Open \"Compute Features View\"\n",
    "  * Select all available Branch Spot features > Compute\n",
    "  * Open \"Table View\"\n",
    "  * Select BranchSpot \n",
    "  * File > Export to CSV\n",
    "* Export label image from Mastodon\n",
    "  * Plugins > Exports > Export label image using ellipsoids\n",
    "  * Select \"Branch Spot ID\" as label id\n",
    "  * Select a frame reduction rate of 1\n",
    "    * Higher frame reduction rates are possible and may speed up analyses in napari clusters plotter\n",
    "    * If a frame reduction rate higher than 1 is used, a version of the intensity image would need to be created with the same frame reduction rate or no intensity image can be loaded into napari "
   ],
   "metadata": {
    "collapsed": false
   }
  },
  {
   "cell_type": "markdown",
   "metadata": {},
   "source": [
    "## Read tables from Mastodon"
   ]
  },
  {
   "cell_type": "markdown",
   "metadata": {},
   "source": [
    "#### Set path to table\n",
    "Enter the path to the tables here. Within that folder, there should be one table:\n",
    "* BranchSpot.csv"
   ]
  },
  {
   "cell_type": "code",
   "execution_count": 6,
   "metadata": {
    "collapsed": false,
    "tags": [],
    "ExecuteTime": {
     "end_time": "2023-12-21T16:10:12.987582800Z",
     "start_time": "2023-12-21T16:10:12.952474500Z"
    }
   },
   "outputs": [],
   "source": [
    "tables_folder_path = ''"
   ]
  },
  {
   "cell_type": "markdown",
   "metadata": {},
   "source": [
    "#### Read table from path\n",
    "Rows with NaN values are removed."
   ]
  },
  {
   "cell_type": "code",
   "execution_count": 7,
   "metadata": {
    "tags": [],
    "ExecuteTime": {
     "end_time": "2023-12-21T16:10:14.744490500Z",
     "start_time": "2023-12-21T16:10:14.707489Z"
    }
   },
   "outputs": [],
   "source": [
    "branch_spot_table_path = Path(tables_folder_path + '/BranchSpot.csv')\n",
    "branch_spot_table = pd.read_csv(branch_spot_table_path, skiprows=[1,2])\n",
    "# remove rows with NaN values\n",
    "branch_spot_table = branch_spot_table.dropna()"
   ]
  },
  {
   "cell_type": "markdown",
   "metadata": {},
   "source": [
    "#### Optionally print head of branch spot table to check if everything is ok"
   ]
  },
  {
   "cell_type": "code",
   "execution_count": 8,
   "metadata": {
    "tags": [],
    "ExecuteTime": {
     "end_time": "2023-12-21T16:10:16.151146500Z",
     "start_time": "2023-12-21T16:10:16.130112300Z"
    }
   },
   "outputs": [
    {
     "data": {
      "text/plain": "   Label  ID  Branch N leaves  Branch N spots  Branch N sub branch spots  \\\n0  50644   0                2             283                          2   \n1  28749   1                2             176                          2   \n\n   Branch N successors  Branch Sinuosity  Branch depth  \\\n0                    2          9.896631             0   \n1                    2         11.412242             0   \n\n   Branch duration and displacement  Branch duration and displacement.1  ...  \\\n0                         24.106064                               282.0  ...   \n1                         12.037811                               175.0  ...   \n\n   Detection.6  Division  Division.1  Division.2  Proliferator  \\\n0            0         0           0           0             1   \n1            0         0           0           0             1   \n\n   Proliferator.1  Proliferator.2  Status  Tracking  Tracking.1  \n0               0               0       1         1           0  \n1               0               0       1         1           0  \n\n[2 rows x 26 columns]",
      "text/html": "<div>\n<style scoped>\n    .dataframe tbody tr th:only-of-type {\n        vertical-align: middle;\n    }\n\n    .dataframe tbody tr th {\n        vertical-align: top;\n    }\n\n    .dataframe thead th {\n        text-align: right;\n    }\n</style>\n<table border=\"1\" class=\"dataframe\">\n  <thead>\n    <tr style=\"text-align: right;\">\n      <th></th>\n      <th>Label</th>\n      <th>ID</th>\n      <th>Branch N leaves</th>\n      <th>Branch N spots</th>\n      <th>Branch N sub branch spots</th>\n      <th>Branch N successors</th>\n      <th>Branch Sinuosity</th>\n      <th>Branch depth</th>\n      <th>Branch duration and displacement</th>\n      <th>Branch duration and displacement.1</th>\n      <th>...</th>\n      <th>Detection.6</th>\n      <th>Division</th>\n      <th>Division.1</th>\n      <th>Division.2</th>\n      <th>Proliferator</th>\n      <th>Proliferator.1</th>\n      <th>Proliferator.2</th>\n      <th>Status</th>\n      <th>Tracking</th>\n      <th>Tracking.1</th>\n    </tr>\n  </thead>\n  <tbody>\n    <tr>\n      <th>0</th>\n      <td>50644</td>\n      <td>0</td>\n      <td>2</td>\n      <td>283</td>\n      <td>2</td>\n      <td>2</td>\n      <td>9.896631</td>\n      <td>0</td>\n      <td>24.106064</td>\n      <td>282.0</td>\n      <td>...</td>\n      <td>0</td>\n      <td>0</td>\n      <td>0</td>\n      <td>0</td>\n      <td>1</td>\n      <td>0</td>\n      <td>0</td>\n      <td>1</td>\n      <td>1</td>\n      <td>0</td>\n    </tr>\n    <tr>\n      <th>1</th>\n      <td>28749</td>\n      <td>1</td>\n      <td>2</td>\n      <td>176</td>\n      <td>2</td>\n      <td>2</td>\n      <td>11.412242</td>\n      <td>0</td>\n      <td>12.037811</td>\n      <td>175.0</td>\n      <td>...</td>\n      <td>0</td>\n      <td>0</td>\n      <td>0</td>\n      <td>0</td>\n      <td>1</td>\n      <td>0</td>\n      <td>0</td>\n      <td>1</td>\n      <td>1</td>\n      <td>0</td>\n    </tr>\n  </tbody>\n</table>\n<p>2 rows × 26 columns</p>\n</div>"
     },
     "execution_count": 8,
     "metadata": {},
     "output_type": "execute_result"
    }
   ],
   "source": [
    "branch_spot_table.head(2)"
   ]
  },
  {
   "cell_type": "markdown",
   "metadata": {},
   "source": [
    "## Change table to match napari-clusters-plotter standards\n",
    "Mastodon 'label' column needs to be removed from the table and replaced with a new column 'label' that contains the branch spot ID.\n",
    "The branch spot ID is the Mastodon ID + 1. This is necessary, since the ellipsoid label image starts with 1, while the Mastodon ID starts at 0."
   ]
  },
  {
   "cell_type": "code",
   "execution_count": 9,
   "metadata": {
    "tags": [],
    "ExecuteTime": {
     "end_time": "2023-12-21T16:10:18.031126Z",
     "start_time": "2023-12-21T16:10:18.012990600Z"
    }
   },
   "outputs": [],
   "source": [
    "# Remove Label column from Mastodon tables\n",
    "branch_spot_table = branch_spot_table.drop(columns=['Label'])\n",
    "\n",
    "# Add a new label column representing the branch spot ID\n",
    "branch_spot_table['label'] = branch_spot_table['ID'].astype(int) + 1 # Turning branch spot ids into labels, NB: + 1 needs to be added, since the ids are counted one based in the Mastodon"
   ]
  },
  {
   "cell_type": "markdown",
   "metadata": {},
   "source": [
    "\n",
    "### Currently available Branch spot features:\n",
    "* label\n",
    "* Branch Sinuosity\n",
    "* Branch duration and displacement (displacement)\n",
    "* Branch duration and displacement.1 (duration)\n",
    "* Branch N successors"
   ]
  },
  {
   "cell_type": "markdown",
   "source": [
    "### Optional: create a cell fate column \n",
    "This is only useful, if the cell fate has been annotated in Mastodon."
   ],
   "metadata": {
    "collapsed": false
   }
  },
  {
   "cell_type": "code",
   "execution_count": 6,
   "outputs": [],
   "source": [
    "# Define a function to determine the combined value\n",
    "def cell_fate_values_to_label(row):\n",
    "    if row['cell_fate']:\n",
    "        return 1\n",
    "    elif row['cell_fate.1']:\n",
    "        return 2\n",
    "    elif row['cell_fate.2']:\n",
    "        return 3\n",
    "    elif row['cell_fate.3']:\n",
    "        return 4\n",
    "    elif row['cell_fate.4']:\n",
    "        return 5\n",
    "    elif row['cell_fate.5']:\n",
    "        return 6\n",
    "    elif row['cell_fate.6']:\n",
    "        return 7\n",
    "    elif row['cell_fate.7']:\n",
    "        return 8\n",
    "    elif row['cell_fate.8']:\n",
    "        return 9\n",
    "    elif row['cell_fate.9']:\n",
    "        return 10\n",
    "    elif row['cell_fate.10']:\n",
    "        return 11\n",
    "    elif row['cell_fate.11']:\n",
    "        return 12\n",
    "    elif row['cell_fate.12']:\n",
    "        return 13\n",
    "    else:\n",
    "        return 0 \n",
    "\n",
    "# create a new column 13 different cell fates\n",
    "branch_spot_table['cell_fate'] = branch_spot_table.apply(cell_fate_values_to_label, axis=1)"
   ],
   "metadata": {
    "collapsed": false,
    "ExecuteTime": {
     "end_time": "2023-12-20T14:56:56.192215700Z",
     "start_time": "2023-12-20T14:56:56.150196100Z"
    }
   }
  },
  {
   "cell_type": "markdown",
   "metadata": {},
   "source": [
    "### Remove unnecessary columns to save some RAM"
   ]
  },
  {
   "cell_type": "code",
   "execution_count": 10,
   "metadata": {
    "collapsed": false,
    "tags": [],
    "ExecuteTime": {
     "end_time": "2023-12-21T16:10:27.851212500Z",
     "start_time": "2023-12-21T16:10:27.826212900Z"
    }
   },
   "outputs": [
    {
     "data": {
      "text/plain": "   label  Branch Sinuosity  Branch duration and displacement  \\\n0      1          9.896631                         24.106064   \n1      2         11.412242                         12.037811   \n\n   Branch duration and displacement.1  Branch N successors  \n0                               282.0                    2  \n1                               175.0                    2  ",
      "text/html": "<div>\n<style scoped>\n    .dataframe tbody tr th:only-of-type {\n        vertical-align: middle;\n    }\n\n    .dataframe tbody tr th {\n        vertical-align: top;\n    }\n\n    .dataframe thead th {\n        text-align: right;\n    }\n</style>\n<table border=\"1\" class=\"dataframe\">\n  <thead>\n    <tr style=\"text-align: right;\">\n      <th></th>\n      <th>label</th>\n      <th>Branch Sinuosity</th>\n      <th>Branch duration and displacement</th>\n      <th>Branch duration and displacement.1</th>\n      <th>Branch N successors</th>\n    </tr>\n  </thead>\n  <tbody>\n    <tr>\n      <th>0</th>\n      <td>1</td>\n      <td>9.896631</td>\n      <td>24.106064</td>\n      <td>282.0</td>\n      <td>2</td>\n    </tr>\n    <tr>\n      <th>1</th>\n      <td>2</td>\n      <td>11.412242</td>\n      <td>12.037811</td>\n      <td>175.0</td>\n      <td>2</td>\n    </tr>\n  </tbody>\n</table>\n</div>"
     },
     "execution_count": 10,
     "metadata": {},
     "output_type": "execute_result"
    }
   ],
   "source": [
    "columns_to_keep = ['label', 'Branch Sinuosity', 'Branch duration and displacement', 'Branch duration and displacement.1', 'Branch N successors']\n",
    "if 'cell_fate' in branch_spot_table.columns:\n",
    "    columns_to_keep.append('cell_fate')\n",
    "branch_spot_table = branch_spot_table[columns_to_keep]\n",
    "branch_spot_table.head(2)\n"
   ]
  },
  {
   "cell_type": "markdown",
   "metadata": {},
   "source": [
    "### Rename columns to have more meaningful names"
   ]
  },
  {
   "cell_type": "code",
   "execution_count": 11,
   "metadata": {
    "collapsed": false,
    "tags": [],
    "ExecuteTime": {
     "end_time": "2023-12-21T16:10:30.767787100Z",
     "start_time": "2023-12-21T16:10:30.740787900Z"
    }
   },
   "outputs": [
    {
     "data": {
      "text/plain": "   label  Branch Sinuosity  Branch displacement  Branch duration  \\\n0      1          9.896631            24.106064            282.0   \n1      2         11.412242            12.037811            175.0   \n\n   Branch N successors  \n0                    2  \n1                    2  ",
      "text/html": "<div>\n<style scoped>\n    .dataframe tbody tr th:only-of-type {\n        vertical-align: middle;\n    }\n\n    .dataframe tbody tr th {\n        vertical-align: top;\n    }\n\n    .dataframe thead th {\n        text-align: right;\n    }\n</style>\n<table border=\"1\" class=\"dataframe\">\n  <thead>\n    <tr style=\"text-align: right;\">\n      <th></th>\n      <th>label</th>\n      <th>Branch Sinuosity</th>\n      <th>Branch displacement</th>\n      <th>Branch duration</th>\n      <th>Branch N successors</th>\n    </tr>\n  </thead>\n  <tbody>\n    <tr>\n      <th>0</th>\n      <td>1</td>\n      <td>9.896631</td>\n      <td>24.106064</td>\n      <td>282.0</td>\n      <td>2</td>\n    </tr>\n    <tr>\n      <th>1</th>\n      <td>2</td>\n      <td>11.412242</td>\n      <td>12.037811</td>\n      <td>175.0</td>\n      <td>2</td>\n    </tr>\n  </tbody>\n</table>\n</div>"
     },
     "execution_count": 11,
     "metadata": {},
     "output_type": "execute_result"
    }
   ],
   "source": [
    "new_columns = {'Branch duration and displacement.1': 'Branch duration', 'Branch duration and displacement': 'Branch displacement', }\n",
    "\n",
    "if 'cell_fate' in branch_spot_table.columns:\n",
    "    new_columns['cell_fate'] = 'Cell fate_CLUSTER_ID'\n",
    "\n",
    "# Rename the columns using the dictionary\n",
    "branch_spot_table.rename(columns=new_columns, inplace=True)\n",
    "branch_spot_table.head(2)"
   ]
  },
  {
   "cell_type": "markdown",
   "metadata": {},
   "source": [
    "### Optionally export measurements to CSV file\n",
    "This can be skipped if the measurements are not needed outside napari."
   ]
  },
  {
   "cell_type": "code",
   "execution_count": 9,
   "metadata": {
    "collapsed": false,
    "tags": [],
    "ExecuteTime": {
     "end_time": "2023-12-20T14:57:12.509903600Z",
     "start_time": "2023-12-20T14:57:12.467892Z"
    }
   },
   "outputs": [],
   "source": [
    "filename = 'measurements_branch_spot.csv'\n",
    "branch_spot_table.to_csv(tables_folder_path + '/' + filename, sep=',', quotechar='\"', index=False)"
   ]
  },
  {
   "cell_type": "markdown",
   "metadata": {},
   "source": [
    "## View in napari\n",
    "* Installation instructions for napari can be found [here](https://biapol.github.io/blog/mara_lampert/getting_started_with_mambaforge_and_python/readme.html)."
   ]
  },
  {
   "cell_type": "markdown",
   "metadata": {},
   "source": [
    "### Read label image\n",
    "The label image is expected to be exported from Mastodon with the following settings:\n",
    "* Label Id: *Branch spot ID*\n",
    "* Frame rate reduction: expected to be the same as the frame reduction factor specified above"
   ]
  },
  {
   "cell_type": "markdown",
   "metadata": {},
   "source": [
    "#### Set path to label image\n",
    "Enter the path to the label image exported from Mastodon here."
   ]
  },
  {
   "cell_type": "code",
   "execution_count": 14,
   "metadata": {
    "collapsed": false,
    "tags": [],
    "ExecuteTime": {
     "end_time": "2023-12-21T16:12:06.979076600Z",
     "start_time": "2023-12-21T16:12:06.946942400Z"
    }
   },
   "outputs": [],
   "source": [
    "label_image_path = ('')"
   ]
  },
  {
   "cell_type": "markdown",
   "metadata": {},
   "source": [
    "#### Read label image from path"
   ]
  },
  {
   "cell_type": "code",
   "execution_count": 15,
   "metadata": {
    "collapsed": false,
    "tags": [],
    "ExecuteTime": {
     "end_time": "2023-12-21T16:12:43.160730600Z",
     "start_time": "2023-12-21T16:12:08.617995200Z"
    }
   },
   "outputs": [],
   "source": [
    "#### Read label image from path\n",
    "label_image_path = Path(label_image_path)\n",
    "label_image = imread(label_image_path)\n"
   ]
  },
  {
   "cell_type": "markdown",
   "metadata": {},
   "source": [
    "#### Optionally print shape of label image to check if everything is ok, order: t, z, y, x"
   ]
  },
  {
   "cell_type": "code",
   "execution_count": 16,
   "metadata": {
    "collapsed": false,
    "tags": [],
    "ExecuteTime": {
     "end_time": "2023-12-21T16:12:43.176733900Z",
     "start_time": "2023-12-21T16:12:43.161698400Z"
    }
   },
   "outputs": [
    {
     "name": "stdout",
     "output_type": "stream",
     "text": [
      "(504, 12, 500, 1024)\n"
     ]
    }
   ],
   "source": [
    "print(label_image.shape)"
   ]
  },
  {
   "cell_type": "markdown",
   "metadata": {},
   "source": [
    "### Optionally read intensity image\n",
    "This will only work, if the intensity image has the same frame reduction rate as the label image."
   ]
  },
  {
   "cell_type": "markdown",
   "metadata": {},
   "source": [
    "#### Optionally Set path to intensity image\n",
    "Enter the path to the intensity image here."
   ]
  },
  {
   "cell_type": "code",
   "execution_count": 35,
   "metadata": {
    "collapsed": false,
    "tags": [],
    "ExecuteTime": {
     "end_time": "2023-12-20T14:14:06.828295300Z",
     "start_time": "2023-12-20T14:14:06.801278100Z"
    }
   },
   "outputs": [],
   "source": [
    "intensity_image_path = ''"
   ]
  },
  {
   "cell_type": "markdown",
   "metadata": {},
   "source": [
    "#### Optionally read intensity image from path"
   ]
  },
  {
   "cell_type": "code",
   "execution_count": 36,
   "metadata": {
    "collapsed": false,
    "tags": [],
    "ExecuteTime": {
     "end_time": "2023-12-20T14:14:08.914566300Z",
     "start_time": "2023-12-20T14:14:08.394481900Z"
    }
   },
   "outputs": [],
   "source": [
    "intensity_image_path = Path(intensity_image_path)\n",
    "intensity_image = imread(intensity_image_path)"
   ]
  },
  {
   "cell_type": "markdown",
   "metadata": {},
   "source": [
    "#### Optionally print shape of intensity image to check if everything is ok. Order: t, z, y, x"
   ]
  },
  {
   "cell_type": "code",
   "execution_count": 37,
   "metadata": {
    "collapsed": false,
    "tags": [],
    "ExecuteTime": {
     "end_time": "2023-12-20T14:14:12.193829200Z",
     "start_time": "2023-12-20T14:14:12.166657600Z"
    }
   },
   "outputs": [
    {
     "name": "stdout",
     "output_type": "stream",
     "text": [
      "(51, 12, 500, 1024)\n"
     ]
    }
   ],
   "source": [
    "print(intensity_image.shape)"
   ]
  },
  {
   "cell_type": "markdown",
   "metadata": {},
   "source": [
    "### Open napari viewer"
   ]
  },
  {
   "cell_type": "code",
   "execution_count": 17,
   "metadata": {
    "tags": [],
    "ExecuteTime": {
     "end_time": "2023-12-21T16:13:01.257062200Z",
     "start_time": "2023-12-21T16:12:43.177731200Z"
    }
   },
   "outputs": [],
   "source": [
    "viewer = napari.Viewer()"
   ]
  },
  {
   "cell_type": "markdown",
   "metadata": {},
   "source": [
    "### Add label image"
   ]
  },
  {
   "cell_type": "code",
   "execution_count": 18,
   "metadata": {
    "tags": [],
    "ExecuteTime": {
     "end_time": "2023-12-21T16:13:01.606061100Z",
     "start_time": "2023-12-21T16:13:01.262062100Z"
    }
   },
   "outputs": [],
   "source": [
    "labels_layer = viewer.add_labels(label_image, features=branch_spot_table)"
   ]
  },
  {
   "cell_type": "markdown",
   "metadata": {},
   "source": [
    "### Set scale of label image\n",
    "Due to bugs both in Mastodon export and in Napari import scale needs to be set manually.\n",
    "Expected order: t, z, y, x"
   ]
  },
  {
   "cell_type": "code",
   "execution_count": 19,
   "metadata": {
    "collapsed": false,
    "tags": [],
    "ExecuteTime": {
     "end_time": "2023-12-21T16:13:01.621060Z",
     "start_time": "2023-12-21T16:13:01.607060Z"
    }
   },
   "outputs": [],
   "source": [
    "labels_layer.scale = (1, 2.48, 0.31196313094933187, 0.31196313094933187)\n",
    "# labels_layer.scale = (1, 2.03, 0.41, 0.41)\n",
    "# set scale in napari terminal\n",
    "# viewer.layers[0].scale = (1, 2.48, 0.31196313094933187, 0.31196313094933187)"
   ]
  },
  {
   "cell_type": "markdown",
   "source": [
    "### Optionally add intensity image\n",
    "This will only work, if the intensity image has the same frame reduction rate as the label image."
   ],
   "metadata": {
    "collapsed": false
   }
  },
  {
   "cell_type": "code",
   "execution_count": null,
   "outputs": [],
   "source": [
    "intensity_layer = viewer.add_image(intensity_image)"
   ],
   "metadata": {
    "collapsed": false
   }
  },
  {
   "cell_type": "markdown",
   "source": [
    "### Optionally set scale of intensity image\n",
    "Due to bugs both in Mastodon export and in Napari import scale needs to be set manually.\n",
    "Expected order: t, z, y, x\n",
    "Should be the same as for the label image."
   ],
   "metadata": {
    "collapsed": false
   }
  },
  {
   "cell_type": "code",
   "execution_count": null,
   "outputs": [],
   "source": [
    "# intensity_layer.scale = (1, 2.48, 0.31196313094933187, 0.31196313094933187)\n",
    "# intensity_layer.scale = (1, 2.03, 0.41, 0.41)"
   ],
   "metadata": {
    "collapsed": false
   }
  },
  {
   "cell_type": "markdown",
   "metadata": {},
   "source": [
    "### Turn on 3D view"
   ]
  },
  {
   "cell_type": "code",
   "execution_count": 20,
   "metadata": {
    "collapsed": false,
    "tags": [],
    "ExecuteTime": {
     "end_time": "2023-12-21T16:13:01.717059800Z",
     "start_time": "2023-12-21T16:13:01.620060900Z"
    }
   },
   "outputs": [],
   "source": [
    "viewer.dims.ndisplay = 3"
   ]
  },
  {
   "cell_type": "markdown",
   "metadata": {},
   "source": [
    "### Load napari-clusters-plotter plugin"
   ]
  },
  {
   "cell_type": "code",
   "execution_count": 21,
   "metadata": {
    "ExecuteTime": {
     "end_time": "2023-12-21T16:13:01.806111600Z",
     "start_time": "2023-12-21T16:13:01.717059800Z"
    }
   },
   "outputs": [
    {
     "data": {
      "text/plain": "(<napari._qt.widgets.qt_viewer_dock_widget.QtViewerDockWidget at 0x206985bcb80>,\n <napari_clusters_plotter._plotter.PlotterWidget at 0x206989ad1f0>)"
     },
     "execution_count": 21,
     "metadata": {},
     "output_type": "execute_result"
    }
   ],
   "source": [
    "viewer.window.add_plugin_dock_widget(plugin_name='napari-clusters-plotter', widget_name='Plotter Widget')\n"
   ]
  },
  {
   "cell_type": "markdown",
   "source": [
    "## You are ready to use the napari-clusters-plotter with the Mastodon data plugin now.\n",
    "Consult the documentation of the napari-clusters-plotter for further instructions, if needed.\n",
    "* https://www.youtube.com/watch?v=qZ8KDrgL1Ro\n",
    "* https://github.com/BiAPoL/napari-clusters-plotter"
   ],
   "metadata": {
    "collapsed": false
   }
  },
  {
   "cell_type": "code",
   "execution_count": null,
   "outputs": [],
   "source": [],
   "metadata": {
    "collapsed": false
   }
  }
 ],
 "metadata": {
  "kernelspec": {
   "display_name": "Python 3 (ipykernel)",
   "language": "python",
   "name": "python3"
  },
  "language_info": {
   "codemirror_mode": {
    "name": "ipython",
    "version": 3
   },
   "file_extension": ".py",
   "mimetype": "text/x-python",
   "name": "python",
   "nbconvert_exporter": "python",
   "pygments_lexer": "ipython3",
   "version": "3.9.18"
  }
 },
 "nbformat": 4,
 "nbformat_minor": 4
}
