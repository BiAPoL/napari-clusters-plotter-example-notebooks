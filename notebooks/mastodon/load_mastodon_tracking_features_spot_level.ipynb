{
 "cells": [
  {
   "cell_type": "markdown",
   "metadata": {},
   "source": [
    "# Load Mastodon tracking data on spot level into Napari to use with Napari Clusters Plotter"
   ]
  },
  {
   "cell_type": "code",
   "execution_count": 1,
   "metadata": {
    "tags": [],
    "ExecuteTime": {
     "end_time": "2023-12-21T16:24:59.837370100Z",
     "start_time": "2023-12-21T16:24:59.179342Z"
    }
   },
   "outputs": [],
   "source": [
    "from pathlib import Path\n",
    "import napari\n",
    "import pandas as pd\n",
    "from skimage.io import imread"
   ]
  },
  {
   "cell_type": "markdown",
   "metadata": {},
   "source": [
    "## Read table from Mastodon"
   ]
  },
  {
   "cell_type": "markdown",
   "metadata": {},
   "source": [
    "#### Set path to tables\n",
    "Enter the path to the table here. Within that folder, there should be one table:\n",
    "* Spot.csv"
   ]
  },
  {
   "cell_type": "code",
   "execution_count": 2,
   "metadata": {
    "collapsed": false,
    "tags": [],
    "ExecuteTime": {
     "end_time": "2023-12-21T16:25:26.647880100Z",
     "start_time": "2023-12-21T16:25:26.623609600Z"
    }
   },
   "outputs": [],
   "source": [
    "tables_folder_path = ''"
   ]
  },
  {
   "cell_type": "markdown",
   "metadata": {},
   "source": [
    "#### Read tables from path\n",
    "Rows with NaN values are removed."
   ]
  },
  {
   "cell_type": "code",
   "execution_count": 3,
   "metadata": {
    "tags": [],
    "ExecuteTime": {
     "end_time": "2023-12-21T16:25:29.376261700Z",
     "start_time": "2023-12-21T16:25:28.587263700Z"
    }
   },
   "outputs": [],
   "source": [
    "spot_table_path = Path(tables_folder_path + '/Spot.csv')\n",
    "spot_table = pd.read_csv(spot_table_path, skiprows=[1,2], low_memory=False)\n",
    "# remove rows with NaN values\n",
    "spot_table = spot_table.dropna()\n"
   ]
  },
  {
   "cell_type": "markdown",
   "source": [
    "#### Optionally print head of spot table to check if everything is ok"
   ],
   "metadata": {
    "collapsed": false
   }
  },
  {
   "cell_type": "code",
   "execution_count": 4,
   "outputs": [
    {
     "data": {
      "text/plain": "   Label  ID  Branch spot ID  Spot N links  Spot center intensity  \\\n0      0   0               0             1            9383.390024   \n1      1   1               1             1           17989.550381   \n\n   Spot ellipsoid aspect ratios  Spot ellipsoid aspect ratios.1  \\\n0                      0.787986                        0.716351   \n1                      0.787986                        0.751315   \n\n   Spot ellipsoid aspect ratios.2  Spot ellipsoid properties  \\\n0                        0.909091                   4.447973   \n1                        0.953463                   3.504939   \n\n   Spot ellipsoid properties.1  ...  Detection.6  Division  Division.1  \\\n0                     5.644739  ...            0         0           0   \n1                     4.447973  ...            0         0           0   \n\n   Division.2  Proliferator  Proliferator.1  Proliferator.2  Status  Tracking  \\\n0           0             1               0               0       1         1   \n1           0             1               0               0       1         1   \n\n   Tracking.1  \n0           0  \n1           0  \n\n[2 rows x 42 columns]",
      "text/html": "<div>\n<style scoped>\n    .dataframe tbody tr th:only-of-type {\n        vertical-align: middle;\n    }\n\n    .dataframe tbody tr th {\n        vertical-align: top;\n    }\n\n    .dataframe thead th {\n        text-align: right;\n    }\n</style>\n<table border=\"1\" class=\"dataframe\">\n  <thead>\n    <tr style=\"text-align: right;\">\n      <th></th>\n      <th>Label</th>\n      <th>ID</th>\n      <th>Branch spot ID</th>\n      <th>Spot N links</th>\n      <th>Spot center intensity</th>\n      <th>Spot ellipsoid aspect ratios</th>\n      <th>Spot ellipsoid aspect ratios.1</th>\n      <th>Spot ellipsoid aspect ratios.2</th>\n      <th>Spot ellipsoid properties</th>\n      <th>Spot ellipsoid properties.1</th>\n      <th>...</th>\n      <th>Detection.6</th>\n      <th>Division</th>\n      <th>Division.1</th>\n      <th>Division.2</th>\n      <th>Proliferator</th>\n      <th>Proliferator.1</th>\n      <th>Proliferator.2</th>\n      <th>Status</th>\n      <th>Tracking</th>\n      <th>Tracking.1</th>\n    </tr>\n  </thead>\n  <tbody>\n    <tr>\n      <th>0</th>\n      <td>0</td>\n      <td>0</td>\n      <td>0</td>\n      <td>1</td>\n      <td>9383.390024</td>\n      <td>0.787986</td>\n      <td>0.716351</td>\n      <td>0.909091</td>\n      <td>4.447973</td>\n      <td>5.644739</td>\n      <td>...</td>\n      <td>0</td>\n      <td>0</td>\n      <td>0</td>\n      <td>0</td>\n      <td>1</td>\n      <td>0</td>\n      <td>0</td>\n      <td>1</td>\n      <td>1</td>\n      <td>0</td>\n    </tr>\n    <tr>\n      <th>1</th>\n      <td>1</td>\n      <td>1</td>\n      <td>1</td>\n      <td>1</td>\n      <td>17989.550381</td>\n      <td>0.787986</td>\n      <td>0.751315</td>\n      <td>0.953463</td>\n      <td>3.504939</td>\n      <td>4.447973</td>\n      <td>...</td>\n      <td>0</td>\n      <td>0</td>\n      <td>0</td>\n      <td>0</td>\n      <td>1</td>\n      <td>0</td>\n      <td>0</td>\n      <td>1</td>\n      <td>1</td>\n      <td>0</td>\n    </tr>\n  </tbody>\n</table>\n<p>2 rows × 42 columns</p>\n</div>"
     },
     "execution_count": 4,
     "metadata": {},
     "output_type": "execute_result"
    }
   ],
   "source": [
    "spot_table.head(2)"
   ],
   "metadata": {
    "collapsed": false,
    "ExecuteTime": {
     "end_time": "2023-12-21T16:25:30.361308600Z",
     "start_time": "2023-12-21T16:25:30.323199400Z"
    }
   }
  },
  {
   "cell_type": "markdown",
   "metadata": {},
   "source": [
    "#### Specify frame reduction factor\n",
    "The frame reduction factor is the factor by which the frame rate has been reduced in Mastodon. This is necessary to account for the fact that the label image has been exported with a reduced frame rate, while the spot table has been exported with the original frame rate.\n",
    "Specify here the same factor that has been used when exporting the label image from Mastodon"
   ]
  },
  {
   "cell_type": "code",
   "execution_count": 5,
   "metadata": {
    "collapsed": false,
    "tags": [],
    "ExecuteTime": {
     "end_time": "2023-12-21T16:25:31.787983300Z",
     "start_time": "2023-12-21T16:25:31.762965600Z"
    }
   },
   "outputs": [],
   "source": [
    "frame_reduction_factor = 1"
   ]
  },
  {
   "cell_type": "code",
   "execution_count": 6,
   "metadata": {
    "collapsed": false,
    "tags": [],
    "ExecuteTime": {
     "end_time": "2023-12-21T16:25:33.704134700Z",
     "start_time": "2023-12-21T16:25:33.661116900Z"
    }
   },
   "outputs": [],
   "source": [
    "spot_table = spot_table[spot_table['Spot frame'] % frame_reduction_factor == 0]\n",
    "spot_table['Spot frame'] = spot_table['Spot frame'] / frame_reduction_factor\n",
    "spot_table['Spot frame'] = spot_table['Spot frame'].astype(int)"
   ]
  },
  {
   "cell_type": "markdown",
   "metadata": {},
   "source": [
    "#### Optionally print head of spot table to check if everything is ok"
   ]
  },
  {
   "cell_type": "code",
   "execution_count": 7,
   "metadata": {
    "tags": [],
    "ExecuteTime": {
     "end_time": "2023-12-21T16:25:35.137941500Z",
     "start_time": "2023-12-21T16:25:35.096942600Z"
    }
   },
   "outputs": [
    {
     "data": {
      "text/plain": "   Label  ID  Branch spot ID  Spot N links  Spot center intensity  \\\n0      0   0               0             1            9383.390024   \n1      1   1               1             1           17989.550381   \n\n   Spot ellipsoid aspect ratios  Spot ellipsoid aspect ratios.1  \\\n0                      0.787986                        0.716351   \n1                      0.787986                        0.751315   \n\n   Spot ellipsoid aspect ratios.2  Spot ellipsoid properties  \\\n0                        0.909091                   4.447973   \n1                        0.953463                   3.504939   \n\n   Spot ellipsoid properties.1  ...  Detection.6  Division  Division.1  \\\n0                     5.644739  ...            0         0           0   \n1                     4.447973  ...            0         0           0   \n\n   Division.2  Proliferator  Proliferator.1  Proliferator.2  Status  Tracking  \\\n0           0             1               0               0       1         1   \n1           0             1               0               0       1         1   \n\n   Tracking.1  \n0           0  \n1           0  \n\n[2 rows x 42 columns]",
      "text/html": "<div>\n<style scoped>\n    .dataframe tbody tr th:only-of-type {\n        vertical-align: middle;\n    }\n\n    .dataframe tbody tr th {\n        vertical-align: top;\n    }\n\n    .dataframe thead th {\n        text-align: right;\n    }\n</style>\n<table border=\"1\" class=\"dataframe\">\n  <thead>\n    <tr style=\"text-align: right;\">\n      <th></th>\n      <th>Label</th>\n      <th>ID</th>\n      <th>Branch spot ID</th>\n      <th>Spot N links</th>\n      <th>Spot center intensity</th>\n      <th>Spot ellipsoid aspect ratios</th>\n      <th>Spot ellipsoid aspect ratios.1</th>\n      <th>Spot ellipsoid aspect ratios.2</th>\n      <th>Spot ellipsoid properties</th>\n      <th>Spot ellipsoid properties.1</th>\n      <th>...</th>\n      <th>Detection.6</th>\n      <th>Division</th>\n      <th>Division.1</th>\n      <th>Division.2</th>\n      <th>Proliferator</th>\n      <th>Proliferator.1</th>\n      <th>Proliferator.2</th>\n      <th>Status</th>\n      <th>Tracking</th>\n      <th>Tracking.1</th>\n    </tr>\n  </thead>\n  <tbody>\n    <tr>\n      <th>0</th>\n      <td>0</td>\n      <td>0</td>\n      <td>0</td>\n      <td>1</td>\n      <td>9383.390024</td>\n      <td>0.787986</td>\n      <td>0.716351</td>\n      <td>0.909091</td>\n      <td>4.447973</td>\n      <td>5.644739</td>\n      <td>...</td>\n      <td>0</td>\n      <td>0</td>\n      <td>0</td>\n      <td>0</td>\n      <td>1</td>\n      <td>0</td>\n      <td>0</td>\n      <td>1</td>\n      <td>1</td>\n      <td>0</td>\n    </tr>\n    <tr>\n      <th>1</th>\n      <td>1</td>\n      <td>1</td>\n      <td>1</td>\n      <td>1</td>\n      <td>17989.550381</td>\n      <td>0.787986</td>\n      <td>0.751315</td>\n      <td>0.953463</td>\n      <td>3.504939</td>\n      <td>4.447973</td>\n      <td>...</td>\n      <td>0</td>\n      <td>0</td>\n      <td>0</td>\n      <td>0</td>\n      <td>1</td>\n      <td>0</td>\n      <td>0</td>\n      <td>1</td>\n      <td>1</td>\n      <td>0</td>\n    </tr>\n  </tbody>\n</table>\n<p>2 rows × 42 columns</p>\n</div>"
     },
     "execution_count": 7,
     "metadata": {},
     "output_type": "execute_result"
    }
   ],
   "source": [
    "spot_table.head(2)"
   ]
  },
  {
   "cell_type": "markdown",
   "metadata": {},
   "source": [
    "## Change table to match napari-clusters-plotter standards\n",
    "Mastodon 'label' column needs to be removed from the table and replaced with a new column 'label' that contains the spot ID.\n",
    "The spot ID is the Mastodon ID + 1. This is necessary, since the ellipsoid label image starts with 1, while the Mastodon ID starts at 0."
   ]
  },
  {
   "cell_type": "code",
   "execution_count": 8,
   "metadata": {
    "tags": [],
    "ExecuteTime": {
     "end_time": "2023-12-21T16:25:37.088897900Z",
     "start_time": "2023-12-21T16:25:37.046883300Z"
    }
   },
   "outputs": [],
   "source": [
    "# Remove Label column from Mastodon tables\n",
    "spot_table = spot_table.drop(columns=['Label'])\n",
    "\n",
    "# Add frame and label column to spot table\n",
    "spot_table['frame'] = spot_table['Spot frame'].astype(int)\n",
    "spot_table['label'] = spot_table['ID'].astype(int) + 1 # Turning branch spot ids into labels, NB: + 1 needs to be added, since the ids are counted one based in the respective Mastodon export plugin\n",
    "\n"
   ]
  },
  {
   "cell_type": "markdown",
   "metadata": {},
   "source": [
    "\n",
    "### Currently available Spot features: \n",
    "* Spot center intensity\n",
    "* Spot ellipsoid aspect ratios (a_b)\n",
    "* Spot ellipsoid aspect ratios.1 (a_c)\n",
    "* Spot ellipsoid aspect ratios.2 (b_c)\n",
    "* Spot ellipsoid properties (a)\n",
    "* Spot ellipsoid properties.1 (b)\n",
    "* Spot ellipsoid properties.2 (c)\n",
    "* Spot ellipsoid properties.3 (v)\n",
    "* Spot frame (frame)\n",
    "* Spot intensity (mean)\n",
    "* Spot intensity.1 (std)\n",
    "* Spot intensity.2 (min)\n",
    "* Spot intensity.3 (max)\n",
    "* Spot intensity.4 (median)\n",
    "* Spot intensity.5 (sum)"
   ]
  },
  {
   "cell_type": "markdown",
   "source": [
    "### Optional: create a cell fate column \n",
    "This is only useful, if the cell fate has been annotated in Mastodon."
   ],
   "metadata": {
    "collapsed": false
   }
  },
  {
   "cell_type": "code",
   "execution_count": 33,
   "outputs": [],
   "source": [
    "# Define a function to determine the combined value\n",
    "def cell_fate_values_to_label(row):\n",
    "    if row['cell_fate_spot']:\n",
    "        return 1\n",
    "    elif row['cell_fate.1_spot']:\n",
    "        return 2\n",
    "    elif row['cell_fate.2_spot']:\n",
    "        return 3\n",
    "    elif row['cell_fate.3_spot']:\n",
    "        return 4\n",
    "    elif row['cell_fate.4_spot']:\n",
    "        return 5\n",
    "    elif row['cell_fate.5_spot']:\n",
    "        return 6\n",
    "    elif row['cell_fate.6_spot']:\n",
    "        return 7\n",
    "    elif row['cell_fate.7_spot']:\n",
    "        return 8\n",
    "    elif row['cell_fate.8_spot']:\n",
    "        return 9\n",
    "    elif row['cell_fate.9_spot']:\n",
    "        return 10\n",
    "    elif row['cell_fate.10_spot']:\n",
    "        return 11\n",
    "    elif row['cell_fate.11_spot']:\n",
    "        return 12\n",
    "    elif row['cell_fate.12_spot']:\n",
    "        return 13\n",
    "    else:\n",
    "        return 0 \n",
    "\n",
    "# create a new column 13 different cell fates\n",
    "spot_table['cell_fate'] = spot_table.apply(cell_fate_values_to_label, axis=1)"
   ],
   "metadata": {
    "collapsed": false,
    "ExecuteTime": {
     "end_time": "2023-12-08T17:10:45.036603100Z",
     "start_time": "2023-12-08T17:10:45.023602800Z"
    }
   }
  },
  {
   "cell_type": "markdown",
   "metadata": {},
   "source": [
    "### Remove unnecessary columns to save some RAM"
   ]
  },
  {
   "cell_type": "code",
   "execution_count": 9,
   "metadata": {
    "collapsed": false,
    "tags": [],
    "ExecuteTime": {
     "end_time": "2023-12-21T16:26:18.006107Z",
     "start_time": "2023-12-21T16:26:17.974159200Z"
    }
   },
   "outputs": [
    {
     "data": {
      "text/plain": "   label  frame  Spot center intensity  Spot ellipsoid aspect ratios  \\\n0      1      0            9383.390024                      0.787986   \n1      2      0           17989.550381                      0.787986   \n\n   Spot ellipsoid aspect ratios.1  Spot ellipsoid aspect ratios.2  \\\n0                        0.716351                        0.909091   \n1                        0.751315                        0.953463   \n\n   Spot ellipsoid properties  Spot ellipsoid properties.1  \\\n0                   4.447973                     5.644739   \n1                   3.504939                     4.447973   \n\n   Spot ellipsoid properties.2  Spot ellipsoid properties.3  Spot intensity  \\\n0                     6.209213                   653.027167     6160.017008   \n1                     4.665074                   304.641993    12999.179864   \n\n   Spot intensity.1  Spot intensity.2  Spot intensity.3  Spot intensity.4  \\\n0       5355.923150               0.0           29414.0            4624.0   \n1       8417.191977              48.0           46523.0           11171.0   \n\n   Spot intensity.5  \n0        21369099.0  \n1        22982550.0  ",
      "text/html": "<div>\n<style scoped>\n    .dataframe tbody tr th:only-of-type {\n        vertical-align: middle;\n    }\n\n    .dataframe tbody tr th {\n        vertical-align: top;\n    }\n\n    .dataframe thead th {\n        text-align: right;\n    }\n</style>\n<table border=\"1\" class=\"dataframe\">\n  <thead>\n    <tr style=\"text-align: right;\">\n      <th></th>\n      <th>label</th>\n      <th>frame</th>\n      <th>Spot center intensity</th>\n      <th>Spot ellipsoid aspect ratios</th>\n      <th>Spot ellipsoid aspect ratios.1</th>\n      <th>Spot ellipsoid aspect ratios.2</th>\n      <th>Spot ellipsoid properties</th>\n      <th>Spot ellipsoid properties.1</th>\n      <th>Spot ellipsoid properties.2</th>\n      <th>Spot ellipsoid properties.3</th>\n      <th>Spot intensity</th>\n      <th>Spot intensity.1</th>\n      <th>Spot intensity.2</th>\n      <th>Spot intensity.3</th>\n      <th>Spot intensity.4</th>\n      <th>Spot intensity.5</th>\n    </tr>\n  </thead>\n  <tbody>\n    <tr>\n      <th>0</th>\n      <td>1</td>\n      <td>0</td>\n      <td>9383.390024</td>\n      <td>0.787986</td>\n      <td>0.716351</td>\n      <td>0.909091</td>\n      <td>4.447973</td>\n      <td>5.644739</td>\n      <td>6.209213</td>\n      <td>653.027167</td>\n      <td>6160.017008</td>\n      <td>5355.923150</td>\n      <td>0.0</td>\n      <td>29414.0</td>\n      <td>4624.0</td>\n      <td>21369099.0</td>\n    </tr>\n    <tr>\n      <th>1</th>\n      <td>2</td>\n      <td>0</td>\n      <td>17989.550381</td>\n      <td>0.787986</td>\n      <td>0.751315</td>\n      <td>0.953463</td>\n      <td>3.504939</td>\n      <td>4.447973</td>\n      <td>4.665074</td>\n      <td>304.641993</td>\n      <td>12999.179864</td>\n      <td>8417.191977</td>\n      <td>48.0</td>\n      <td>46523.0</td>\n      <td>11171.0</td>\n      <td>22982550.0</td>\n    </tr>\n  </tbody>\n</table>\n</div>"
     },
     "execution_count": 9,
     "metadata": {},
     "output_type": "execute_result"
    }
   ],
   "source": [
    "columns_to_keep = ['label', 'frame', 'Spot center intensity', 'Spot ellipsoid aspect ratios', 'Spot ellipsoid aspect ratios.1', 'Spot ellipsoid aspect ratios.2', 'Spot ellipsoid properties', 'Spot ellipsoid properties.1', 'Spot ellipsoid properties.2', 'Spot ellipsoid properties.3', 'Spot intensity', 'Spot intensity.1', 'Spot intensity.2', 'Spot intensity.3', 'Spot intensity.4', 'Spot intensity.5']\n",
    "if 'cell_fate' in spot_table.columns:\n",
    "    columns_to_keep.append('cell_fate')\n",
    "spot_table = spot_table[columns_to_keep]\n",
    "spot_table.head(2)\n"
   ]
  },
  {
   "cell_type": "markdown",
   "metadata": {},
   "source": [
    "### Rename columns to have more meaningful names"
   ]
  },
  {
   "cell_type": "code",
   "execution_count": 10,
   "metadata": {
    "collapsed": false,
    "tags": [],
    "ExecuteTime": {
     "end_time": "2023-12-21T16:26:19.373103Z",
     "start_time": "2023-12-21T16:26:19.347150600Z"
    }
   },
   "outputs": [
    {
     "data": {
      "text/plain": "   label  frame  Spot center intensity  Spot ellipsoid aspect ratio a_b  \\\n0      1      0            9383.390024                         0.787986   \n1      2      0           17989.550381                         0.787986   \n\n   Spot ellipsoid aspect ratio a_c  Spot ellipsoid aspect ratio b_c  \\\n0                         0.716351                         0.909091   \n1                         0.751315                         0.953463   \n\n   Spot ellipsoid a  Spot ellipsoid b  Spot ellipsoid c  Spot ellipsoid v  \\\n0          4.447973          5.644739          6.209213        653.027167   \n1          3.504939          4.447973          4.665074        304.641993   \n\n   Spot intensity (mean)  Spot intensity (std)  Spot intensity (min)  \\\n0            6160.017008           5355.923150                   0.0   \n1           12999.179864           8417.191977                  48.0   \n\n   Spot intensity (max)  Spot intensity (median)  Spot intensity (sum)  \n0               29414.0                   4624.0            21369099.0  \n1               46523.0                  11171.0            22982550.0  ",
      "text/html": "<div>\n<style scoped>\n    .dataframe tbody tr th:only-of-type {\n        vertical-align: middle;\n    }\n\n    .dataframe tbody tr th {\n        vertical-align: top;\n    }\n\n    .dataframe thead th {\n        text-align: right;\n    }\n</style>\n<table border=\"1\" class=\"dataframe\">\n  <thead>\n    <tr style=\"text-align: right;\">\n      <th></th>\n      <th>label</th>\n      <th>frame</th>\n      <th>Spot center intensity</th>\n      <th>Spot ellipsoid aspect ratio a_b</th>\n      <th>Spot ellipsoid aspect ratio a_c</th>\n      <th>Spot ellipsoid aspect ratio b_c</th>\n      <th>Spot ellipsoid a</th>\n      <th>Spot ellipsoid b</th>\n      <th>Spot ellipsoid c</th>\n      <th>Spot ellipsoid v</th>\n      <th>Spot intensity (mean)</th>\n      <th>Spot intensity (std)</th>\n      <th>Spot intensity (min)</th>\n      <th>Spot intensity (max)</th>\n      <th>Spot intensity (median)</th>\n      <th>Spot intensity (sum)</th>\n    </tr>\n  </thead>\n  <tbody>\n    <tr>\n      <th>0</th>\n      <td>1</td>\n      <td>0</td>\n      <td>9383.390024</td>\n      <td>0.787986</td>\n      <td>0.716351</td>\n      <td>0.909091</td>\n      <td>4.447973</td>\n      <td>5.644739</td>\n      <td>6.209213</td>\n      <td>653.027167</td>\n      <td>6160.017008</td>\n      <td>5355.923150</td>\n      <td>0.0</td>\n      <td>29414.0</td>\n      <td>4624.0</td>\n      <td>21369099.0</td>\n    </tr>\n    <tr>\n      <th>1</th>\n      <td>2</td>\n      <td>0</td>\n      <td>17989.550381</td>\n      <td>0.787986</td>\n      <td>0.751315</td>\n      <td>0.953463</td>\n      <td>3.504939</td>\n      <td>4.447973</td>\n      <td>4.665074</td>\n      <td>304.641993</td>\n      <td>12999.179864</td>\n      <td>8417.191977</td>\n      <td>48.0</td>\n      <td>46523.0</td>\n      <td>11171.0</td>\n      <td>22982550.0</td>\n    </tr>\n  </tbody>\n</table>\n</div>"
     },
     "execution_count": 10,
     "metadata": {},
     "output_type": "execute_result"
    }
   ],
   "source": [
    "new_columns = {'Spot ellipsoid aspect ratios': 'Spot ellipsoid aspect ratio a_b', 'Spot ellipsoid aspect ratios.1': 'Spot ellipsoid aspect ratio a_c', 'Spot ellipsoid aspect ratios.2': 'Spot ellipsoid aspect ratio b_c', 'Spot ellipsoid properties': 'Spot ellipsoid a', 'Spot ellipsoid properties.1': 'Spot ellipsoid b', 'Spot ellipsoid properties.2': 'Spot ellipsoid c', 'Spot ellipsoid properties.3': 'Spot ellipsoid v', 'Spot intensity' : 'Spot intensity (mean)', 'Spot intensity.1' : 'Spot intensity (std)', 'Spot intensity.2' : 'Spot intensity (min)', 'Spot intensity.3' : 'Spot intensity (max)', 'Spot intensity.4' : 'Spot intensity (median)', 'Spot intensity.5' : 'Spot intensity (sum)'}\n",
    "\n",
    "if 'cell_fate' in spot_table.columns:\n",
    "    new_columns['cell_fate'] = 'Cell fate_CLUSTER_ID'\n",
    "\n",
    "# Rename the columns using the dictionary\n",
    "spot_table.rename(columns=new_columns, inplace=True)\n",
    "spot_table.head(2)"
   ]
  },
  {
   "cell_type": "markdown",
   "metadata": {},
   "source": [
    "### Optionally export measurements to CSV file\n",
    "This can be skipped if the measurements are not needed outside napari."
   ]
  },
  {
   "cell_type": "code",
   "execution_count": 11,
   "metadata": {
    "collapsed": false,
    "tags": [],
    "ExecuteTime": {
     "end_time": "2023-12-20T15:10:36.192897800Z",
     "start_time": "2023-12-20T15:10:34.030820100Z"
    }
   },
   "outputs": [],
   "source": [
    "spot_table.to_csv(tables_folder_path + '/' + 'measurements_spot_' + str(frame_reduction_factor) + '.csv', sep=',', quotechar='\"', index=False)"
   ]
  },
  {
   "cell_type": "markdown",
   "metadata": {},
   "source": [
    "## View in napari\n",
    "* Installation instructions for napari can be found [here](https://biapol.github.io/blog/mara_lampert/getting_started_with_mambaforge_and_python/readme.html)."
   ]
  },
  {
   "cell_type": "markdown",
   "metadata": {},
   "source": [
    "### Read label image\n",
    "The label image is expected to be exported from Mastodon with the following settings:\n",
    "* Label Id: *Spot ID*\n",
    "* Frame rate reduction: expected to be the same as the frame reduction factor specified above"
   ]
  },
  {
   "cell_type": "markdown",
   "metadata": {},
   "source": [
    "#### Set path to label image\n",
    "Enter the path to the label image here."
   ]
  },
  {
   "cell_type": "code",
   "execution_count": 11,
   "metadata": {
    "collapsed": false,
    "tags": [],
    "ExecuteTime": {
     "end_time": "2023-12-21T16:26:58.227460100Z",
     "start_time": "2023-12-21T16:26:58.198424500Z"
    }
   },
   "outputs": [],
   "source": [
    "label_image_path = ''"
   ]
  },
  {
   "cell_type": "markdown",
   "metadata": {},
   "source": [
    "#### Read label image from path"
   ]
  },
  {
   "cell_type": "code",
   "execution_count": 12,
   "metadata": {
    "collapsed": false,
    "tags": [],
    "ExecuteTime": {
     "end_time": "2023-12-21T16:27:34.500244600Z",
     "start_time": "2023-12-21T16:26:59.399846Z"
    }
   },
   "outputs": [],
   "source": [
    "#### Read label image from path\n",
    "label_image_path = Path(label_image_path)\n",
    "label_image = imread(label_image_path)"
   ]
  },
  {
   "cell_type": "markdown",
   "metadata": {},
   "source": [
    "#### Optionally print shape of label image to check if everything is ok, order: t, z, y, x"
   ]
  },
  {
   "cell_type": "code",
   "execution_count": 13,
   "metadata": {
    "collapsed": false,
    "tags": [],
    "ExecuteTime": {
     "end_time": "2023-12-21T16:27:34.516244400Z",
     "start_time": "2023-12-21T16:27:34.503243300Z"
    }
   },
   "outputs": [
    {
     "name": "stdout",
     "output_type": "stream",
     "text": [
      "(504, 12, 500, 1024)\n"
     ]
    }
   ],
   "source": [
    "print(label_image.shape)"
   ]
  },
  {
   "cell_type": "markdown",
   "metadata": {},
   "source": [
    "### Optionally read intensity image\n",
    "This will only work with no frame reduction"
   ]
  },
  {
   "cell_type": "markdown",
   "metadata": {},
   "source": [
    "#### Optionally set path to intensity image\n",
    "Enter the path to the intensity image here."
   ]
  },
  {
   "cell_type": "code",
   "execution_count": 40,
   "metadata": {
    "collapsed": false,
    "tags": [],
    "ExecuteTime": {
     "end_time": "2023-12-08T17:11:55.888480Z",
     "start_time": "2023-12-08T17:11:55.846519300Z"
    }
   },
   "outputs": [],
   "source": [
    "intensity_image_path = ''"
   ]
  },
  {
   "cell_type": "markdown",
   "metadata": {},
   "source": [
    "#### Optionally read intensity image from path"
   ]
  },
  {
   "cell_type": "code",
   "execution_count": 41,
   "metadata": {
    "collapsed": false,
    "tags": [],
    "ExecuteTime": {
     "end_time": "2023-12-08T17:12:10.603608500Z",
     "start_time": "2023-12-08T17:11:55.864481400Z"
    }
   },
   "outputs": [],
   "source": [
    "intensity_image_path = Path(intensity_image_path)\n",
    "intensity_image = imread(intensity_image_path)"
   ]
  },
  {
   "cell_type": "markdown",
   "metadata": {},
   "source": [
    "#### Optionally print shape of intensity image to check if everything is ok. Order: t, z, y, x"
   ]
  },
  {
   "cell_type": "code",
   "execution_count": 42,
   "metadata": {
    "collapsed": false,
    "tags": [],
    "ExecuteTime": {
     "end_time": "2023-12-08T17:12:10.662558500Z",
     "start_time": "2023-12-08T17:12:10.641558200Z"
    }
   },
   "outputs": [
    {
     "name": "stdout",
     "output_type": "stream",
     "text": [
      "(504, 12, 500, 1024)\n"
     ]
    }
   ],
   "source": [
    "print(intensity_image.shape)"
   ]
  },
  {
   "cell_type": "markdown",
   "metadata": {},
   "source": [
    "### Open napari viewer"
   ]
  },
  {
   "cell_type": "code",
   "execution_count": 14,
   "metadata": {
    "tags": [],
    "ExecuteTime": {
     "end_time": "2023-12-21T16:27:40.894986500Z",
     "start_time": "2023-12-21T16:27:34.518244200Z"
    }
   },
   "outputs": [],
   "source": [
    "viewer = napari.Viewer()"
   ]
  },
  {
   "cell_type": "markdown",
   "metadata": {},
   "source": [
    "### Add label image"
   ]
  },
  {
   "cell_type": "code",
   "execution_count": 15,
   "metadata": {
    "tags": [],
    "ExecuteTime": {
     "end_time": "2023-12-21T16:27:41.217951700Z",
     "start_time": "2023-12-21T16:27:40.895952Z"
    }
   },
   "outputs": [],
   "source": [
    "labels_layer = viewer.add_labels(label_image, features=spot_table)"
   ]
  },
  {
   "cell_type": "markdown",
   "metadata": {},
   "source": [
    "### Set scale of label image\n",
    "Due to bugs both in Mastodon export and in Napari import scale needs to be set manually.\n",
    "Expected order: t, z, y, x"
   ]
  },
  {
   "cell_type": "code",
   "execution_count": 16,
   "metadata": {
    "collapsed": false,
    "tags": [],
    "ExecuteTime": {
     "end_time": "2023-12-21T16:27:41.230950200Z",
     "start_time": "2023-12-21T16:27:41.218949800Z"
    }
   },
   "outputs": [],
   "source": [
    "# labels_layer.scale = (1, 2.48, 0.31196313094933187, 0.31196313094933187)\n",
    "# labels_layer.scale = (1, 2.03, 0.41, 0.41)\n",
    "# set scale in napari terminal\n",
    "# viewer.layers[0].scale = (1, 2.48, 0.31196313094933187, 0.31196313094933187)"
   ]
  },
  {
   "cell_type": "markdown",
   "source": [
    "### Optionally add intensity image\n",
    "This will only work, if the intensity image has the same frame reduction rate as the label image."
   ],
   "metadata": {
    "collapsed": false
   }
  },
  {
   "cell_type": "code",
   "execution_count": null,
   "outputs": [],
   "source": [
    "intensity_layer = viewer.add_image(intensity_image)"
   ],
   "metadata": {
    "collapsed": false
   }
  },
  {
   "cell_type": "markdown",
   "source": [
    "### Optionally Set scale of intensity image\n",
    "Due to bugs both in Mastodon export and in Napari import scale needs to be set manually.\n",
    "Expected order: t, z, y, x\n",
    "Should be the same as for the label image."
   ],
   "metadata": {
    "collapsed": false
   }
  },
  {
   "cell_type": "code",
   "execution_count": 17,
   "outputs": [],
   "source": [
    "# intensity_layer.scale = (1, 2.48, 0.31196313094933187, 0.31196313094933187)\n",
    "# intensity_layer.scale = (1, 2.03, 0.41, 0.41)"
   ],
   "metadata": {
    "collapsed": false,
    "ExecuteTime": {
     "end_time": "2023-12-21T16:27:41.237950900Z",
     "start_time": "2023-12-21T16:27:41.231951200Z"
    }
   }
  },
  {
   "cell_type": "markdown",
   "metadata": {},
   "source": [
    "### Turn on 3D view"
   ]
  },
  {
   "cell_type": "code",
   "execution_count": 18,
   "metadata": {
    "collapsed": false,
    "tags": [],
    "ExecuteTime": {
     "end_time": "2023-12-21T16:27:41.328949400Z",
     "start_time": "2023-12-21T16:27:41.236950200Z"
    }
   },
   "outputs": [],
   "source": [
    "viewer.dims.ndisplay = 3"
   ]
  },
  {
   "cell_type": "markdown",
   "metadata": {},
   "source": [
    "### Load napari-clusters-plotter plugin"
   ]
  },
  {
   "cell_type": "code",
   "execution_count": 19,
   "metadata": {
    "ExecuteTime": {
     "end_time": "2023-12-21T16:27:41.412017100Z",
     "start_time": "2023-12-21T16:27:41.330949700Z"
    }
   },
   "outputs": [
    {
     "data": {
      "text/plain": "(<napari._qt.widgets.qt_viewer_dock_widget.QtViewerDockWidget at 0x27bd2e3eb80>,\n <napari_clusters_plotter._plotter.PlotterWidget at 0x27be2af9b80>)"
     },
     "execution_count": 19,
     "metadata": {},
     "output_type": "execute_result"
    }
   ],
   "source": [
    "viewer.window.add_plugin_dock_widget(plugin_name='napari-clusters-plotter', widget_name='Plotter Widget')\n"
   ]
  },
  {
   "cell_type": "code",
   "execution_count": null,
   "outputs": [],
   "source": [],
   "metadata": {
    "collapsed": false
   }
  }
 ],
 "metadata": {
  "kernelspec": {
   "display_name": "Python 3 (ipykernel)",
   "language": "python",
   "name": "python3"
  },
  "language_info": {
   "codemirror_mode": {
    "name": "ipython",
    "version": 3
   },
   "file_extension": ".py",
   "mimetype": "text/x-python",
   "name": "python",
   "nbconvert_exporter": "python",
   "pygments_lexer": "ipython3",
   "version": "3.9.18"
  }
 },
 "nbformat": 4,
 "nbformat_minor": 4
}
