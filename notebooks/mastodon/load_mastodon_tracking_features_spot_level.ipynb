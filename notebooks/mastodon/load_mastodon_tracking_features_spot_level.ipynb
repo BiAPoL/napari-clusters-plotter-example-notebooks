{
 "cells": [
  {
   "cell_type": "markdown",
   "metadata": {},
   "source": [
    "# Load Mastodon tracking data on spot level into Napari to use with Napari Clusters Plotter"
   ]
  },
  {
   "cell_type": "code",
   "execution_count": 1,
   "metadata": {
    "tags": [],
    "ExecuteTime": {
     "end_time": "2024-05-02T09:53:03.666208Z",
     "start_time": "2024-05-02T09:53:00.081384Z"
    }
   },
   "outputs": [],
   "source": [
    "from pathlib import Path\n",
    "import napari\n",
    "import pandas as pd\n",
    "from skimage.io import imread"
   ]
  },
  {
   "cell_type": "markdown",
   "source": [
    "## Prerequisites\n",
    "Before running this notebook, the following steps need to be performed:\n",
    "* Due to a bug in Napari clusters plotter handling tracking data, it may be required to install the latest version of Napari clusters plotter:\n",
    "```\n",
    "mamba activate devbio-napari\n",
    "pip install git+https://github.com/BiAPoL/napari-clusters-plotter.git\n",
    "```\n",
    "* Compute features on Spot Level in Mastodon\n",
    "  * Open \"Compute Features View\"\n",
    "  * Select all available Spot features > Compute\n",
    "    * Wait until computation is finished\n",
    "* Compute relative movement for Spots separately\n",
    "  * Plugins > Compute feature > Movement of spots relative to nearest neighbors\n",
    "* Export Spot and table\n",
    "  * Open \"Table View\"\n",
    "  * Select Spot\n",
    "  * File > Export to CSV \n",
    "* Export label image from Mastodon\n",
    "  * Plugins > Exports > Export label image using ellipsoids\n",
    "  * Select “Branch Spot ID” as label id\n",
    "  * Select a frame reduction rate of 1\n",
    "  * Higher frame reduction rates are possible and may speed up analyses in napari clusters plotter\n",
    "  * If a frame reduction rate higher than 1 is used, a version of the intensity image would need to be created (e.g. with Fiji/BigStitcher) with the same frame reduction rate or no intensity image can be loaded into napari"
   ],
   "metadata": {
    "collapsed": false
   }
  },
  {
   "cell_type": "markdown",
   "metadata": {},
   "source": [
    "## Read table from Mastodon"
   ]
  },
  {
   "cell_type": "markdown",
   "metadata": {},
   "source": [
    "#### Set path to tables\n",
    "Enter the path to the table here. Within that folder, there should be one table:\n",
    "* Spot.csv"
   ]
  },
  {
   "cell_type": "code",
   "execution_count": 2,
   "metadata": {
    "collapsed": false,
    "tags": [],
    "ExecuteTime": {
     "end_time": "2024-05-02T09:53:07.162051Z",
     "start_time": "2024-05-02T09:53:07.157947Z"
    }
   },
   "outputs": [],
   "source": [
    "tables_folder_path = ''"
   ]
  },
  {
   "cell_type": "markdown",
   "metadata": {},
   "source": [
    "#### Read tables from path\n",
    "Rows with NaN values are removed."
   ]
  },
  {
   "cell_type": "code",
   "execution_count": 3,
   "metadata": {
    "tags": [],
    "ExecuteTime": {
     "end_time": "2024-05-02T09:53:10.113655Z",
     "start_time": "2024-05-02T09:53:09.098876Z"
    }
   },
   "outputs": [],
   "source": [
    "spot_table_path = Path(tables_folder_path + '/Spot.csv')\n",
    "spot_table = pd.read_csv(spot_table_path, skiprows=[1,2], low_memory=False, encoding='utf-8')\n",
    "# remove rows with NaN values\n",
    "spot_table = spot_table.dropna()\n"
   ]
  },
  {
   "cell_type": "markdown",
   "source": [
    "#### Optionally print head of spot table to check if everything is ok"
   ],
   "metadata": {
    "collapsed": false
   }
  },
  {
   "cell_type": "code",
   "execution_count": 4,
   "outputs": [
    {
     "data": {
      "text/plain": "    Label  ID  Branch spot ID  Spot N links  Spot N links.1  Spot N links.2  \\\n4       4   4             491             1               2               1   \n16     16  16            2216             1               2               1   \n\n    Spot center intensity  Spot ellipsoid aspect ratios  \\\n4            13743.196682                      0.984351   \n16           16971.599822                      0.866112   \n\n    Spot ellipsoid aspect ratios.1  Spot ellipsoid aspect ratios.2  ...  \\\n4                         0.943851                        0.958856  ...   \n16                        0.506872                        0.585227  ...   \n\n    Detection.6  Division  Division.1  Division.2  Proliferator  \\\n4             0         0           0           0             1   \n16            0         0           0           0             0   \n\n    Proliferator.1  Proliferator.2  Status  Tracking  Tracking.1  \n4                0               0       0         1           0  \n16               0               1       0         1           0  \n\n[2 rows x 48 columns]",
      "text/html": "<div>\n<style scoped>\n    .dataframe tbody tr th:only-of-type {\n        vertical-align: middle;\n    }\n\n    .dataframe tbody tr th {\n        vertical-align: top;\n    }\n\n    .dataframe thead th {\n        text-align: right;\n    }\n</style>\n<table border=\"1\" class=\"dataframe\">\n  <thead>\n    <tr style=\"text-align: right;\">\n      <th></th>\n      <th>Label</th>\n      <th>ID</th>\n      <th>Branch spot ID</th>\n      <th>Spot N links</th>\n      <th>Spot N links.1</th>\n      <th>Spot N links.2</th>\n      <th>Spot center intensity</th>\n      <th>Spot ellipsoid aspect ratios</th>\n      <th>Spot ellipsoid aspect ratios.1</th>\n      <th>Spot ellipsoid aspect ratios.2</th>\n      <th>...</th>\n      <th>Detection.6</th>\n      <th>Division</th>\n      <th>Division.1</th>\n      <th>Division.2</th>\n      <th>Proliferator</th>\n      <th>Proliferator.1</th>\n      <th>Proliferator.2</th>\n      <th>Status</th>\n      <th>Tracking</th>\n      <th>Tracking.1</th>\n    </tr>\n  </thead>\n  <tbody>\n    <tr>\n      <th>4</th>\n      <td>4</td>\n      <td>4</td>\n      <td>491</td>\n      <td>1</td>\n      <td>2</td>\n      <td>1</td>\n      <td>13743.196682</td>\n      <td>0.984351</td>\n      <td>0.943851</td>\n      <td>0.958856</td>\n      <td>...</td>\n      <td>0</td>\n      <td>0</td>\n      <td>0</td>\n      <td>0</td>\n      <td>1</td>\n      <td>0</td>\n      <td>0</td>\n      <td>0</td>\n      <td>1</td>\n      <td>0</td>\n    </tr>\n    <tr>\n      <th>16</th>\n      <td>16</td>\n      <td>16</td>\n      <td>2216</td>\n      <td>1</td>\n      <td>2</td>\n      <td>1</td>\n      <td>16971.599822</td>\n      <td>0.866112</td>\n      <td>0.506872</td>\n      <td>0.585227</td>\n      <td>...</td>\n      <td>0</td>\n      <td>0</td>\n      <td>0</td>\n      <td>0</td>\n      <td>0</td>\n      <td>0</td>\n      <td>1</td>\n      <td>0</td>\n      <td>1</td>\n      <td>0</td>\n    </tr>\n  </tbody>\n</table>\n<p>2 rows × 48 columns</p>\n</div>"
     },
     "execution_count": 4,
     "metadata": {},
     "output_type": "execute_result"
    }
   ],
   "source": [
    "spot_table.head(2)"
   ],
   "metadata": {
    "collapsed": false,
    "ExecuteTime": {
     "end_time": "2024-05-02T09:53:11.618300Z",
     "start_time": "2024-05-02T09:53:11.592039Z"
    }
   }
  },
  {
   "cell_type": "markdown",
   "metadata": {},
   "source": [
    "#### Specify frame reduction factor\n",
    "The frame reduction factor is the factor by which the frame rate has been reduced in Mastodon. This is necessary to account for the fact that the label image has been exported with a reduced frame rate, while the spot table has been exported with the original frame rate.\n",
    "Specify here the same factor that has been used when exporting the label image from Mastodon"
   ]
  },
  {
   "cell_type": "code",
   "execution_count": 5,
   "metadata": {
    "collapsed": false,
    "tags": [],
    "ExecuteTime": {
     "end_time": "2024-05-02T09:53:14.131579Z",
     "start_time": "2024-05-02T09:53:14.114502Z"
    }
   },
   "outputs": [],
   "source": [
    "frame_reduction_factor = 1"
   ]
  },
  {
   "cell_type": "code",
   "execution_count": 6,
   "metadata": {
    "collapsed": false,
    "tags": [],
    "ExecuteTime": {
     "end_time": "2024-05-02T09:53:16.814878Z",
     "start_time": "2024-05-02T09:53:16.776990Z"
    }
   },
   "outputs": [],
   "source": [
    "spot_table = spot_table[spot_table['Spot frame'] % frame_reduction_factor == 0]\n",
    "spot_table['Spot frame'] = spot_table['Spot frame'] / frame_reduction_factor\n",
    "spot_table['Spot frame'] = spot_table['Spot frame'].astype(int)"
   ]
  },
  {
   "cell_type": "markdown",
   "metadata": {},
   "source": [
    "#### Optionally print head of spot table to check if everything is ok"
   ]
  },
  {
   "cell_type": "code",
   "execution_count": 7,
   "metadata": {
    "tags": [],
    "ExecuteTime": {
     "end_time": "2024-05-02T09:53:18.569584Z",
     "start_time": "2024-05-02T09:53:18.556362Z"
    }
   },
   "outputs": [
    {
     "data": {
      "text/plain": "    Label  ID  Branch spot ID  Spot N links  Spot N links.1  Spot N links.2  \\\n4       4   4             491             1               2               1   \n16     16  16            2216             1               2               1   \n\n    Spot center intensity  Spot ellipsoid aspect ratios  \\\n4            13743.196682                      0.984351   \n16           16971.599822                      0.866112   \n\n    Spot ellipsoid aspect ratios.1  Spot ellipsoid aspect ratios.2  ...  \\\n4                         0.943851                        0.958856  ...   \n16                        0.506872                        0.585227  ...   \n\n    Detection.6  Division  Division.1  Division.2  Proliferator  \\\n4             0         0           0           0             1   \n16            0         0           0           0             0   \n\n    Proliferator.1  Proliferator.2  Status  Tracking  Tracking.1  \n4                0               0       0         1           0  \n16               0               1       0         1           0  \n\n[2 rows x 48 columns]",
      "text/html": "<div>\n<style scoped>\n    .dataframe tbody tr th:only-of-type {\n        vertical-align: middle;\n    }\n\n    .dataframe tbody tr th {\n        vertical-align: top;\n    }\n\n    .dataframe thead th {\n        text-align: right;\n    }\n</style>\n<table border=\"1\" class=\"dataframe\">\n  <thead>\n    <tr style=\"text-align: right;\">\n      <th></th>\n      <th>Label</th>\n      <th>ID</th>\n      <th>Branch spot ID</th>\n      <th>Spot N links</th>\n      <th>Spot N links.1</th>\n      <th>Spot N links.2</th>\n      <th>Spot center intensity</th>\n      <th>Spot ellipsoid aspect ratios</th>\n      <th>Spot ellipsoid aspect ratios.1</th>\n      <th>Spot ellipsoid aspect ratios.2</th>\n      <th>...</th>\n      <th>Detection.6</th>\n      <th>Division</th>\n      <th>Division.1</th>\n      <th>Division.2</th>\n      <th>Proliferator</th>\n      <th>Proliferator.1</th>\n      <th>Proliferator.2</th>\n      <th>Status</th>\n      <th>Tracking</th>\n      <th>Tracking.1</th>\n    </tr>\n  </thead>\n  <tbody>\n    <tr>\n      <th>4</th>\n      <td>4</td>\n      <td>4</td>\n      <td>491</td>\n      <td>1</td>\n      <td>2</td>\n      <td>1</td>\n      <td>13743.196682</td>\n      <td>0.984351</td>\n      <td>0.943851</td>\n      <td>0.958856</td>\n      <td>...</td>\n      <td>0</td>\n      <td>0</td>\n      <td>0</td>\n      <td>0</td>\n      <td>1</td>\n      <td>0</td>\n      <td>0</td>\n      <td>0</td>\n      <td>1</td>\n      <td>0</td>\n    </tr>\n    <tr>\n      <th>16</th>\n      <td>16</td>\n      <td>16</td>\n      <td>2216</td>\n      <td>1</td>\n      <td>2</td>\n      <td>1</td>\n      <td>16971.599822</td>\n      <td>0.866112</td>\n      <td>0.506872</td>\n      <td>0.585227</td>\n      <td>...</td>\n      <td>0</td>\n      <td>0</td>\n      <td>0</td>\n      <td>0</td>\n      <td>0</td>\n      <td>0</td>\n      <td>1</td>\n      <td>0</td>\n      <td>1</td>\n      <td>0</td>\n    </tr>\n  </tbody>\n</table>\n<p>2 rows × 48 columns</p>\n</div>"
     },
     "execution_count": 7,
     "metadata": {},
     "output_type": "execute_result"
    }
   ],
   "source": [
    "spot_table.head(2)"
   ]
  },
  {
   "cell_type": "markdown",
   "metadata": {},
   "source": [
    "## Change table to match napari-clusters-plotter standards\n",
    "Mastodon 'label' column needs to be removed from the table and replaced with a new column 'label' that contains the spot ID.\n",
    "The spot ID is the Mastodon ID + 1. This is necessary, since the ellipsoid label image starts with 1, while the Mastodon ID starts at 0."
   ]
  },
  {
   "cell_type": "code",
   "execution_count": 8,
   "metadata": {
    "tags": [],
    "ExecuteTime": {
     "end_time": "2024-05-02T09:53:23.165772Z",
     "start_time": "2024-05-02T09:53:23.135407Z"
    }
   },
   "outputs": [],
   "source": [
    "# Remove Label column from Mastodon tables\n",
    "spot_table = spot_table.drop(columns=['Label'])\n",
    "\n",
    "# Add frame and label column to spot table\n",
    "spot_table['frame'] = spot_table['Spot frame'].astype(int)\n",
    "spot_table['label'] = spot_table['ID'].astype(int) + 1 # Turning branch spot ids into labels, NB: + 1 needs to be added, since the ids are counted one based in the respective Mastodon export plugin\n",
    "\n"
   ]
  },
  {
   "cell_type": "markdown",
   "metadata": {},
   "source": [
    "\n",
    "### Currently available Spot features: \n",
    "* Spot center intensity\n",
    "* Spot ellipsoid aspect ratios (a_b)\n",
    "* Spot ellipsoid aspect ratios.1 (a_c)\n",
    "* Spot ellipsoid aspect ratios.2 (b_c)\n",
    "* Spot ellipsoid properties (a)\n",
    "* Spot ellipsoid properties.1 (b)\n",
    "* Spot ellipsoid properties.2 (c)\n",
    "* Spot ellipsoid properties.3 (v)\n",
    "* Spot frame (frame)\n",
    "* Spot intensity (mean)\n",
    "* Spot intensity.1 (std)\n",
    "* Spot intensity.2 (min)\n",
    "* Spot intensity.3 (max)\n",
    "* Spot intensity.4 (median)\n",
    "* Spot intensity.5 (sum)\n",
    "* Spot position (x)\n",
    "* Spot position.1 (y)\n",
    "* Spot position.2 (z)\n",
    "* Spot relative movement (x)\n",
    "* Spot relative movement.1 (y)\n",
    "* Spot relative movement.2 (z)\n",
    "* Spot relative movement.3 (distance)"
   ]
  },
  {
   "cell_type": "markdown",
   "source": [
    "### Optional: create a cell fate column \n",
    "This is only useful, if the cell fate has been annotated in Mastodon."
   ],
   "metadata": {
    "collapsed": false
   }
  },
  {
   "cell_type": "code",
   "execution_count": 33,
   "outputs": [],
   "source": [
    "# Define a function to determine the combined value\n",
    "def cell_fate_values_to_label(row):\n",
    "    if row['cell_fate_spot']:\n",
    "        return 1\n",
    "    elif row['cell_fate.1_spot']:\n",
    "        return 2\n",
    "    elif row['cell_fate.2_spot']:\n",
    "        return 3\n",
    "    elif row['cell_fate.3_spot']:\n",
    "        return 4\n",
    "    elif row['cell_fate.4_spot']:\n",
    "        return 5\n",
    "    elif row['cell_fate.5_spot']:\n",
    "        return 6\n",
    "    elif row['cell_fate.6_spot']:\n",
    "        return 7\n",
    "    elif row['cell_fate.7_spot']:\n",
    "        return 8\n",
    "    elif row['cell_fate.8_spot']:\n",
    "        return 9\n",
    "    elif row['cell_fate.9_spot']:\n",
    "        return 10\n",
    "    elif row['cell_fate.10_spot']:\n",
    "        return 11\n",
    "    elif row['cell_fate.11_spot']:\n",
    "        return 12\n",
    "    elif row['cell_fate.12_spot']:\n",
    "        return 13\n",
    "    else:\n",
    "        return 0 \n",
    "\n",
    "# create a new column 13 different cell fates\n",
    "spot_table['cell_fate'] = spot_table.apply(cell_fate_values_to_label, axis=1)"
   ],
   "metadata": {
    "collapsed": false,
    "ExecuteTime": {
     "end_time": "2023-12-08T17:10:45.036603100Z",
     "start_time": "2023-12-08T17:10:45.023602800Z"
    }
   }
  },
  {
   "cell_type": "markdown",
   "metadata": {},
   "source": [
    "### Remove unnecessary columns to save some RAM"
   ]
  },
  {
   "cell_type": "code",
   "execution_count": 9,
   "metadata": {
    "collapsed": false,
    "tags": [],
    "ExecuteTime": {
     "end_time": "2024-05-02T09:53:31.936985Z",
     "start_time": "2024-05-02T09:53:31.897868Z"
    }
   },
   "outputs": [
    {
     "data": {
      "text/plain": "    label  frame  Spot center intensity  Spot ellipsoid aspect ratios  \\\n4       5    225           13743.196682                      0.984351   \n16     17     89           16971.599822                      0.866112   \n\n    Spot ellipsoid aspect ratios.1  Spot ellipsoid aspect ratios.2  \\\n4                         0.943851                        0.958856   \n16                        0.506872                        0.585227   \n\n    Spot ellipsoid properties  Spot ellipsoid properties.1  \\\n4                    3.218713                     3.269882   \n16                   2.592107                     2.992809   \n\n    Spot ellipsoid properties.2  Spot ellipsoid properties.3  ...  \\\n4                      3.410192                   150.342527  ...   \n16                     5.113925                   166.178515  ...   \n\n    Spot intensity.3  Spot intensity.4  Spot intensity.5  Spot position  \\\n4            38852.0           13178.0        13248596.0      76.696254   \n16           65535.0           16123.0        16511435.0      46.392533   \n\n    Spot position.1  Spot position.2  Spot relative movement  \\\n4         60.373360         8.583054               -0.251165   \n16        62.158733         0.467920               -0.276864   \n\n    Spot relative movement.1  Spot relative movement.2  \\\n4                  -0.436157                  0.073730   \n16                  0.972453                 -0.225214   \n\n    Spot relative movement.3  \n4                   0.508677  \n16                  1.035877  \n\n[2 rows x 23 columns]",
      "text/html": "<div>\n<style scoped>\n    .dataframe tbody tr th:only-of-type {\n        vertical-align: middle;\n    }\n\n    .dataframe tbody tr th {\n        vertical-align: top;\n    }\n\n    .dataframe thead th {\n        text-align: right;\n    }\n</style>\n<table border=\"1\" class=\"dataframe\">\n  <thead>\n    <tr style=\"text-align: right;\">\n      <th></th>\n      <th>label</th>\n      <th>frame</th>\n      <th>Spot center intensity</th>\n      <th>Spot ellipsoid aspect ratios</th>\n      <th>Spot ellipsoid aspect ratios.1</th>\n      <th>Spot ellipsoid aspect ratios.2</th>\n      <th>Spot ellipsoid properties</th>\n      <th>Spot ellipsoid properties.1</th>\n      <th>Spot ellipsoid properties.2</th>\n      <th>Spot ellipsoid properties.3</th>\n      <th>...</th>\n      <th>Spot intensity.3</th>\n      <th>Spot intensity.4</th>\n      <th>Spot intensity.5</th>\n      <th>Spot position</th>\n      <th>Spot position.1</th>\n      <th>Spot position.2</th>\n      <th>Spot relative movement</th>\n      <th>Spot relative movement.1</th>\n      <th>Spot relative movement.2</th>\n      <th>Spot relative movement.3</th>\n    </tr>\n  </thead>\n  <tbody>\n    <tr>\n      <th>4</th>\n      <td>5</td>\n      <td>225</td>\n      <td>13743.196682</td>\n      <td>0.984351</td>\n      <td>0.943851</td>\n      <td>0.958856</td>\n      <td>3.218713</td>\n      <td>3.269882</td>\n      <td>3.410192</td>\n      <td>150.342527</td>\n      <td>...</td>\n      <td>38852.0</td>\n      <td>13178.0</td>\n      <td>13248596.0</td>\n      <td>76.696254</td>\n      <td>60.373360</td>\n      <td>8.583054</td>\n      <td>-0.251165</td>\n      <td>-0.436157</td>\n      <td>0.073730</td>\n      <td>0.508677</td>\n    </tr>\n    <tr>\n      <th>16</th>\n      <td>17</td>\n      <td>89</td>\n      <td>16971.599822</td>\n      <td>0.866112</td>\n      <td>0.506872</td>\n      <td>0.585227</td>\n      <td>2.592107</td>\n      <td>2.992809</td>\n      <td>5.113925</td>\n      <td>166.178515</td>\n      <td>...</td>\n      <td>65535.0</td>\n      <td>16123.0</td>\n      <td>16511435.0</td>\n      <td>46.392533</td>\n      <td>62.158733</td>\n      <td>0.467920</td>\n      <td>-0.276864</td>\n      <td>0.972453</td>\n      <td>-0.225214</td>\n      <td>1.035877</td>\n    </tr>\n  </tbody>\n</table>\n<p>2 rows × 23 columns</p>\n</div>"
     },
     "execution_count": 9,
     "metadata": {},
     "output_type": "execute_result"
    }
   ],
   "source": [
    "columns_to_keep = ['label', 'frame', 'Spot center intensity', 'Spot ellipsoid aspect ratios', 'Spot ellipsoid aspect ratios.1', 'Spot ellipsoid aspect ratios.2', 'Spot ellipsoid properties', 'Spot ellipsoid properties.1', 'Spot ellipsoid properties.2', 'Spot ellipsoid properties.3', 'Spot intensity', 'Spot intensity.1', 'Spot intensity.2', 'Spot intensity.3', 'Spot intensity.4', 'Spot intensity.5', 'Spot position', 'Spot position.1', 'Spot position.2', 'Spot relative movement', 'Spot relative movement.1', 'Spot relative movement.2', 'Spot relative movement.3']\n",
    "if 'cell_fate' in spot_table.columns:\n",
    "    columns_to_keep.append('cell_fate')\n",
    "spot_table = spot_table[columns_to_keep]\n",
    "spot_table.head(2)\n"
   ]
  },
  {
   "cell_type": "markdown",
   "metadata": {},
   "source": [
    "### Rename columns to have more meaningful names"
   ]
  },
  {
   "cell_type": "code",
   "execution_count": 10,
   "metadata": {
    "collapsed": false,
    "tags": [],
    "ExecuteTime": {
     "end_time": "2024-05-02T09:53:34.947848Z",
     "start_time": "2024-05-02T09:53:34.923848Z"
    }
   },
   "outputs": [
    {
     "data": {
      "text/plain": "    label  frame  Spot center intensity  Spot ellipsoid aspect ratio a_b  \\\n4       5    225           13743.196682                         0.984351   \n16     17     89           16971.599822                         0.866112   \n\n    Spot ellipsoid aspect ratio a_c  Spot ellipsoid aspect ratio b_c  \\\n4                          0.943851                         0.958856   \n16                         0.506872                         0.585227   \n\n    Spot ellipsoid a  Spot ellipsoid b  Spot ellipsoid c  Spot ellipsoid v  \\\n4           3.218713          3.269882          3.410192        150.342527   \n16          2.592107          2.992809          5.113925        166.178515   \n\n    ...  Spot intensity (max)  Spot intensity (median)  Spot intensity (sum)  \\\n4   ...               38852.0                  13178.0            13248596.0   \n16  ...               65535.0                  16123.0            16511435.0   \n\n    Spot position x  Spot position y  Spot position z  \\\n4         76.696254        60.373360         8.583054   \n16        46.392533        62.158733         0.467920   \n\n    Spot relative movement x  Spot relative movement y  \\\n4                  -0.251165                 -0.436157   \n16                 -0.276864                  0.972453   \n\n    Spot relative movement z  Spot relative movement distance  \n4                   0.073730                         0.508677  \n16                 -0.225214                         1.035877  \n\n[2 rows x 23 columns]",
      "text/html": "<div>\n<style scoped>\n    .dataframe tbody tr th:only-of-type {\n        vertical-align: middle;\n    }\n\n    .dataframe tbody tr th {\n        vertical-align: top;\n    }\n\n    .dataframe thead th {\n        text-align: right;\n    }\n</style>\n<table border=\"1\" class=\"dataframe\">\n  <thead>\n    <tr style=\"text-align: right;\">\n      <th></th>\n      <th>label</th>\n      <th>frame</th>\n      <th>Spot center intensity</th>\n      <th>Spot ellipsoid aspect ratio a_b</th>\n      <th>Spot ellipsoid aspect ratio a_c</th>\n      <th>Spot ellipsoid aspect ratio b_c</th>\n      <th>Spot ellipsoid a</th>\n      <th>Spot ellipsoid b</th>\n      <th>Spot ellipsoid c</th>\n      <th>Spot ellipsoid v</th>\n      <th>...</th>\n      <th>Spot intensity (max)</th>\n      <th>Spot intensity (median)</th>\n      <th>Spot intensity (sum)</th>\n      <th>Spot position x</th>\n      <th>Spot position y</th>\n      <th>Spot position z</th>\n      <th>Spot relative movement x</th>\n      <th>Spot relative movement y</th>\n      <th>Spot relative movement z</th>\n      <th>Spot relative movement distance</th>\n    </tr>\n  </thead>\n  <tbody>\n    <tr>\n      <th>4</th>\n      <td>5</td>\n      <td>225</td>\n      <td>13743.196682</td>\n      <td>0.984351</td>\n      <td>0.943851</td>\n      <td>0.958856</td>\n      <td>3.218713</td>\n      <td>3.269882</td>\n      <td>3.410192</td>\n      <td>150.342527</td>\n      <td>...</td>\n      <td>38852.0</td>\n      <td>13178.0</td>\n      <td>13248596.0</td>\n      <td>76.696254</td>\n      <td>60.373360</td>\n      <td>8.583054</td>\n      <td>-0.251165</td>\n      <td>-0.436157</td>\n      <td>0.073730</td>\n      <td>0.508677</td>\n    </tr>\n    <tr>\n      <th>16</th>\n      <td>17</td>\n      <td>89</td>\n      <td>16971.599822</td>\n      <td>0.866112</td>\n      <td>0.506872</td>\n      <td>0.585227</td>\n      <td>2.592107</td>\n      <td>2.992809</td>\n      <td>5.113925</td>\n      <td>166.178515</td>\n      <td>...</td>\n      <td>65535.0</td>\n      <td>16123.0</td>\n      <td>16511435.0</td>\n      <td>46.392533</td>\n      <td>62.158733</td>\n      <td>0.467920</td>\n      <td>-0.276864</td>\n      <td>0.972453</td>\n      <td>-0.225214</td>\n      <td>1.035877</td>\n    </tr>\n  </tbody>\n</table>\n<p>2 rows × 23 columns</p>\n</div>"
     },
     "execution_count": 10,
     "metadata": {},
     "output_type": "execute_result"
    }
   ],
   "source": [
    "new_columns = {'Spot ellipsoid aspect ratios': 'Spot ellipsoid aspect ratio a_b', 'Spot ellipsoid aspect ratios.1': 'Spot ellipsoid aspect ratio a_c', 'Spot ellipsoid aspect ratios.2': 'Spot ellipsoid aspect ratio b_c', 'Spot ellipsoid properties': 'Spot ellipsoid axis a', 'Spot ellipsoid properties.1': 'Spot ellipsoid axis b', 'Spot ellipsoid properties.2': 'Spot ellipsoid axis c', 'Spot ellipsoid properties.3': 'Spot ellipsoid axis v', 'Spot intensity' : 'Spot intensity (mean)', 'Spot intensity.1' : 'Spot intensity (std)', 'Spot intensity.2' : 'Spot intensity (min)', 'Spot intensity.3' : 'Spot intensity (max)', 'Spot intensity.4' : 'Spot intensity (median)', 'Spot intensity.5' : 'Spot intensity (sum)', 'Spot position' : 'Spot position x', 'Spot position.1' : 'Spot position y', 'Spot position.2' : 'Spot position z', 'Spot relative movement' : 'Spot relative movement x', 'Spot relative movement.1' : 'Spot relative movement y', 'Spot relative movement.2' : 'Spot relative movement z', 'Spot relative movement.3' : 'Spot relative movement distance'}\n",
    "\n",
    "if 'cell_fate' in spot_table.columns:\n",
    "    new_columns['cell_fate'] = 'Cell fate_CLUSTER_ID'\n",
    "\n",
    "# Rename the columns using the dictionary\n",
    "spot_table.rename(columns=new_columns, inplace=True)\n",
    "spot_table.head(2)"
   ]
  },
  {
   "cell_type": "markdown",
   "metadata": {},
   "source": [
    "### Optionally export measurements to CSV file\n",
    "This can be skipped if the measurements are not needed outside napari."
   ]
  },
  {
   "cell_type": "code",
   "execution_count": 11,
   "metadata": {
    "collapsed": false,
    "tags": [],
    "ExecuteTime": {
     "end_time": "2023-12-20T15:10:36.192897800Z",
     "start_time": "2023-12-20T15:10:34.030820100Z"
    }
   },
   "outputs": [],
   "source": [
    "spot_table.to_csv(tables_folder_path + '/' + 'measurements_spot_' + str(frame_reduction_factor) + '.csv', sep=',', quotechar='\"', index=False)"
   ]
  },
  {
   "cell_type": "markdown",
   "metadata": {},
   "source": [
    "## View in napari\n",
    "* Installation instructions for napari can be found [here](https://biapol.github.io/blog/mara_lampert/getting_started_with_mambaforge_and_python/readme.html)."
   ]
  },
  {
   "cell_type": "markdown",
   "metadata": {},
   "source": [
    "### Read label image\n",
    "The label image is expected to be exported from Mastodon with the following settings:\n",
    "* Label Id: *Spot ID*\n",
    "* Frame rate reduction: expected to be the same as the frame reduction factor specified above"
   ]
  },
  {
   "cell_type": "markdown",
   "metadata": {},
   "source": [
    "#### Set path to label image\n",
    "Enter the path to the label image here."
   ]
  },
  {
   "cell_type": "code",
   "execution_count": 11,
   "metadata": {
    "collapsed": false,
    "tags": [],
    "ExecuteTime": {
     "end_time": "2024-05-02T09:53:59.451387Z",
     "start_time": "2024-05-02T09:53:59.445387Z"
    }
   },
   "outputs": [],
   "source": [
    "label_image_path = ''"
   ]
  },
  {
   "cell_type": "markdown",
   "metadata": {},
   "source": [
    "#### Read label image from path"
   ]
  },
  {
   "cell_type": "code",
   "execution_count": 12,
   "metadata": {
    "collapsed": false,
    "tags": [],
    "ExecuteTime": {
     "end_time": "2024-05-02T09:54:42.469670Z",
     "start_time": "2024-05-02T09:54:06.656966Z"
    }
   },
   "outputs": [],
   "source": [
    "#### Read label image from path\n",
    "label_image_path = Path(label_image_path)\n",
    "label_image = imread(label_image_path)"
   ]
  },
  {
   "cell_type": "markdown",
   "metadata": {},
   "source": [
    "#### Optionally print shape of label image to check if everything is ok, order: t, z, y, x"
   ]
  },
  {
   "cell_type": "code",
   "execution_count": 13,
   "metadata": {
    "collapsed": false,
    "tags": [],
    "ExecuteTime": {
     "end_time": "2024-05-02T09:54:54.006685Z",
     "start_time": "2024-05-02T09:54:53.993348Z"
    }
   },
   "outputs": [
    {
     "name": "stdout",
     "output_type": "stream",
     "text": [
      "(504, 12, 500, 1024)\n"
     ]
    }
   ],
   "source": [
    "print(label_image.shape)"
   ]
  },
  {
   "cell_type": "markdown",
   "metadata": {},
   "source": [
    "### Optionally read intensity image\n",
    "This will only work with no frame reduction"
   ]
  },
  {
   "cell_type": "markdown",
   "metadata": {},
   "source": [
    "#### Optionally set path to intensity image\n",
    "Enter the path to the intensity image here."
   ]
  },
  {
   "cell_type": "code",
   "execution_count": 20,
   "metadata": {
    "collapsed": false,
    "tags": [],
    "ExecuteTime": {
     "end_time": "2024-05-02T10:00:24.558977Z",
     "start_time": "2024-05-02T10:00:24.545978Z"
    }
   },
   "outputs": [],
   "source": [
    "intensity_image_path = ''"
   ]
  },
  {
   "cell_type": "markdown",
   "metadata": {},
   "source": [
    "#### Optionally read intensity image from path"
   ]
  },
  {
   "cell_type": "code",
   "execution_count": 21,
   "metadata": {
    "collapsed": false,
    "tags": [],
    "ExecuteTime": {
     "end_time": "2024-05-02T10:00:34.371932Z",
     "start_time": "2024-05-02T10:00:29.407947Z"
    }
   },
   "outputs": [],
   "source": [
    "intensity_image_path = Path(intensity_image_path)\n",
    "intensity_image = imread(intensity_image_path)"
   ]
  },
  {
   "cell_type": "markdown",
   "metadata": {},
   "source": [
    "#### Optionally print shape of intensity image to check if everything is ok. Order: t, z, y, x"
   ]
  },
  {
   "cell_type": "code",
   "execution_count": 22,
   "metadata": {
    "collapsed": false,
    "tags": [],
    "ExecuteTime": {
     "end_time": "2024-05-02T10:00:36.825573Z",
     "start_time": "2024-05-02T10:00:36.813573Z"
    }
   },
   "outputs": [
    {
     "name": "stdout",
     "output_type": "stream",
     "text": [
      "(504, 12, 500, 1024)\n"
     ]
    }
   ],
   "source": [
    "print(intensity_image.shape)"
   ]
  },
  {
   "cell_type": "markdown",
   "metadata": {},
   "source": [
    "### Open napari viewer"
   ]
  },
  {
   "cell_type": "code",
   "execution_count": 14,
   "metadata": {
    "tags": [],
    "ExecuteTime": {
     "end_time": "2024-05-02T09:55:32.665408Z",
     "start_time": "2024-05-02T09:55:13.494692Z"
    }
   },
   "outputs": [],
   "source": [
    "viewer = napari.Viewer()"
   ]
  },
  {
   "cell_type": "markdown",
   "metadata": {},
   "source": [
    "### Add label image"
   ]
  },
  {
   "cell_type": "code",
   "execution_count": 16,
   "metadata": {
    "tags": [],
    "ExecuteTime": {
     "end_time": "2024-05-02T09:55:44.615842Z",
     "start_time": "2024-05-02T09:55:44.297453Z"
    }
   },
   "outputs": [],
   "source": [
    "labels_layer = viewer.add_labels(label_image, features=spot_table)"
   ]
  },
  {
   "cell_type": "markdown",
   "metadata": {},
   "source": [
    "### Set scale of label image\n",
    "Due to bugs both in Mastodon export and in Napari import scale needs to be set manually.\n",
    "Expected order: t, z, y, x"
   ]
  },
  {
   "cell_type": "code",
   "execution_count": 17,
   "metadata": {
    "collapsed": false,
    "tags": [],
    "ExecuteTime": {
     "end_time": "2024-05-02T09:55:47.234148Z",
     "start_time": "2024-05-02T09:55:47.205686Z"
    }
   },
   "outputs": [],
   "source": [
    "# labels_layer.scale = (1, 2.48, 0.31196313094933187, 0.31196313094933187)\n",
    "# labels_layer.scale = (1, 2.03, 0.41, 0.41)\n",
    "# set scale in napari terminal\n",
    "# viewer.layers[0].scale = (1, 2.48, 0.31196313094933187, 0.31196313094933187)"
   ]
  },
  {
   "cell_type": "markdown",
   "source": [
    "### Optionally add intensity image\n",
    "This will only work, if the intensity image has the same frame reduction rate as the label image."
   ],
   "metadata": {
    "collapsed": false
   }
  },
  {
   "cell_type": "code",
   "execution_count": 23,
   "outputs": [],
   "source": [
    "intensity_layer = viewer.add_image(intensity_image)"
   ],
   "metadata": {
    "collapsed": false,
    "ExecuteTime": {
     "end_time": "2024-05-02T10:00:51.061491Z",
     "start_time": "2024-05-02T10:00:50.797478Z"
    }
   }
  },
  {
   "cell_type": "markdown",
   "source": [
    "### Optionally Set scale of intensity image\n",
    "Due to bugs both in Mastodon export and in Napari import scale needs to be set manually.\n",
    "Expected order: t, z, y, x\n",
    "Should be the same as for the label image."
   ],
   "metadata": {
    "collapsed": false
   }
  },
  {
   "cell_type": "code",
   "execution_count": 24,
   "outputs": [],
   "source": [
    "# intensity_layer.scale = (1, 2.48, 0.31196313094933187, 0.31196313094933187)\n",
    "# intensity_layer.scale = (1, 2.03, 0.41, 0.41)"
   ],
   "metadata": {
    "collapsed": false,
    "ExecuteTime": {
     "end_time": "2024-05-02T10:00:58.143099Z",
     "start_time": "2024-05-02T10:00:58.118983Z"
    }
   }
  },
  {
   "cell_type": "markdown",
   "metadata": {},
   "source": [
    "### Turn on 3D view"
   ]
  },
  {
   "cell_type": "code",
   "execution_count": 18,
   "metadata": {
    "collapsed": false,
    "tags": [],
    "ExecuteTime": {
     "end_time": "2024-05-02T09:55:58.762860Z",
     "start_time": "2024-05-02T09:55:58.658734Z"
    }
   },
   "outputs": [],
   "source": [
    "viewer.dims.ndisplay = 3"
   ]
  },
  {
   "cell_type": "markdown",
   "metadata": {},
   "source": [
    "### Load napari-clusters-plotter plugin"
   ]
  },
  {
   "cell_type": "code",
   "execution_count": 19,
   "metadata": {
    "ExecuteTime": {
     "end_time": "2024-05-02T09:56:19.033019Z",
     "start_time": "2024-05-02T09:56:18.913855Z"
    }
   },
   "outputs": [
    {
     "data": {
      "text/plain": "(<napari._qt.widgets.qt_viewer_dock_widget.QtViewerDockWidget at 0x15239e9fca0>,\n <napari_clusters_plotter._plotter.PlotterWidget at 0x1520d2d5550>)"
     },
     "execution_count": 19,
     "metadata": {},
     "output_type": "execute_result"
    }
   ],
   "source": [
    "viewer.window.add_plugin_dock_widget(plugin_name='napari-clusters-plotter', widget_name='Plotter Widget')\n"
   ]
  },
  {
   "cell_type": "markdown",
   "source": [
    "## You are ready to use the napari-clusters-plotter with the Mastodon data plugin now.\n",
    "# Consult the documentation of the napari-clusters-plotter for further instructions, if needed.\n",
    "* https://www.youtube.com/watch?v=qZ8KDrgL1Ro\n",
    "* https://github.com/BiAPoL/napari-clusters-plotter"
   ],
   "metadata": {
    "collapsed": false
   }
  }
 ],
 "metadata": {
  "kernelspec": {
   "display_name": "Python 3 (ipykernel)",
   "language": "python",
   "name": "python3"
  },
  "language_info": {
   "codemirror_mode": {
    "name": "ipython",
    "version": 3
   },
   "file_extension": ".py",
   "mimetype": "text/x-python",
   "name": "python",
   "nbconvert_exporter": "python",
   "pygments_lexer": "ipython3",
   "version": "3.9.18"
  }
 },
 "nbformat": 4,
 "nbformat_minor": 4
}
