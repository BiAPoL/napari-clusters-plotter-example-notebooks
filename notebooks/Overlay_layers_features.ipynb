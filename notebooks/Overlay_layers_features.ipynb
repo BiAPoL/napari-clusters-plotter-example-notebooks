{
 "cells": [
  {
   "cell_type": "code",
   "execution_count": 1,
   "metadata": {},
   "outputs": [],
   "source": [
    "import napari\n",
    "from skimage import data\n",
    "import numpy as np\n",
    "from skimage import measure, morphology, filters\n",
    "import pandas as pd"
   ]
  },
  {
   "cell_type": "code",
   "execution_count": 2,
   "metadata": {},
   "outputs": [],
   "source": [
    "image = data.human_mitosis()\n",
    "nrows, ncols = image.shape"
   ]
  },
  {
   "cell_type": "code",
   "execution_count": 3,
   "metadata": {},
   "outputs": [],
   "source": [
    "image1 = image[:nrows//2, :ncols//2]\n",
    "image2 = image[:nrows//2, ncols//2:]\n",
    "image3 = image[nrows//2:, :ncols//2]\n",
    "image4 = image[nrows//2:, ncols//2:]\n",
    "image_list = [image1, image2, image3, image4]"
   ]
  },
  {
   "attachments": {},
   "cell_type": "markdown",
   "metadata": {},
   "source": [
    "Create Label Images"
   ]
  },
  {
   "cell_type": "code",
   "execution_count": 4,
   "metadata": {},
   "outputs": [],
   "source": [
    "labels_list = []\n",
    "for image in image_list:\n",
    "    filtered = filters.gaussian(image, 1)\n",
    "    th = filters.threshold_otsu(filtered)\n",
    "    binary = filtered > th\n",
    "    labels = measure.label(binary)\n",
    "    labels_list.append(labels)"
   ]
  },
  {
   "attachments": {},
   "cell_type": "markdown",
   "metadata": {},
   "source": [
    "Feature Extraction"
   ]
  },
  {
   "cell_type": "code",
   "execution_count": 5,
   "metadata": {},
   "outputs": [],
   "source": [
    "tables_list = []\n",
    "for labels, image, i in zip(labels_list, image_list, range(len(image_list))):\n",
    "    table = pd.DataFrame(measure.regionprops_table(labels, image, properties=['label', \n",
    "                                                                                'area', \n",
    "                                                                                'axis_major_length', \n",
    "                                                                                'axis_major_length', \n",
    "                                                                                'feret_diameter_max', \n",
    "                                                                                'orientation', \n",
    "                                                                                'solidity', \n",
    "                                                                                'eccentricity', \n",
    "                                                                                'intensity_mean',\n",
    "    ]))\n",
    "    table['frame'] = i+1\n",
    "    tables_list.append(table)"
   ]
  },
  {
   "attachments": {},
   "cell_type": "markdown",
   "metadata": {},
   "source": [
    "concat tables"
   ]
  },
  {
   "cell_type": "code",
   "execution_count": 6,
   "metadata": {},
   "outputs": [],
   "source": [
    "master_table = pd.concat(tables_list)\n",
    "master_table"
   ]
  },
  {
   "attachments": {},
   "cell_type": "markdown",
   "metadata": {},
   "source": [
    "Stack labels"
   ]
  },
  {
   "cell_type": "code",
   "execution_count": 7,
   "metadata": {},
   "outputs": [],
   "source": [
    "labels_stack = np.stack(labels_list)\n",
    "labels_stack.shape"
   ]
  },
  {
   "attachments": {},
   "cell_type": "markdown",
   "metadata": {},
   "source": [
    "Open in napari"
   ]
  },
  {
   "cell_type": "code",
   "execution_count": 9,
   "metadata": {},
   "outputs": [
    {
     "name": "stderr",
     "output_type": "stream",
     "text": [
      "WARNING: QWindowsWindow::setGeometry: Unable to set geometry 5760x3099-11517+78 (frame: 5792x3187-11533+6) on QWidgetWindow/\"_QtMainWindowClassWindow\" on \"\\\\.\\DISPLAY1\". Resulting geometry: 3844x2108-11517+78 (frame: 3876x2196-11533+6) margins: 16, 72, 16, 16 minimum size: 374x553 MINMAXINFO maxSize=0,0 maxpos=0,0 mintrack=1154,1747 maxtrack=0,0)\n"
     ]
    },
    {
     "data": {
      "text/plain": [
       "<Labels layer 'labels_stack' at 0x254c1751e20>"
      ]
     },
     "execution_count": 9,
     "metadata": {},
     "output_type": "execute_result"
    },
    {
     "name": "stderr",
     "output_type": "stream",
     "text": [
      "WARNING: QWindowsWindow::setGeometry: Unable to set geometry 4224x2004+0+57 (frame: 4256x2092-16-15) on QWidgetWindow/\"_QtMainWindowClassWindow\" on \"\\\\.\\DISPLAY1\". Resulting geometry: 3840x2004+0+56 (frame: 3872x2092-16-16) margins: 16, 72, 16, 16 minimum size: 1408x554 MINMAXINFO maxSize=0,0 maxpos=0,0 mintrack=4256,1750 maxtrack=0,0)\n"
     ]
    }
   ],
   "source": [
    "viewer = napari.Viewer()\n",
    "viewer.add_labels(labels_stack, features=master_table)"
   ]
  },
  {
   "cell_type": "code",
   "execution_count": null,
   "metadata": {},
   "outputs": [],
   "source": []
  }
 ],
 "metadata": {
  "kernelspec": {
   "display_name": "napari-clusters-plotter-dev",
   "language": "python",
   "name": "python3"
  },
  "language_info": {
   "codemirror_mode": {
    "name": "ipython",
    "version": 3
   },
   "file_extension": ".py",
   "mimetype": "text/x-python",
   "name": "python",
   "nbconvert_exporter": "python",
   "pygments_lexer": "ipython3",
   "version": "3.9.16"
  },
  "orig_nbformat": 4,
  "vscode": {
   "interpreter": {
    "hash": "388d56522165585dc5b00e05942f3d15549ef1736dcb37908e1982ccf9e3a4c9"
   }
  }
 },
 "nbformat": 4,
 "nbformat_minor": 2
}
